{
 "cells": [
  {
   "cell_type": "markdown",
   "metadata": {},
   "source": [
    "# Using the Initializer\n",
    "\n",
    "It seems natural to say that every drone should have an altitude.  In our previous example, we first created our Drone instance without any data attributes.  We then had to add the altitude attribute manually before calling the `ascend()` method."
   ]
  },
  {
   "cell_type": "code",
   "execution_count": 12,
   "metadata": {
    "collapsed": false
   },
   "outputs": [
    {
     "name": "stdout",
     "output_type": "stream",
     "text": [
      "The drone is flying at 0 feet.\n",
      "The drone is flying at 100 feet.\n"
     ]
    }
   ],
   "source": [
    "class Drone:\n",
    "    \n",
    "    def fly(self):\n",
    "        print(\"The drone is flying at\", self.altitude, \"feet.\")\n",
    "    \n",
    "    def ascend(self, change):\n",
    "        self.altitude += change\n",
    "    \n",
    "d = Drone()\n",
    "d.altitude = 0\n",
    "d.fly()\n",
    "d.ascend(100)\n",
    "d.fly()"
   ]
  },
  {
   "cell_type": "markdown",
   "metadata": {},
   "source": [
    "Notice that we had to add the attribute for the class to really work.  If we forgot to create the instance attribute, our call to ascend would raise an exception.  This way of creating classes is error-prone, and it's also bad programming style.  Intuitively, an object should be able to work the moment it's created.\n",
    "\n",
    "One solution could be to make altitude a class attribute, but that distorts the meaning of class attribute.  There's really no sense in which altitude is a property of all drones together.\n",
    "\n",
    "A better solution is to create an instance attribute at the moment at which each drone is constructed.  We can do that using a special method, `__init__`.  This method is called automatically when an object is constructed.  It's a great place to set up an object properly so that it's ready to operate.  In this case, we can use `__init__` to set an altitude instance attribute for every drone."
   ]
  },
  {
   "cell_type": "code",
   "execution_count": 5,
   "metadata": {
    "collapsed": false
   },
   "outputs": [
    {
     "name": "stdout",
     "output_type": "stream",
     "text": [
      "The drone is flying at 100 feet.\n",
      "The drone is flying at 0 feet.\n"
     ]
    }
   ],
   "source": [
    "class Drone:\n",
    "    \n",
    "    def __init__(self, altitude = 0):\n",
    "        self.altitude = altitude\n",
    "    \n",
    "    def fly(self):\n",
    "        print(\"The drone is flying at\", self.altitude, \"feet.\")\n",
    "    \n",
    "    def ascend(self, change):\n",
    "        self.altitude += change\n",
    "    \n",
    "d1 = Drone(100)\n",
    "d1.fly()\n",
    "d2 = Drone()\n",
    "d2.fly()"
   ]
  },
  {
   "cell_type": "markdown",
   "metadata": {},
   "source": [
    "Notice that we no longer have to manually set the altitude attribute.  Instead, we can include the starting attribute as an argument to the `Drone` constructor.  At the moment the drone is created, the `__init__` method is called.  Notice that this method has a self parameter like all other methods.  We can use this parameter to set the instance attribute using `self.altitude`.\n",
    "\n",
    "Notice that we included a default value for `altitude`.  This means that our code is backwards-compatible.  We can still call the constructor without a parameter, a default altitude of zero is then used.\n",
    "\n",
    "Programmers will often call `__init__` the class constructor.  This isn't 100% accurate: the proper name for this method is the initializer.  By the time this method is executed, the object has already been created - it has a namespace and methods, for example.  The initializer is essentially the last step in the contruction process.  The difference is a subtle one and we will often refer to `__init__` as the contructor ourselves."
   ]
  },
  {
   "cell_type": "markdown",
   "metadata": {},
   "source": [
    "## Counting with Data Attributes\n",
    "\n",
    "A common use of data attributes is keeping track of how many times an action has taken place.  Typically, such a variable will be initialized to zero, and then incremented whenever a specific method is called.  For example, suppose we wanted to keep track of how many times a particular Drone has ascended in altitude.  Take a moment and consider what type of attribute you would need for this purpose.\n",
    "\n",
    "In fact, each drone might have ascended a different number of times; this suggests that we need an instance attribute.  In the code below, we add an attribute, `ascend_count`, creating it in the constructor."
   ]
  },
  {
   "cell_type": "code",
   "execution_count": 2,
   "metadata": {
    "collapsed": false
   },
   "outputs": [
    {
     "name": "stdout",
     "output_type": "stream",
     "text": [
      "0\n",
      "2\n"
     ]
    }
   ],
   "source": [
    "class Drone:\n",
    "    \n",
    "    def __init__(self, altitude = 0):\n",
    "        self.altitude = altitude\n",
    "        self.ascend_count = 0\n",
    "    \n",
    "    def fly(self):\n",
    "        print(\"The drone is flying at\", self.altitude, \"feet.\")\n",
    "    \n",
    "    def ascend(self, change):\n",
    "        self.altitude += change\n",
    "        self.ascend_count += 1\n",
    "    \n",
    "d1 = Drone(100)\n",
    "print(d1.ascend_count)\n",
    "d1.ascend(50)\n",
    "d1.ascend(50)\n",
    "d1.fly\n",
    "print(d1.ascend_count)\n"
   ]
  },
  {
   "cell_type": "markdown",
   "metadata": {},
   "source": [
    "Next, suppose we wanted to keep track of how many Drones we created.  Unlike the `ascend_count`, this is not a property of individual Drones.  Instead, we could make it a class attribute:"
   ]
  },
  {
   "cell_type": "code",
   "execution_count": 3,
   "metadata": {
    "collapsed": false
   },
   "outputs": [
    {
     "name": "stdout",
     "output_type": "stream",
     "text": [
      "1\n",
      "3\n"
     ]
    }
   ],
   "source": [
    "class Drone:\n",
    "    \n",
    "    num_drones = 0\n",
    "    \n",
    "    def __init__(self, altitude = 0):\n",
    "        self.altitude = altitude\n",
    "        self.ascend_count = 0\n",
    "        Drone.num_drones += 1\n",
    "    \n",
    "    def fly(self):\n",
    "        print(\"The drone is flying at\", self.altitude, \"feet.\")\n",
    "    \n",
    "    def ascend(self, change):\n",
    "        self.altitude += change\n",
    "        self.ascend_count += 1\n",
    "\n",
    "    \n",
    "d1 = Drone(100)\n",
    "d1.ascend(50)\n",
    "d1.ascend(50)\n",
    "d1.fly\n",
    "print(Drone.num_drones)\n",
    "d2 = Drone()\n",
    "d3 = Drone()\n",
    "print(d3.num_drones)"
   ]
  },
  {
   "cell_type": "markdown",
   "metadata": {},
   "source": [
    "Notice that in order to increment our new attribute, we had to refer to it as `Drone.num_drones` from inside the constructor."
   ]
  },
  {
   "cell_type": "markdown",
   "metadata": {},
   "source": [
    "As you program, make sure that you identify whether a piece of data makes sense as an instance attribute or as a class attribute.  This is a key concept of object-oriented programming. "
   ]
  }
 ],
 "metadata": {
  "kernelspec": {
   "display_name": "Python 3",
   "language": "python",
   "name": "python3"
  },
  "language_info": {
   "codemirror_mode": {
    "name": "ipython",
    "version": 3
   },
   "file_extension": ".py",
   "mimetype": "text/x-python",
   "name": "python",
   "nbconvert_exporter": "python",
   "pygments_lexer": "ipython3",
   "version": "3.4.3"
  }
 },
 "nbformat": 4,
 "nbformat_minor": 0
}
