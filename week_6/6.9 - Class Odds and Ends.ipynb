{
 "cells": [
  {
   "cell_type": "markdown",
   "metadata": {},
   "source": [
    "# Properties\n",
    "\n",
    "Properties are an advanced feature of Python that you won't see too often, but it's worth knowing what they look like in case you encounter them.\n",
    "\n",
    "Previously, we discussed different ways of accessing a class's data attributes.  If all we need to do is get the value and set the value, it's more appropriate to access the attribute directly.  If we have to do extra processing or control access in some way, we can do that with getter and setter methods.\n",
    "\n",
    "There may be situations in which you first write a program that accesses a data attribute directly, then change your mind.  Perhaps you realized that some basic processing is needed when setting a value, but you don't want to rewrite all the code in your larger program.  You would like to add the functionality of a setter method without changing the interface to your class.\n",
    "\n",
    "Python allows us to do this with a feature called properties.  In the code below, suppose we created our Drone class with a non-hidden altitude attribute."
   ]
  },
  {
   "cell_type": "code",
   "execution_count": 4,
   "metadata": {
    "collapsed": false
   },
   "outputs": [
    {
     "name": "stdout",
     "output_type": "stream",
     "text": [
      "The Drone's altitude is 100\n",
      "The Drone's altitude is 300\n"
     ]
    }
   ],
   "source": [
    "class Drone:\n",
    "    \n",
    "    def __init__(self, altitude = 0):\n",
    "        self.altitude = altitude\n",
    "        self.ascend_count = 0\n",
    "    \n",
    "    def fly(self):\n",
    "        print(\"The drone is flying at\", self.altitude, \"feet.\")\n",
    "    \n",
    "    def ascend(self, change):\n",
    "        self.altitude += change\n",
    "        self.ascend_count += 1\n",
    "    \n",
    "d1 = Drone(100)\n",
    "print(\"The Drone's altitude is\", d1.altitude)\n",
    "d1.altitude = 300\n",
    "print(\"The Drone's altitude is\", d1.altitude)"
   ]
  },
  {
   "cell_type": "markdown",
   "metadata": {},
   "source": [
    "We now realize that we want to make sure that altitude is never below zero.  Unfortunately, we already have a large program that accesses this attribute directly, so we don't want to switch to a setter method.  Instead, we can use a property.  We first make the attribute hidden and create getter and setter methods.  We then define a property using these methods."
   ]
  },
  {
   "cell_type": "code",
   "execution_count": 9,
   "metadata": {
    "collapsed": false
   },
   "outputs": [
    {
     "name": "stdout",
     "output_type": "stream",
     "text": [
      "The Drone's altitude is 100\n",
      "The Drone's altitude is 300\n"
     ]
    },
    {
     "ename": "Exception",
     "evalue": "Drone cannot have a negative altitude.",
     "output_type": "error",
     "traceback": [
      "\u001b[0;31m---------------------------------------------------------------------------\u001b[0m",
      "\u001b[0;31mException\u001b[0m                                 Traceback (most recent call last)",
      "\u001b[0;32m<ipython-input-9-8e8aaaf009b8>\u001b[0m in \u001b[0;36m<module>\u001b[0;34m()\u001b[0m\n\u001b[1;32m     26\u001b[0m \u001b[0md1\u001b[0m\u001b[0;34m.\u001b[0m\u001b[0maltitude\u001b[0m \u001b[0;34m=\u001b[0m \u001b[0;36m300\u001b[0m\u001b[0;34m\u001b[0m\u001b[0m\n\u001b[1;32m     27\u001b[0m \u001b[0mprint\u001b[0m\u001b[0;34m(\u001b[0m\u001b[0;34m\"The Drone's altitude is\"\u001b[0m\u001b[0;34m,\u001b[0m \u001b[0md1\u001b[0m\u001b[0;34m.\u001b[0m\u001b[0maltitude\u001b[0m\u001b[0;34m)\u001b[0m\u001b[0;34m\u001b[0m\u001b[0m\n\u001b[0;32m---> 28\u001b[0;31m \u001b[0md1\u001b[0m\u001b[0;34m.\u001b[0m\u001b[0maltitude\u001b[0m \u001b[0;34m=\u001b[0m \u001b[0;34m-\u001b[0m\u001b[0;36m10\u001b[0m\u001b[0;34m\u001b[0m\u001b[0m\n\u001b[0m",
      "\u001b[0;32m<ipython-input-9-8e8aaaf009b8>\u001b[0m in \u001b[0;36mset_altitude\u001b[0;34m(self, new_altitude)\u001b[0m\n\u001b[1;32m     17\u001b[0m     \u001b[0;32mdef\u001b[0m \u001b[0mset_altitude\u001b[0m\u001b[0;34m(\u001b[0m\u001b[0mself\u001b[0m\u001b[0;34m,\u001b[0m \u001b[0mnew_altitude\u001b[0m\u001b[0;34m)\u001b[0m\u001b[0;34m:\u001b[0m\u001b[0;34m\u001b[0m\u001b[0m\n\u001b[1;32m     18\u001b[0m         \u001b[0;32mif\u001b[0m \u001b[0mnew_altitude\u001b[0m \u001b[0;34m<\u001b[0m \u001b[0;36m0\u001b[0m\u001b[0;34m:\u001b[0m\u001b[0;34m\u001b[0m\u001b[0m\n\u001b[0;32m---> 19\u001b[0;31m             \u001b[0;32mraise\u001b[0m \u001b[0mException\u001b[0m\u001b[0;34m(\u001b[0m\u001b[0;34m\"Drone cannot have a negative altitude.\"\u001b[0m\u001b[0;34m)\u001b[0m\u001b[0;34m\u001b[0m\u001b[0m\n\u001b[0m\u001b[1;32m     20\u001b[0m         \u001b[0mself\u001b[0m\u001b[0;34m.\u001b[0m\u001b[0m__altitude\u001b[0m \u001b[0;34m=\u001b[0m \u001b[0mnew_altitude\u001b[0m\u001b[0;34m\u001b[0m\u001b[0m\n\u001b[1;32m     21\u001b[0m \u001b[0;34m\u001b[0m\u001b[0m\n",
      "\u001b[0;31mException\u001b[0m: Drone cannot have a negative altitude."
     ]
    }
   ],
   "source": [
    "class Drone:\n",
    "    \n",
    "    def __init__(self, altitude = 0):\n",
    "        self.__altitude = altitude\n",
    "        self.ascend_count = 0\n",
    "    \n",
    "    def fly(self):\n",
    "        print(\"The drone is flying at\", self.__altitude, \"feet.\")\n",
    "    \n",
    "    def ascend(self, change):\n",
    "        self.__altitude += change\n",
    "        self.ascend_count += 1\n",
    "        \n",
    "    def get_altitude(self):\n",
    "        return self.__altitude\n",
    "    \n",
    "    def set_altitude(self, new_altitude):\n",
    "        if new_altitude < 0:\n",
    "            raise Exception(\"Drone cannot have a negative altitude.\")\n",
    "        self.__altitude = new_altitude\n",
    "        \n",
    "    altitude = property(get_altitude, set_altitude)\n",
    "    \n",
    "d1 = Drone(100)\n",
    "print(\"The Drone's altitude is\", d1.altitude)\n",
    "d1.altitude = 300\n",
    "print(\"The Drone's altitude is\", d1.altitude)\n",
    "d1.altitude = -10"
   ]
  },
  {
   "cell_type": "markdown",
   "metadata": {},
   "source": [
    "From outside the class, we access the property in exactly the same way as we would access a data attribute.  We put the name of the property after a period after the name of the Drone instance.  Behind the scenes, however, the getter and setter methods are called to actually do the work.\n",
    "\n",
    "Should you use properties?  As with so many things, the answer boils down to readability.  The property syntax is simple, but it might mislead other programmers into thinking that nothing much is happening in the class.  If you put a lot of processing in your getter and setter methods, it's generally better to call those methods explicitly.  In our case, the additional processing we added is really minimal, so the property is a reasonable solution.\n",
    "\n",
    "Below, we demonstrate a different syntax for defining properties, using decorators.  These are the lines begining with `@` that appear before method headers.  The `@property` decorator goes before the getter method.  The setter method gets a decorator with the name of the property followed by `.setter`."
   ]
  },
  {
   "cell_type": "code",
   "execution_count": 10,
   "metadata": {
    "collapsed": false
   },
   "outputs": [
    {
     "name": "stdout",
     "output_type": "stream",
     "text": [
      "The Drone's altitude is 100\n",
      "The Drone's altitude is 300\n"
     ]
    },
    {
     "ename": "Exception",
     "evalue": "Drone cannot have a negative altitude.",
     "output_type": "error",
     "traceback": [
      "\u001b[0;31m---------------------------------------------------------------------------\u001b[0m",
      "\u001b[0;31mException\u001b[0m                                 Traceback (most recent call last)",
      "\u001b[0;32m<ipython-input-10-5d2aaef4316e>\u001b[0m in \u001b[0;36m<module>\u001b[0;34m()\u001b[0m\n\u001b[1;32m     27\u001b[0m \u001b[0md1\u001b[0m\u001b[0;34m.\u001b[0m\u001b[0maltitude\u001b[0m \u001b[0;34m=\u001b[0m \u001b[0;36m300\u001b[0m\u001b[0;34m\u001b[0m\u001b[0m\n\u001b[1;32m     28\u001b[0m \u001b[0mprint\u001b[0m\u001b[0;34m(\u001b[0m\u001b[0;34m\"The Drone's altitude is\"\u001b[0m\u001b[0;34m,\u001b[0m \u001b[0md1\u001b[0m\u001b[0;34m.\u001b[0m\u001b[0maltitude\u001b[0m\u001b[0;34m)\u001b[0m\u001b[0;34m\u001b[0m\u001b[0m\n\u001b[0;32m---> 29\u001b[0;31m \u001b[0md1\u001b[0m\u001b[0;34m.\u001b[0m\u001b[0maltitude\u001b[0m \u001b[0;34m=\u001b[0m \u001b[0;34m-\u001b[0m\u001b[0;36m10\u001b[0m\u001b[0;34m\u001b[0m\u001b[0m\n\u001b[0m",
      "\u001b[0;32m<ipython-input-10-5d2aaef4316e>\u001b[0m in \u001b[0;36maltitude\u001b[0;34m(self, new_altitude)\u001b[0m\n\u001b[1;32m     19\u001b[0m     \u001b[0;32mdef\u001b[0m \u001b[0maltitude\u001b[0m\u001b[0;34m(\u001b[0m\u001b[0mself\u001b[0m\u001b[0;34m,\u001b[0m \u001b[0mnew_altitude\u001b[0m\u001b[0;34m)\u001b[0m\u001b[0;34m:\u001b[0m\u001b[0;34m\u001b[0m\u001b[0m\n\u001b[1;32m     20\u001b[0m         \u001b[0;32mif\u001b[0m \u001b[0mnew_altitude\u001b[0m \u001b[0;34m<\u001b[0m \u001b[0;36m0\u001b[0m\u001b[0;34m:\u001b[0m\u001b[0;34m\u001b[0m\u001b[0m\n\u001b[0;32m---> 21\u001b[0;31m             \u001b[0;32mraise\u001b[0m \u001b[0mException\u001b[0m\u001b[0;34m(\u001b[0m\u001b[0;34m\"Drone cannot have a negative altitude.\"\u001b[0m\u001b[0;34m)\u001b[0m\u001b[0;34m\u001b[0m\u001b[0m\n\u001b[0m\u001b[1;32m     22\u001b[0m         \u001b[0mself\u001b[0m\u001b[0;34m.\u001b[0m\u001b[0m__altitude\u001b[0m \u001b[0;34m=\u001b[0m \u001b[0mnew_altitude\u001b[0m\u001b[0;34m\u001b[0m\u001b[0m\n\u001b[1;32m     23\u001b[0m \u001b[0;34m\u001b[0m\u001b[0m\n",
      "\u001b[0;31mException\u001b[0m: Drone cannot have a negative altitude."
     ]
    }
   ],
   "source": [
    "class Drone:\n",
    "    \n",
    "    def __init__(self, altitude = 0):\n",
    "        self.__altitude = altitude\n",
    "        self.ascend_count = 0\n",
    "    \n",
    "    def fly(self):\n",
    "        print(\"The drone is flying at\", self.__altitude, \"feet.\")\n",
    "    \n",
    "    def ascend(self, change):\n",
    "        self.__altitude += change\n",
    "        self.ascend_count += 1\n",
    "        \n",
    "    @property\n",
    "    def altitude(self):\n",
    "        return self.__altitude\n",
    "        \n",
    "    @altitude.setter\n",
    "    def altitude(self, new_altitude):\n",
    "        if new_altitude < 0:\n",
    "            raise Exception(\"Drone cannot have a negative altitude.\")\n",
    "        self.__altitude = new_altitude\n",
    "        \n",
    "    \n",
    "d1 = Drone(100)\n",
    "print(\"The Drone's altitude is\", d1.altitude)\n",
    "d1.altitude = 300\n",
    "print(\"The Drone's altitude is\", d1.altitude)\n",
    "d1.altitude = -10"
   ]
  },
  {
   "cell_type": "markdown",
   "metadata": {
    "collapsed": false
   },
   "source": [
    "## Class Methods and Static Methods\n",
    "\n",
    "All the methods we've written so far have been instance methods.  They get bound to a particular instance and the self parameter always refers to that instance.  Most of the time, this is the only type of method you need, but it's worth noting that Python has two other types of methods.\n",
    "\n",
    "The method types are:\n",
    "\n",
    "- Instance methods\n",
    "- Class methods\n",
    "- Static methods\n",
    "\n",
    "We create class methods and static methods using decorators.  These are those special instructions beginning with `@` that come before a function header."
   ]
  },
  {
   "cell_type": "markdown",
   "metadata": {},
   "source": [
    "When we create a class method, the first parameter of the method is bound to the class instead of the instance.  We can demonstrate that below."
   ]
  },
  {
   "cell_type": "code",
   "execution_count": 14,
   "metadata": {
    "collapsed": false
   },
   "outputs": [
    {
     "name": "stdout",
     "output_type": "stream",
     "text": [
      "<class '__main__.Drone'>\n",
      "<class '__main__.Drone'>\n"
     ]
    }
   ],
   "source": [
    "class Drone:\n",
    "    \n",
    "    def __init__(self, altitude = 0):\n",
    "        self.altitude = altitude\n",
    "        self.ascend_count = 0\n",
    "    \n",
    "    def fly(self):\n",
    "        print(\"The drone is flying at\", self.altitude, \"feet.\")\n",
    "    \n",
    "    def ascend(self, change):\n",
    "        self.altitude += change\n",
    "        self.ascend_count += 1\n",
    "    \n",
    "    @classmethod\n",
    "    def print_class(cls):\n",
    "        print(cls)\n",
    "        \n",
    "    \n",
    "d1 = Drone(100)\n",
    "d1.print_class()\n",
    "Drone.print_class()"
   ]
  },
  {
   "cell_type": "markdown",
   "metadata": {},
   "source": [
    "Even when we call our method on a particular instance, the cls parameter is bound to the class, `Drone`.  As an aside, the name `cls` has no special meaning in Python.  Just like `self`, what's important is that it's the first parameter, but the convention is to name it `cls` so others know what you're doing.\n",
    "\n",
    "You might wonder what a class method is good for.  We would typically use a class method to access class attributes.  For example, we might use one to get the total number of drones we created."
   ]
  },
  {
   "cell_type": "code",
   "execution_count": 17,
   "metadata": {
    "collapsed": false
   },
   "outputs": [
    {
     "name": "stdout",
     "output_type": "stream",
     "text": [
      "1\n",
      "2\n"
     ]
    }
   ],
   "source": [
    "class Drone:\n",
    "    \n",
    "    __num_drones = 0\n",
    "    \n",
    "    def __init__(self, altitude = 0):\n",
    "        self.altitude = altitude\n",
    "        self.ascend_count = 0\n",
    "        Drone.__num_drones += 1\n",
    "    \n",
    "    def fly(self):\n",
    "        print(\"The drone is flying at\", self.altitude, \"feet.\")\n",
    "    \n",
    "    def ascend(self, change):\n",
    "        self.altitude += change\n",
    "        self.ascend_count += 1\n",
    "    \n",
    "    @classmethod\n",
    "    def get_num_drones(cls):\n",
    "        return cls.__num_drones\n",
    "        \n",
    "    \n",
    "d1 = Drone(100)\n",
    "print(d1.get_num_drones())\n",
    "d2 = Drone(200)\n",
    "print(d2.get_num_drones())"
   ]
  },
  {
   "cell_type": "markdown",
   "metadata": {},
   "source": [
    "Notice that the class method only performs operations that pertain to the class as a whole, not individual instances.  We could have written the same code without declaring the method to be a class method, and not much would have to change.  Still, the `@classmethod` decorator alerts us to the fact that we're not affecting the given instance, so it can be good programming style."
   ]
  },
  {
   "cell_type": "markdown",
   "metadata": {
    "collapsed": true
   },
   "source": [
    "The last method type are `staticmethods`. These methods don't have a reference to either an instance or a class. Because of this, they are very limited in what they can do.  We would typically use them for operations that are relevant to a class, but that don't actually affect any attributes.\n",
    "\n",
    "For example, we might use a method to convert from meters to feet, since our altitude is measured in feet.  Such a method doesn't need a reference to the instance or the class, so we can declare it a static method."
   ]
  },
  {
   "cell_type": "code",
   "execution_count": 18,
   "metadata": {
    "collapsed": false
   },
   "outputs": [
    {
     "name": "stdout",
     "output_type": "stream",
     "text": [
      "656.168\n"
     ]
    }
   ],
   "source": [
    "class Drone:\n",
    "    \n",
    "    __num_drones = 0\n",
    "    \n",
    "    def __init__(self, altitude = 0):\n",
    "        self.altitude = altitude\n",
    "        self.ascend_count = 0\n",
    "        Drone.__num_drones += 1\n",
    "    \n",
    "    def fly(self):\n",
    "        print(\"The drone is flying at\", self.altitude, \"feet.\")\n",
    "    \n",
    "    def ascend(self, change):\n",
    "        self.altitude += change\n",
    "        self.ascend_count += 1\n",
    "    \n",
    "    @staticmethod\n",
    "    def feet_from_meters(meters):\n",
    "        return meters * 3.28084\n",
    "        \n",
    "    \n",
    "d1 = Drone(100)\n",
    "d1.altitude = Drone.feet_from_meters(200)\n",
    "print(d1.altitude)"
   ]
  },
  {
   "cell_type": "markdown",
   "metadata": {},
   "source": [
    "This method would work fine without the `@staticmethod` decorator, but the decorator alerts us to the fact that the instance and the class can't be changed by the method.  As you continue to learn about classes, you will start seeing places that class methods and static methods can be useful."
   ]
  }
 ],
 "metadata": {
  "kernelspec": {
   "display_name": "Python 3",
   "language": "python",
   "name": "python3"
  },
  "language_info": {
   "codemirror_mode": {
    "name": "ipython",
    "version": 3
   },
   "file_extension": ".py",
   "mimetype": "text/x-python",
   "name": "python",
   "nbconvert_exporter": "python",
   "pygments_lexer": "ipython3",
   "version": "3.4.3"
  }
 },
 "nbformat": 4,
 "nbformat_minor": 0
}
