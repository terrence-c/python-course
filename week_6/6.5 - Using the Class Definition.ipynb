{
 "cells": [
  {
   "cell_type": "markdown",
   "metadata": {},
   "source": [
    "# Using the Class Definition\n",
    "\n",
    "We have seen how to add attributes to classes and instances manually, after they have been created.  This is occasionally useful, but most of the time, we actually create attributes inside the definition of a class.  This makes our code more organized and ensures that all instances share the attributes we really want them to share.\n",
    "\n",
    "Let's see how to do this now.  Here, we will define our Drone class again, including a data attribute and a method inside the definition."
   ]
  },
  {
   "cell_type": "code",
   "execution_count": 1,
   "metadata": {
    "collapsed": true
   },
   "outputs": [],
   "source": [
    "class Drone:\n",
    "    \n",
    "    power_system = \"battery\"\n",
    "    \n",
    "    def fly(self):\n",
    "        return \"The drone is flying\""
   ]
  },
  {
   "cell_type": "markdown",
   "metadata": {},
   "source": [
    "In the first line of the class definition, we create a class data attribute, power_system.  Notice that it looks just like a variable assignment, but because it occurs inside the class definition, it creates a class attribute instead of a regular variable.\n",
    "\n",
    "Next, we have a method definition.  This looks a lot like a definition of a function, but notice that there is an unusual argument in the method header: self.  We will see what that does in just a moment.  \n",
    "\n",
    "Now that we have defined the fly method, we can call it on a particular instance of the class."
   ]
  },
  {
   "cell_type": "code",
   "execution_count": 2,
   "metadata": {
    "collapsed": false
   },
   "outputs": [
    {
     "name": "stdout",
     "output_type": "stream",
     "text": [
      "The drone is flying\n"
     ]
    }
   ],
   "source": [
    "d = Drone()\n",
    "print(d.fly())"
   ]
  },
  {
   "cell_type": "markdown",
   "metadata": {},
   "source": [
    "In the first line, we create a new instance of the `Drone` class and assign it to the variable `d`. Next, we call d's fly method and print out the result.\n",
    "\n",
    "Let's go back to that mysterious self argument we put in the method header.  This is actually a way to access the attributes of the specific instance we are working in.  Since we call the fly method on the instance d, self is a name that points to the object d.\n",
    "\n",
    "To see how this is useful, let's revise our fly method so that it accesses the power_system attribute."
   ]
  },
  {
   "cell_type": "code",
   "execution_count": 1,
   "metadata": {
    "collapsed": false
   },
   "outputs": [],
   "source": [
    "class Drone:\n",
    "    power_system = \"battery\"\n",
    "    \n",
    "    def fly(self):\n",
    "        return \"The \" + self.power_system + \"-powered drone is flying\""
   ]
  },
  {
   "cell_type": "markdown",
   "metadata": {},
   "source": [
    "Here self.power_system means that we want the power_system attribute for the specific instance that we are in.  You can think of self as meaning \"this instance.\"  Let's create some instances and use this revised method."
   ]
  },
  {
   "cell_type": "code",
   "execution_count": 2,
   "metadata": {
    "collapsed": false
   },
   "outputs": [
    {
     "name": "stdout",
     "output_type": "stream",
     "text": [
      "The dream-powered drone is flying\n",
      "The battery-powered drone is flying\n"
     ]
    }
   ],
   "source": [
    "d1 = Drone()\n",
    "d2 = Drone()\n",
    "d1.power_system = \"dream\"\n",
    "print(d1.fly())\n",
    "print(d2.fly())"
   ]
  },
  {
   "cell_type": "markdown",
   "metadata": {},
   "source": [
    "Notice that we gave d1 an instance attribute named power_system.  When we call self.power_system, we get this instance attribute.  On the other hand, d2 does not have a power_system instance attribute, so self.power_system defaults to the class attribute.\n",
    "\n",
    "Let's add a new method to our class, one that takes a parameter."
   ]
  },
  {
   "cell_type": "code",
   "execution_count": 12,
   "metadata": {
    "collapsed": false
   },
   "outputs": [
    {
     "name": "stdout",
     "output_type": "stream",
     "text": [
      "The drone is flying at 0 feet.\n",
      "The drone is flying at 100 feet.\n"
     ]
    }
   ],
   "source": [
    "class Drone:\n",
    "    \n",
    "    def fly(self):\n",
    "        print(\"The drone is flying at\", self.altitude, \"feet.\")\n",
    "    \n",
    "    def ascend(self, change):\n",
    "        self.altitude += change\n",
    "    \n",
    "d = Drone()\n",
    "d.altitude = 0\n",
    "d.fly()\n",
    "d.ascend(100)\n",
    "d.fly()"
   ]
  },
  {
   "cell_type": "markdown",
   "metadata": {},
   "source": [
    "As you can see, we create a Drone instance d, and give it an altitude data attribute.  By calling the ascend method, we then increase the altitude attribute by 100.  Notice that we call the method with a single argument, 100, but the method header has two parameters, self and change.  When the ascend method is bound to a particular instance, d, the instance is always inserted as the first parameter.  Other arguments that we include are always shifted over, so the 100 is actually bound to the second parameter, change.\n",
    "\n",
    "By the way, there's actually nothing special about the word `self` in Python.  It's just the fact that it's the first parameter in the method header.  You could name the first parameter `me` if you wanted to, and then refer to instance attributes with expressions like `me.altitude`.  The usual convention, however, is to name this parameter `self`.  This ensures that other programmers can quickly understand what you're doing."
   ]
  }
 ],
 "metadata": {
  "kernelspec": {
   "display_name": "Python 3",
   "language": "python",
   "name": "python3"
  },
  "language_info": {
   "codemirror_mode": {
    "name": "ipython",
    "version": 3
   },
   "file_extension": ".py",
   "mimetype": "text/x-python",
   "name": "python",
   "nbconvert_exporter": "python",
   "pygments_lexer": "ipython3",
   "version": "3.4.3"
  }
 },
 "nbformat": 4,
 "nbformat_minor": 0
}
