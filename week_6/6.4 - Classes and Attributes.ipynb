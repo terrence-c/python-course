{
 "cells": [
  {
   "cell_type": "markdown",
   "metadata": {},
   "source": [
    "# Classes\n",
    "\n",
    "Classes are one of the most fundamental ideas behind modern software development. When we learned about functions we saw how they can help modularize our code.  Classes are an even more powerful tool, helping us break down complex programs into manageable pieces with understandable behaviors. Much like functions, classes have to be defined before we can use them."
   ]
  },
  {
   "cell_type": "markdown",
   "metadata": {},
   "source": [
    "Classes are constructed with the `class` keyword.  Here's the simplest class definition, which does not define any attributes."
   ]
  },
  {
   "cell_type": "code",
   "execution_count": 1,
   "metadata": {
    "collapsed": false
   },
   "outputs": [],
   "source": [
    "class Drone:\n",
    "    \"\"\"Base class for all drone aircraft\"\"\""
   ]
  },
  {
   "cell_type": "markdown",
   "metadata": {},
   "source": [
    "Notice the Python multiline string below the class definition.\n",
    "\n",
    "Remember that multiline strings start with `\"\"\"` and signify that all text should be included until the next `\"\"\"` is encountered, even if it appears several lines later. In this case, this string is a description of the class, called a Docstring. Later, when we forget what the class is for, we can access the doctring using the IPython Notebook."
   ]
  },
  {
   "cell_type": "code",
   "execution_count": 2,
   "metadata": {
    "collapsed": false
   },
   "outputs": [],
   "source": [
    "?Drone"
   ]
  },
  {
   "cell_type": "markdown",
   "metadata": {},
   "source": [
    "Which will print out as follows:\n",
    "```\n",
    "Type:       type\n",
    "String Form:<class '__main__.Drone'>\n",
    "Docstring:  Base class for all drone aircraft\n",
    "```"
   ]
  },
  {
   "cell_type": "markdown",
   "metadata": {},
   "source": [
    "We cannot stress the importance of good documentation enough, and it is especially important when creating new classes. It is very difficult to understand the purpose of classes that somebody else wrote (or that you wrote a long time ago).  By cultivating the habit of documenting everything clearly, you will save other programmers hours of time so they can jump right in and start using classes that you write."
   ]
  },
  {
   "cell_type": "markdown",
   "metadata": {},
   "source": [
    "Now that we have a Drone class, we can use it to make several Drone instances. The class is the template, which can be used to make any number of identical instances. Notice that the instances have type Drone."
   ]
  },
  {
   "cell_type": "code",
   "execution_count": 5,
   "metadata": {
    "collapsed": false
   },
   "outputs": [
    {
     "name": "stdout",
     "output_type": "stream",
     "text": [
      "d1 has type <class '__main__.Drone'>  d2 has type <class '__main__.Drone'>\n"
     ]
    }
   ],
   "source": [
    "d1 = Drone()\n",
    "d2 = Drone()\n",
    "print(\"d1 has type\", type(d1), \" d2 has type\", type(d2))"
   ]
  },
  {
   "cell_type": "markdown",
   "metadata": {},
   "source": [
    "Now we have one Drone class with two Drone instances. At the moment, they do not really do anything useful; they are basically empty objects."
   ]
  },
  {
   "cell_type": "markdown",
   "metadata": {},
   "source": [
    "To make our Drone objects more useful, we need to give them attributes.  Attributes define the outward behavior of objects.  They include data attributes and methods.  Data attributes are the easiest to understand.  First we will explain how to add data attributes to objects; then we will move on to methods in the following lessons."
   ]
  },
  {
   "cell_type": "markdown",
   "metadata": {},
   "source": [
    "## Data Attributes\n",
    "\n",
    "Let's add some data attributes to our Drones. Normally, this is done inside the body of the class definition.  To make things clearer though, we will create data attributes manually, then explain how to use the class definition later.\n",
    "\n",
    "Creating a new data attribute can be done much like creating a new variable.  We put the name of the attribute we want after a dot."
   ]
  },
  {
   "cell_type": "code",
   "execution_count": 7,
   "metadata": {
    "collapsed": true
   },
   "outputs": [],
   "source": [
    "Drone.power_system = \"Battery\""
   ]
  },
  {
   "cell_type": "markdown",
   "metadata": {},
   "source": [
    "We have just created what we call a class attribute. That means that power_system is something that applies to all Drones, not just one instance. Notice, however, that we can still access the attribute from the instances."
   ]
  },
  {
   "cell_type": "code",
   "execution_count": 8,
   "metadata": {
    "collapsed": false
   },
   "outputs": [
    {
     "name": "stdout",
     "output_type": "stream",
     "text": [
      "Battery\n",
      "Battery\n",
      "Battery\n"
     ]
    }
   ],
   "source": [
    "print(d1.power_system)\n",
    "print(d2.power_system)\n",
    "print(Drone.power_system)"
   ]
  },
  {
   "cell_type": "markdown",
   "metadata": {},
   "source": [
    "Our class definition allows us to easily make lots of copies of the object we want.  Once they are created, though, we can individualize them.  Suppose that d1 is a Drone that happens to be powered by gasoline.  We can change power_system for just d1."
   ]
  },
  {
   "cell_type": "code",
   "execution_count": 9,
   "metadata": {
    "collapsed": true
   },
   "outputs": [],
   "source": [
    "d1.power_system = \"Gasoline\""
   ]
  },
  {
   "cell_type": "markdown",
   "metadata": {},
   "source": [
    "We just created what we call an instance attribute. This is an attribute that is attached to a specific instance object. We did not change the attribute for the Drone class, but when we try to access d1.powersystem, the instance attribute will override the class attribute. You can see this below."
   ]
  },
  {
   "cell_type": "code",
   "execution_count": 10,
   "metadata": {
    "collapsed": false
   },
   "outputs": [
    {
     "name": "stdout",
     "output_type": "stream",
     "text": [
      "Gasoline\n",
      "Battery\n",
      "Battery\n"
     ]
    }
   ],
   "source": [
    "print(d1.power_system)\n",
    "print(d2.power_system)\n",
    "print(Drone.power_system)"
   ]
  },
  {
   "cell_type": "markdown",
   "metadata": {},
   "source": [
    "Let's also add an attribute to represent altitude.  This should clearly be an instance attribute since altitude is really a property of each individual Drone, not Drones as a whole."
   ]
  },
  {
   "cell_type": "code",
   "execution_count": 11,
   "metadata": {
    "collapsed": true
   },
   "outputs": [],
   "source": [
    "d1.altitude = 100\n",
    "d2.altitude = 150"
   ]
  },
  {
   "cell_type": "markdown",
   "metadata": {},
   "source": [
    "This is an important takeaway: class attributes are useful for things that describe all instances of a class (although they can be overridden for specific instances); instance attributes are useful for things that make each instance unique."
   ]
  },
  {
   "cell_type": "markdown",
   "metadata": {},
   "source": [
    "## Listing Attributes\n",
    "\n",
    "If we want to investigate what attributes our Drone objects have, we can use a special Python function, *dir*."
   ]
  },
  {
   "cell_type": "code",
   "execution_count": 13,
   "metadata": {
    "collapsed": false
   },
   "outputs": [
    {
     "data": {
      "text/plain": [
       "['__class__',\n",
       " '__delattr__',\n",
       " '__dict__',\n",
       " '__dir__',\n",
       " '__doc__',\n",
       " '__eq__',\n",
       " '__format__',\n",
       " '__ge__',\n",
       " '__getattribute__',\n",
       " '__gt__',\n",
       " '__hash__',\n",
       " '__init__',\n",
       " '__le__',\n",
       " '__lt__',\n",
       " '__module__',\n",
       " '__ne__',\n",
       " '__new__',\n",
       " '__reduce__',\n",
       " '__reduce_ex__',\n",
       " '__repr__',\n",
       " '__setattr__',\n",
       " '__sizeof__',\n",
       " '__str__',\n",
       " '__subclasshook__',\n",
       " '__weakref__',\n",
       " 'altitude',\n",
       " 'power_system']"
      ]
     },
     "execution_count": 13,
     "metadata": {},
     "output_type": "execute_result"
    }
   ],
   "source": [
    "dir(d1)"
   ]
  },
  {
   "cell_type": "markdown",
   "metadata": {},
   "source": [
    "As you can see, our object actually has a lot of attributes.  At the very bottom of the list, you can find the two attributes that we added: power_system and altitude.  \n",
    "\n",
    "The other attributes in this list are attributes that Python automatically adds to every object we create.  They begin and end with two underscores, which signifies that they have a special built-in meaning.  Some of these are behind-the-scenes attributes that we usually don't worry about as programmers.  A lot of them are methods, but there are some data attributes as well.  For example, \\_\\_class\\_\\_ is a data attribute that stores the type of each object."
   ]
  },
  {
   "cell_type": "code",
   "execution_count": 15,
   "metadata": {
    "collapsed": false
   },
   "outputs": [
    {
     "data": {
      "text/plain": [
       "__main__.Drone"
      ]
     },
     "execution_count": 15,
     "metadata": {},
     "output_type": "execute_result"
    }
   ],
   "source": [
    "d1.__class__"
   ]
  },
  {
   "cell_type": "markdown",
   "metadata": {},
   "source": [
    "This is the same type that you can access using the type function."
   ]
  },
  {
   "cell_type": "code",
   "execution_count": 18,
   "metadata": {
    "collapsed": false
   },
   "outputs": [
    {
     "data": {
      "text/plain": [
       "__main__.Drone"
      ]
     },
     "execution_count": 18,
     "metadata": {},
     "output_type": "execute_result"
    }
   ],
   "source": [
    "type(d1)"
   ]
  },
  {
   "cell_type": "markdown",
   "metadata": {},
   "source": [
    "Another important data attribute is the \\_\\_dict\\_\\_ attribute.  This is a dictionary that actually holds all the attributes that are specific to an object.  This is part of how Python finds an attribute when we put the name after a dot."
   ]
  },
  {
   "cell_type": "code",
   "execution_count": 22,
   "metadata": {
    "collapsed": false
   },
   "outputs": [
    {
     "data": {
      "text/plain": [
       "{'altitude': 100, 'power_system': 'Gasoline'}"
      ]
     },
     "execution_count": 22,
     "metadata": {},
     "output_type": "execute_result"
    }
   ],
   "source": [
    "d1.__dict__"
   ]
  },
  {
   "cell_type": "markdown",
   "metadata": {},
   "source": [
    "We usually do not need to worry about these attributes, but it is good to know that they exist."
   ]
  }
 ],
 "metadata": {
  "kernelspec": {
   "display_name": "Python 3",
   "language": "python",
   "name": "python3"
  },
  "language_info": {
   "codemirror_mode": {
    "name": "ipython",
    "version": 3
   },
   "file_extension": ".py",
   "mimetype": "text/x-python",
   "name": "python",
   "nbconvert_exporter": "python",
   "pygments_lexer": "ipython3",
   "version": "3.4.3"
  }
 },
 "nbformat": 4,
 "nbformat_minor": 0
}
