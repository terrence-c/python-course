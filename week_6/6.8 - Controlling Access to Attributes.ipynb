{
 "cells": [
  {
   "cell_type": "markdown",
   "metadata": {},
   "source": [
    "# Direct Access versus Getters and Setters\n",
    "\n",
    "An important consideration when writing a class is the way in which data attributes are accessed from outside an instance. As an example, remember that one of our Drone attributes was altitude.  We would usually get and set its value by writing `.altitude` after the name of the instance:"
   ]
  },
  {
   "cell_type": "code",
   "execution_count": 3,
   "metadata": {
    "collapsed": false
   },
   "outputs": [
    {
     "name": "stdout",
     "output_type": "stream",
     "text": [
      "The Drone's altitude is 100\n",
      "The Drone's altitude is 300\n"
     ]
    }
   ],
   "source": [
    "class Drone:\n",
    "    \n",
    "    num_drones = 0\n",
    "    \n",
    "    def __init__(self, altitude = 0):\n",
    "        self.altitude = altitude\n",
    "        self.ascend_count = 0\n",
    "        Drone.num_drones += 1\n",
    "    \n",
    "    def fly(self):\n",
    "        print(\"The drone is flying at\", self.altitude, \"feet.\")\n",
    "    \n",
    "    def ascend(self, change):\n",
    "        self.altitude += change\n",
    "        self.ascend_count += 1\n",
    "\n",
    "    \n",
    "d1 = Drone(100)\n",
    "print(\"The Drone's altitude is\", d1.altitude)\n",
    "d1.altitude = 300\n",
    "print(\"The Drone's altitude is\", d1.altitude)\n"
   ]
  },
  {
   "cell_type": "markdown",
   "metadata": {},
   "source": [
    "While that seems natural, it isn't the only style for accessing data attributes.  Some programmers, especially those used to coding in Java, would find it more natural to write a method to return the attribute's value and a method to set the value.  These are known as getter and setter methods.\n"
   ]
  },
  {
   "cell_type": "code",
   "execution_count": 4,
   "metadata": {
    "collapsed": false
   },
   "outputs": [
    {
     "name": "stdout",
     "output_type": "stream",
     "text": [
      "The Drone's altitude is 100\n",
      "The Drone's altitude is 300\n"
     ]
    }
   ],
   "source": [
    "class Drone:\n",
    "    \n",
    "    num_drones = 0\n",
    "    \n",
    "    def __init__(self, altitude = 0):\n",
    "        self.altitude = altitude\n",
    "        self.ascend_count = 0\n",
    "        Drone.num_drones += 1\n",
    "    \n",
    "    def fly(self):\n",
    "        print(\"The drone is flying at\", self.altitude, \"feet.\")\n",
    "    \n",
    "    def ascend(self, change):\n",
    "        self.altitude += change\n",
    "        self.ascend_count += 1\n",
    "        \n",
    "    def get_altitude(self):\n",
    "        return self.altitude\n",
    "    \n",
    "    def set_altitude(self, new_altitude):\n",
    "        self.altitude = new_altitude\n",
    "\n",
    "    \n",
    "d1 = Drone(100)\n",
    "print(\"The Drone's altitude is\", d1.get_altitude())\n",
    "d1.set_altitude(300)\n",
    "print(\"The Drone's altitude is\", d1.get_altitude())"
   ]
  },
  {
   "cell_type": "markdown",
   "metadata": {},
   "source": [
    "Should you use getter and setter methods?  In this specific example, the answer is probably not.  The getter and setter methods add an extra layer of complexity to our class, without really changing the underlying behavior.  As a matter of encapsulation, we use methods to describe the actions that can be performed on our object, but having a data attribute already suggests that its value can be gotten and set.  Directly accessing the data attribute is more transparent and clarifies that this is a simple operation that only changes one value.  In short, directly accessing data attributes is more Pythonic.\n",
    "\n",
    "There are many other situations in which getter and setter make sense.  Let's say that we wanted to check to make sure that altitude was never negative.  We could add an if statement to the `set_altitude` method to perform this check."
   ]
  },
  {
   "cell_type": "code",
   "execution_count": 5,
   "metadata": {
    "collapsed": false
   },
   "outputs": [
    {
     "name": "stdout",
     "output_type": "stream",
     "text": [
      "The Drone's altitude is 100\n"
     ]
    },
    {
     "ename": "Exception",
     "evalue": "Drone cannot have a negative altitude.",
     "output_type": "error",
     "traceback": [
      "\u001b[0;31m---------------------------------------------------------------------------\u001b[0m",
      "\u001b[0;31mException\u001b[0m                                 Traceback (most recent call last)",
      "\u001b[0;32m<ipython-input-5-f3f19940218e>\u001b[0m in \u001b[0;36m<module>\u001b[0;34m()\u001b[0m\n\u001b[1;32m     26\u001b[0m \u001b[0md1\u001b[0m \u001b[0;34m=\u001b[0m \u001b[0mDrone\u001b[0m\u001b[0;34m(\u001b[0m\u001b[0;36m100\u001b[0m\u001b[0;34m)\u001b[0m\u001b[0;34m\u001b[0m\u001b[0m\n\u001b[1;32m     27\u001b[0m \u001b[0mprint\u001b[0m\u001b[0;34m(\u001b[0m\u001b[0;34m\"The Drone's altitude is\"\u001b[0m\u001b[0;34m,\u001b[0m \u001b[0md1\u001b[0m\u001b[0;34m.\u001b[0m\u001b[0mget_altitude\u001b[0m\u001b[0;34m(\u001b[0m\u001b[0;34m)\u001b[0m\u001b[0;34m)\u001b[0m\u001b[0;34m\u001b[0m\u001b[0m\n\u001b[0;32m---> 28\u001b[0;31m \u001b[0md1\u001b[0m\u001b[0;34m.\u001b[0m\u001b[0mset_altitude\u001b[0m\u001b[0;34m(\u001b[0m\u001b[0;34m-\u001b[0m\u001b[0;36m10\u001b[0m\u001b[0;34m)\u001b[0m\u001b[0;34m\u001b[0m\u001b[0m\n\u001b[0m\u001b[1;32m     29\u001b[0m \u001b[0mprint\u001b[0m\u001b[0;34m(\u001b[0m\u001b[0;34m\"The Drone's altitude is\"\u001b[0m\u001b[0;34m,\u001b[0m \u001b[0md1\u001b[0m\u001b[0;34m.\u001b[0m\u001b[0mget_altitude\u001b[0m\u001b[0;34m(\u001b[0m\u001b[0;34m)\u001b[0m\u001b[0;34m)\u001b[0m\u001b[0;34m\u001b[0m\u001b[0m\n",
      "\u001b[0;32m<ipython-input-5-f3f19940218e>\u001b[0m in \u001b[0;36mset_altitude\u001b[0;34m(self, new_altitude)\u001b[0m\n\u001b[1;32m     20\u001b[0m     \u001b[0;32mdef\u001b[0m \u001b[0mset_altitude\u001b[0m\u001b[0;34m(\u001b[0m\u001b[0mself\u001b[0m\u001b[0;34m,\u001b[0m \u001b[0mnew_altitude\u001b[0m\u001b[0;34m)\u001b[0m\u001b[0;34m:\u001b[0m\u001b[0;34m\u001b[0m\u001b[0m\n\u001b[1;32m     21\u001b[0m         \u001b[0;32mif\u001b[0m \u001b[0mnew_altitude\u001b[0m \u001b[0;34m<\u001b[0m \u001b[0;36m0\u001b[0m\u001b[0;34m:\u001b[0m\u001b[0;34m\u001b[0m\u001b[0m\n\u001b[0;32m---> 22\u001b[0;31m             \u001b[0;32mraise\u001b[0m \u001b[0mException\u001b[0m\u001b[0;34m(\u001b[0m\u001b[0;34m\"Drone cannot have a negative altitude.\"\u001b[0m\u001b[0;34m)\u001b[0m\u001b[0;34m\u001b[0m\u001b[0m\n\u001b[0m\u001b[1;32m     23\u001b[0m         \u001b[0mself\u001b[0m\u001b[0;34m.\u001b[0m\u001b[0maltitude\u001b[0m \u001b[0;34m=\u001b[0m \u001b[0mnew_altitude\u001b[0m\u001b[0;34m\u001b[0m\u001b[0m\n\u001b[1;32m     24\u001b[0m \u001b[0;34m\u001b[0m\u001b[0m\n",
      "\u001b[0;31mException\u001b[0m: Drone cannot have a negative altitude."
     ]
    }
   ],
   "source": [
    "class Drone:\n",
    "    \n",
    "    num_drones = 0\n",
    "    \n",
    "    def __init__(self, altitude = 0):\n",
    "        self.altitude = altitude\n",
    "        self.ascend_count = 0\n",
    "        Drone.num_drones += 1\n",
    "    \n",
    "    def fly(self):\n",
    "        print(\"The drone is flying at\", self.altitude, \"feet.\")\n",
    "    \n",
    "    def ascend(self, change):\n",
    "        self.altitude += change\n",
    "        self.ascend_count += 1\n",
    "        \n",
    "    def get_altitude(self):\n",
    "        return self.altitude\n",
    "    \n",
    "    def set_altitude(self, new_altitude):\n",
    "        if new_altitude < 0:\n",
    "            raise Exception(\"Drone cannot have a negative altitude.\")\n",
    "        self.altitude = new_altitude\n",
    "\n",
    "    \n",
    "d1 = Drone(100)\n",
    "print(\"The Drone's altitude is\", d1.get_altitude())\n",
    "d1.set_altitude(-10)\n",
    "print(\"The Drone's altitude is\", d1.get_altitude())"
   ]
  },
  {
   "cell_type": "markdown",
   "metadata": {
    "collapsed": false
   },
   "source": [
    "The setter method is flexible, allowing us to do extra processing when setting an attribute.  As another example, we could use the setter method to increment `ascend_count` whenever the altitude is set to a larger value.\n",
    "\n",
    "As a futher example, we might want to have a `get_altitude` method, but no `set_altitude` method.  Perhaps we think that altitude should only be changed with a call to `ascend()`.  In this case, we are using our methods as a way of describing the prefered ways of interacting with a Drone object."
   ]
  },
  {
   "cell_type": "markdown",
   "metadata": {
    "collapsed": false
   },
   "source": [
    "## Hidden Attributes\n",
    "\n",
    "We've argued that there are times in which we want to use getter and setter methods, because we need the flexibility to do extra processing when an attribute is accessed.  Unfortunately, even if we write a perfect setter method, a programmer could always override our wishes by accessing a data attribute directly.  For example, someone could deliberately give our Drone a negative altitude as follows:"
   ]
  },
  {
   "cell_type": "code",
   "execution_count": 6,
   "metadata": {
    "collapsed": false
   },
   "outputs": [
    {
     "name": "stdout",
     "output_type": "stream",
     "text": [
      "The Drone's altitude is 100\n",
      "The Drone's altitude is -10\n"
     ]
    }
   ],
   "source": [
    "class Drone:\n",
    "    \n",
    "    num_drones = 0\n",
    "    \n",
    "    def __init__(self, altitude = 0):\n",
    "        self.altitude = altitude\n",
    "        self.ascend_count = 0\n",
    "        Drone.num_drones += 1\n",
    "    \n",
    "    def fly(self):\n",
    "        print(\"The drone is flying at\", self.altitude, \"feet.\")\n",
    "    \n",
    "    def ascend(self, change):\n",
    "        self.altitude += change\n",
    "        self.ascend_count += 1\n",
    "        \n",
    "    def get_altitude(self):\n",
    "        return self.altitude\n",
    "    \n",
    "    def set_altitude(self, new_altitude):\n",
    "        if new_altitude < 0:\n",
    "            raise Exception(\"Drone cannot have a negative altitude.\")\n",
    "        self.altitude = new_altitude\n",
    "\n",
    "    \n",
    "d1 = Drone(100)\n",
    "print(\"The Drone's altitude is\", d1.get_altitude())\n",
    "d1.altitude = -10\n",
    "print(\"The Drone's altitude is\", d1.get_altitude())"
   ]
  },
  {
   "cell_type": "markdown",
   "metadata": {},
   "source": [
    "This violates the spirit of the code we wrote and could result in unexpected errors down the road.  You might be wondering, when this would happen since you know you should never give your drone a negative altitude. You are right; *you* might not. But you can't always predict how your class will be used in the future. How should other people know not to access your attributes in this way?\n",
    "\n",
    "In other languages, notable Java and C++, the solution is to declare altitude a *private* variable.  This prevents anyone from accessing it from outside the class.  Unlike these languages, however, Python has no private keyword.  The design philosophy of Python dictates that programmers should be warned not to access altitude, but they should still be able to if they really need to.\n",
    "\n",
    "Python's solution is to make altitude a hidden attribute.  To do this, add 2 underscores to the start of the attribute name (not the end).  The new name will be `__altitude`.  Notice that we can no longer access the attribute directly."
   ]
  },
  {
   "cell_type": "code",
   "execution_count": 12,
   "metadata": {
    "collapsed": false
   },
   "outputs": [
    {
     "ename": "AttributeError",
     "evalue": "'Drone' object has no attribute '__altitude'",
     "output_type": "error",
     "traceback": [
      "\u001b[0;31m---------------------------------------------------------------------------\u001b[0m",
      "\u001b[0;31mAttributeError\u001b[0m                            Traceback (most recent call last)",
      "\u001b[0;32m<ipython-input-12-0fd06e938d36>\u001b[0m in \u001b[0;36m<module>\u001b[0;34m()\u001b[0m\n\u001b[1;32m     25\u001b[0m \u001b[0;34m\u001b[0m\u001b[0m\n\u001b[1;32m     26\u001b[0m \u001b[0md1\u001b[0m \u001b[0;34m=\u001b[0m \u001b[0mDrone\u001b[0m\u001b[0;34m(\u001b[0m\u001b[0;36m100\u001b[0m\u001b[0;34m)\u001b[0m\u001b[0;34m\u001b[0m\u001b[0m\n\u001b[0;32m---> 27\u001b[0;31m \u001b[0mprint\u001b[0m\u001b[0;34m(\u001b[0m\u001b[0;34m\"The Drone's altitude is\"\u001b[0m\u001b[0;34m,\u001b[0m \u001b[0md1\u001b[0m\u001b[0;34m.\u001b[0m\u001b[0m__altitude\u001b[0m\u001b[0;34m)\u001b[0m\u001b[0;34m\u001b[0m\u001b[0m\n\u001b[0m",
      "\u001b[0;31mAttributeError\u001b[0m: 'Drone' object has no attribute '__altitude'"
     ]
    }
   ],
   "source": [
    "class Drone:\n",
    "    \n",
    "    num_drones = 0\n",
    "    \n",
    "    def __init__(self, altitude = 0):\n",
    "        self.__altitude = altitude\n",
    "        self.ascend_count = 0\n",
    "        Drone.num_drones += 1\n",
    "    \n",
    "    def fly(self):\n",
    "        print(\"The drone is flying at\", self.__altitude, \"feet.\")\n",
    "    \n",
    "    def ascend(self, change):\n",
    "        self.__altitude += change\n",
    "        self.ascend_count += 1\n",
    "        \n",
    "    def get_altitude(self):\n",
    "        return self.__altitude\n",
    "    \n",
    "    def set_altitude(self, new_altitude):\n",
    "        if new_altitude < 0:\n",
    "            raise Exception(\"Drone cannot have a negative altitude.\")\n",
    "        self.__altitude = new_altitude\n",
    "\n",
    "    \n",
    "d1 = Drone(100)\n",
    "print(\"The Drone's altitude is\", d1.__altitude)"
   ]
  },
  {
   "cell_type": "markdown",
   "metadata": {},
   "source": [
    "The idea here is to code *defensively*. You never know how your classes might be used in the future.  As much as possible, you want to control the ways in which your instances are accessed so that the behaviors are predictable.  When you make an attribute hidden, you're saying that you want to carefully control the ways that it's accessed.  You're encapsulating the hidden complexity of how the class works and presenting a clean interface to other programmers.\n"
   ]
  },
  {
   "cell_type": "markdown",
   "metadata": {},
   "source": [
    "## Overriding Hidden Attributes\n",
    "\n",
    "When you make an attribute hidden in Python, you're essentially saying, \"messing with this is not recommended.\"  But there is no 100% guarrantee that nobody will ever access the attribute directly.  In fact, Python provides a way to get access to hidden attributes from outside a class - it just takes a little extra work.\n",
    "\n",
    "This is different from languages like C++ and Java. Python's philosophy is that if a programmer really wants to access an attribute, we should trust that they know what they're doing and won't break anything.  According to an popular saying, \"we're all consenting adults here.\"\n",
    "\n",
    "Most of the time, making an attribute hidden is the end of the story - the situations in which you want to access a hidden attribute from outside a class are very rare.  Still, it's worth seeing how this works so you're not surprised if you see code like this.\n",
    "\n",
    "To access a hidden attribute, you have to use a special name.  Place an underscore and the name of the class in front of the attribute name.  In this case, `altitude` would become `_Drone__altitude`.  This is known as name mangling."
   ]
  },
  {
   "cell_type": "code",
   "execution_count": 14,
   "metadata": {
    "collapsed": false
   },
   "outputs": [
    {
     "name": "stdout",
     "output_type": "stream",
     "text": [
      "The Drone's altitude is 100\n",
      "The Drone's altitude is 300\n"
     ]
    }
   ],
   "source": [
    "class Drone:\n",
    "    \n",
    "    num_drones = 0\n",
    "    \n",
    "    def __init__(self, altitude = 0):\n",
    "        self.__altitude = altitude\n",
    "        self.ascend_count = 0\n",
    "        Drone.num_drones += 1\n",
    "    \n",
    "    def fly(self):\n",
    "        print(\"The drone is flying at\", self.__altitude, \"feet.\")\n",
    "    \n",
    "    def ascend(self, change):\n",
    "        self.__altitude += change\n",
    "        self.ascend_count += 1\n",
    "        \n",
    "    def get_altitude(self):\n",
    "        return self.__altitude\n",
    "    \n",
    "    def set_altitude(self, new_altitude):\n",
    "        if new_altitude < 0:\n",
    "            raise Exception(\"Drone cannot have a negative altitude.\")\n",
    "        self.__altitude = new_altitude\n",
    "\n",
    "d1 = Drone(100)\n",
    "print(\"The Drone's altitude is\", d1._Drone__altitude)\n",
    "d1._Drone__altitude = 300\n",
    "print(\"The Drone's altitude is\", d1._Drone__altitude)\n",
    "\n"
   ]
  },
  {
   "cell_type": "markdown",
   "metadata": {},
   "source": [
    "As you can see, Python just makes it a little harder to access hidden attributes.  It's an extra step to make sure that nobody does it carelessly.  With some experience working on large coding projects, you may come to appreciate this feature of Python.\n"
   ]
  }
 ],
 "metadata": {
  "kernelspec": {
   "display_name": "Python 3",
   "language": "python",
   "name": "python3"
  },
  "language_info": {
   "codemirror_mode": {
    "name": "ipython",
    "version": 3
   },
   "file_extension": ".py",
   "mimetype": "text/x-python",
   "name": "python",
   "nbconvert_exporter": "python",
   "pygments_lexer": "ipython3",
   "version": "3.4.3"
  }
 },
 "nbformat": 4,
 "nbformat_minor": 0
}
