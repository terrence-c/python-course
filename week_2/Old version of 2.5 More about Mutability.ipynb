{
 "cells": [
  {
   "cell_type": "markdown",
   "metadata": {},
   "source": [
    "## More about Mutability\n",
    "\n",
    "As we've seen, the ability to change the contents of lists makes them a much more powerful type.  Mutability becomes especially important when objects get large.  Imagine that you had a large list with millions of items - it would be rather inefficient if you had to create an entirely new list every time you changed one entry.\n",
    "\n",
    "At the same time, mutable objects present a set of challenges, and it can be easy to make mistakes as a programmer.  For example, consider the following code."
   ]
  },
  {
   "cell_type": "code",
   "execution_count": 34,
   "metadata": {
    "collapsed": false
   },
   "outputs": [],
   "source": [
    "original_list = [1,2,3,4,5]\n",
    "second_list = original_list"
   ]
  },
  {
   "cell_type": "markdown",
   "metadata": {},
   "source": [
    "Now we have two variables and we might want to use them for different purposes. Suppose we need to make the first value in second_list equal to 1000."
   ]
  },
  {
   "cell_type": "code",
   "execution_count": 37,
   "metadata": {
    "collapsed": false
   },
   "outputs": [],
   "source": [
    "second_list[0] = 1000"
   ]
  },
  {
   "cell_type": "markdown",
   "metadata": {},
   "source": [
    "What is the value of the original list?"
   ]
  },
  {
   "cell_type": "code",
   "execution_count": 38,
   "metadata": {
    "collapsed": false
   },
   "outputs": [
    {
     "name": "stdout",
     "output_type": "stream",
     "text": [
      "[1000, 2, 3, 4, 5]\n"
     ]
    }
   ],
   "source": [
    "print(original_list)"
   ]
  },
  {
   "cell_type": "markdown",
   "metadata": {},
   "source": [
    "The original list has changed as well!  That's because we created two variables, but they both point to the same list object.  It doesn't matter which variable we use to change the object, the end result is the same. \n",
    "\n",
    "This is one advantage of immutable data structures - they prevent you from making this kind of mistake because you can't modify things that have already been created.\n",
    "\n",
    "It may seem surprising that creating a new variable doesn't create a second list object, but remember that objects can get very large in memory.  It would be rather wasteful if the Python interpreter copied them by default every time there was a variable assignment.  As you'll see, it's very common to have multiple variables point to the same object, but pretty rare that you actually want to make a copy of the object."
   ]
  },
  {
   "cell_type": "markdown",
   "metadata": {},
   "source": [
    "Now try to predict what the following code snippet will output."
   ]
  },
  {
   "cell_type": "code",
   "execution_count": null,
   "metadata": {
    "collapsed": false
   },
   "outputs": [],
   "source": [
    "a_list = [\"tu\", \"tu\"]\n",
    "b_list = [a_list]\n",
    "c_list = [a_list]\n",
    "b_list[0][1] = \"ba\"\n",
    "print(c_list)"
   ]
  },
  {
   "cell_type": "markdown",
   "metadata": {},
   "source": [
    "To understand what's happening, it may help to draw a picture. Both b_list and c_list are lists that contain a_list as their one item.  When you change a_list through b_list, the contents of c_list change as well.\n",
    "\n",
    "Here are two more snippets for you to think about."
   ]
  },
  {
   "cell_type": "code",
   "execution_count": null,
   "metadata": {
    "collapsed": false
   },
   "outputs": [],
   "source": [
    "a_list = []\n",
    "b_list = [\"ra\", a_list]\n",
    "c_list = [a_list, a_list]\n",
    "b_list[1].append(\"ta\")\n",
    "print(b_list, c_list)"
   ]
  },
  {
   "cell_type": "code",
   "execution_count": null,
   "metadata": {
    "collapsed": false
   },
   "outputs": [],
   "source": [
    "a_list = [\"go\"]\n",
    "a_list.append(a_list)\n",
    "print(a_list)"
   ]
  },
  {
   "cell_type": "markdown",
   "metadata": {},
   "source": [
    "The last snippet is especially surprising.  In Python, you're allowed to place a list inside of itself - list references can be circular. Of course, there's no way to print the list when you do this.  This may be clear if you draw a picture of the references.  a_list contains \"go\", then a list that contains \"go\" and whose second element is a list that contains \"go\" and whose second element is a list... It would take an infinite amount of space to print this list, so Python represents the circularity using '...'."
   ]
  },
  {
   "cell_type": "markdown",
   "metadata": {},
   "source": [
    "## Copies and Deep Copies\n",
    "\n",
    "While not as common as you might expect, there are times when you need to make a copy of a list object.  There is a `copy()` method that does this for you.  However, this may not be as straightforward as you expect."
   ]
  },
  {
   "cell_type": "code",
   "execution_count": 9,
   "metadata": {
    "collapsed": false
   },
   "outputs": [
    {
     "name": "stdout",
     "output_type": "stream",
     "text": [
      "[1, 2, ['Bill', 'Kay']]\n"
     ]
    }
   ],
   "source": [
    "a_list = [1, 2, [\"Bill\", \"Kay\"]]\n",
    "b_list = a_list.copy()\n",
    "print(b_list)"
   ]
  },
  {
   "cell_type": "code",
   "execution_count": 10,
   "metadata": {
    "collapsed": false
   },
   "outputs": [
    {
     "name": "stdout",
     "output_type": "stream",
     "text": [
      "[5, 2, ['Bill', 'Kay']]\n",
      "[1, 2, ['Bill', 'Kay']]\n"
     ]
    }
   ],
   "source": [
    "a_list[0] = 5\n",
    "print(a_list)\n",
    "print(b_list)"
   ]
  },
  {
   "cell_type": "markdown",
   "metadata": {},
   "source": [
    "Now it looks like we successfully created two separate lists, and even changed one of them so that their contents are different.  Does this mean that b_list will be unchanged no matter what we do to a_list?  Consider the following code."
   ]
  },
  {
   "cell_type": "code",
   "execution_count": 11,
   "metadata": {
    "collapsed": false
   },
   "outputs": [
    {
     "name": "stdout",
     "output_type": "stream",
     "text": [
      "[1, 2, ['Bill', 'Kay', 'Paul']]\n"
     ]
    }
   ],
   "source": [
    "a_list[2].append(\"Paul\")\n",
    "print(b_list)"
   ]
  },
  {
   "cell_type": "markdown",
   "metadata": {},
   "source": [
    "b_list is now different as well.  That's because the `copy` method only makes a `shallow copy` of a_list.  It creates a new list object in object space, but all of its references just point to the same place that the original list's references pointed to.  So the inner list that was contained inside a_list doesn't get copied.  In the end, a_list and b_list are separate list objects, but both contain the same list as an item.\n",
    "\n",
    "If we want to make a `deep copy` of the list, what should we do?  Python has a deepcopy method that will try to replicate an object, including all the objects that can be reached by reference from it."
   ]
  },
  {
   "cell_type": "code",
   "execution_count": 17,
   "metadata": {
    "collapsed": false
   },
   "outputs": [
    {
     "name": "stdout",
     "output_type": "stream",
     "text": [
      "[5, 2, ['Bill', 'Kay', 'Paul', 'Did I get it?', 'Did I get it?']]\n",
      "[5, 2, ['Bill', 'Kay', 'Paul', 'Did I get it?']]\n"
     ]
    }
   ],
   "source": [
    "from copy import deepcopy\n",
    "c_list = deepcopy(a_list)\n",
    "a_list[2].append(\"Did I get it?\")\n",
    "print(a_list)\n",
    "print(c_list)"
   ]
  },
  {
   "cell_type": "markdown",
   "metadata": {},
   "source": [
    "In order to make a deep copy, we have to create a copy of all list items, then all items contained in those items, and so forth. Now this isn't something that is going to come up every day but it's a great thing to be aware of because you will come across it at some point.\n",
    "\n",
    "Just a little warning: a deep copy will work its way through every object that can be reached through list references - and that could be a lot of objects.  If you're not careful, you could be waiting for a huge amount of data to be replicated - use this method with caution."
   ]
  },
  {
   "cell_type": "markdown",
   "metadata": {},
   "source": [
    "We've seen a lot of detailed features of the way lists work.  As a key take away, remember that variables are not objects themselves, they point to objects.  Similarly, lists point to the objects they contain.  When you change an object, think about all the variables and lists that point to that object - they are all affected.\n"
   ]
  }
 ],
 "metadata": {
  "kernelspec": {
   "display_name": "Python 3",
   "language": "python",
   "name": "python3"
  },
  "language_info": {
   "codemirror_mode": {
    "name": "ipython",
    "version": 3
   },
   "file_extension": ".py",
   "mimetype": "text/x-python",
   "name": "python",
   "nbconvert_exporter": "python",
   "pygments_lexer": "ipython3",
   "version": "3.4.3"
  }
 },
 "nbformat": 4,
 "nbformat_minor": 0
}
