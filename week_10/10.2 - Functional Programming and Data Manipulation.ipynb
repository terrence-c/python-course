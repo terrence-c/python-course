{
 "cells": [
  {
   "cell_type": "markdown",
   "metadata": {},
   "source": [
    "# Advanced Data Manipulation"
   ]
  },
  {
   "cell_type": "markdown",
   "metadata": {},
   "source": [
    "Thus far in this course, our focus has been on what we might call general-purpose Python--skills that you will need for nearly any programming project.  When we write code to analyze a data set, however, there are several unique concerns that we need to keep in mind. In this section we will cover several high-level concepts related to data manipulation.  We will present these using Python, but they are actually important components of many data manipulation frameworks.\n",
    "\n",
    "These open the door to an alternative to the object-oriented style of programming that we covered before. These all belong to the functional style, my personal favorite."
   ]
  },
  {
   "cell_type": "markdown",
   "metadata": {},
   "source": [
    "## What Is Functional Programming?\n",
    "\n",
    "In computer science, functional programming is a programming paradigm, or a style of writing code.  It is an alternative to the object-oriented framework that we have been working with up to this point. Rather than keeping state in an object like OOP, functional programming is declarative and emphasizes the use of functions to perform computation. At the core of functional programming is a simple idea: the output of a function should depend only on the arguments passed into the function. This means that calling function f with parameter x will always return the same value.\n",
    "\n",
    "At first, it may be hard to understand why a functional approach is useful or desirable.  Some (if not most) of the code that we wrote for this course violates this principle. This is really an obvious point, but let's reinforce it with another example."
   ]
  },
  {
   "cell_type": "markdown",
   "metadata": {},
   "source": [
    "Say that I have an instance of a class."
   ]
  },
  {
   "cell_type": "code",
   "execution_count": 1,
   "metadata": {
    "collapsed": true
   },
   "outputs": [],
   "source": [
    "class Drone:\n",
    "    power_system = \"battery\"\n",
    "    def fly(self):\n",
    "        return \"The %s-powered drone is flying\" % (self.power_system)\n",
    "d = Drone()"
   ]
  },
  {
   "cell_type": "code",
   "execution_count": 2,
   "metadata": {
    "collapsed": true
   },
   "outputs": [],
   "source": [
    "def drone_flyer(drone):\n",
    "    print(drone.fly())"
   ]
  },
  {
   "cell_type": "code",
   "execution_count": 3,
   "metadata": {
    "collapsed": false
   },
   "outputs": [
    {
     "name": "stdout",
     "output_type": "stream",
     "text": [
      "The battery-powered drone is flying\n"
     ]
    }
   ],
   "source": [
    "drone_flyer(d)"
   ]
  },
  {
   "cell_type": "markdown",
   "metadata": {},
   "source": [
    "Now that I have that class, let's change its power system."
   ]
  },
  {
   "cell_type": "code",
   "execution_count": 4,
   "metadata": {
    "collapsed": false
   },
   "outputs": [],
   "source": [
    "d.power_system = \"'Subway - Eat Fresh'\""
   ]
  },
  {
   "cell_type": "code",
   "execution_count": 5,
   "metadata": {
    "collapsed": false
   },
   "outputs": [
    {
     "name": "stdout",
     "output_type": "stream",
     "text": [
      "The 'Subway - Eat Fresh'-powered drone is flying\n"
     ]
    }
   ],
   "source": [
    "drone_flyer(d)"
   ]
  },
  {
   "cell_type": "markdown",
   "metadata": {},
   "source": [
    "This may seem like a trivial example, but we have already violated the principles of functional programming. We are executing the same method and might expect the same output. Because we have an object with a *state* that is *mutable*, however, we cannot count on getting the same output each time we call a method. You may think to yourself, \"Well I just won't change it,\" but that only helps for small projects. You may not intentionally change a value, but perhaps a user of your system will or you may write the code and change it later.\n",
    "\n",
    "Once you have started working in an object-oriented style, you need to think about and manage state. We can start controlling this through properties like we did previously, but the functional programmer would say that these are all just Band-Aids to the core problem. A program should have no state; that is, given the same input, the function should always return the same output.\n",
    "\n",
    "More simply, **once something is created, you should not be able to change its value or behavior.**\n",
    "\n",
    "Let's walk through another example."
   ]
  },
  {
   "cell_type": "code",
   "execution_count": 6,
   "metadata": {
    "collapsed": false
   },
   "outputs": [
    {
     "name": "stdout",
     "output_type": "stream",
     "text": [
      "The battery-powered drone is flying\n",
      "The I've made a huge mistake-powered drone is flying\n"
     ]
    }
   ],
   "source": [
    "d = Drone()\n",
    "\n",
    "def drone_changer():\n",
    "    d.power_system = \"I've made a huge mistake\"\n",
    "\n",
    "print(d.fly())\n",
    "drone_changer()\n",
    "print(d.fly())"
   ]
  },
  {
   "cell_type": "markdown",
   "metadata": {},
   "source": [
    "By this point, you should recognize that this is a rather poor coding practice.  This function has a rather unexpected *side effect*. That means that it is modifying something outside of its own scope.  There is no way to know this unless you actually examine the code inside the function.\n",
    "\n",
    "A good way to know whether something has a side effect is if moving the function to another file makes it useless. In this case, unless that file has an instance of drone d, it does. Why is this so bad?  In short, it makes it difficult to reason about the program. Imagine if you had 50 functions that all had the potential to change the drone instance. Anyone reading your code would have no idea of the *state* of the drone."
   ]
  },
  {
   "cell_type": "markdown",
   "metadata": {},
   "source": [
    "## Why Functional Programming?\n",
    "\n",
    "Functional programming is a way to avoid the problems we have been discussing.  Instead of using objects with mutable state, functional programmers organize a program into functions, none of which has any side effect.  The execution of a program is then viewed as the evaluation of functions.  There is no state except for the values being passed into functions and returned from functions, which are stored in the execution stack.\n",
    "\n",
    "This is a very different way of viewing programs, and it may seem unintuitive if you are used to object-oriented programs.  In fact, while object-oriented programming is still dominant in modern software development, functional programs are quite useful in some places.\n",
    "\n",
    "According to advocates, one of the great benefits of a functional approach is code reliability.  In a functional program, the same function call will always return the same result, so there is less potential for problems to pop up after initial testing.  This is one reason that functional programming has been applied to fault-resistant telecommunications networks.  As another benefit, functional programming enforces good code modularity, forcing programmers to divide tasks into subtasks with clear results.  Functional programming is also widely used for writing parallelized algorithms that distribute computation over many computer servers.\n",
    "\n",
    "We are not suggesting that you should use a functional style for all of your code.  In the context of a data analysis, however, we will see that Python's data libraries are well suited to a functional style.  Understanding how functional programming works will help you derive the greatest benefit from these packages.  Let's examine some Python components that fit closely with a functional programming paradigm."
   ]
  },
  {
   "cell_type": "markdown",
   "metadata": {},
   "source": [
    "## Mapping"
   ]
  },
  {
   "cell_type": "markdown",
   "metadata": {},
   "source": [
    "Mapping is basically mapping one value to another one, almost like a dictionary. This is a functional programming concept but can be useful in certain circumstances and will certainly come up in your data analysis career. This is a fundamental part of the MapReduce style of programming popular in big data.\n",
    "\n",
    "Let's explore how it works."
   ]
  },
  {
   "cell_type": "code",
   "execution_count": 7,
   "metadata": {
    "collapsed": false
   },
   "outputs": [],
   "source": [
    "x = range(0,10)"
   ]
  },
  {
   "cell_type": "code",
   "execution_count": 8,
   "metadata": {
    "collapsed": false
   },
   "outputs": [
    {
     "data": {
      "text/plain": [
       "range(0, 10)"
      ]
     },
     "execution_count": 8,
     "metadata": {},
     "output_type": "execute_result"
    }
   ],
   "source": [
    "x"
   ]
  },
  {
   "cell_type": "markdown",
   "metadata": {},
   "source": [
    "Now that we have a range of integers, we will want to apply a transformation to each value in that list. For example, let's cube every value in that list. So we write our cube function, which in theory operates on one individual datum."
   ]
  },
  {
   "cell_type": "code",
   "execution_count": 9,
   "metadata": {
    "collapsed": false
   },
   "outputs": [],
   "source": [
    "def cube(num):\n",
    "    return num ** 3"
   ]
  },
  {
   "cell_type": "markdown",
   "metadata": {},
   "source": [
    "You may think a for loop is the way to do this, but it really is not because we have no easy way of capturing the output. We can put it in a new list, but that makes it mutable. Here is that example."
   ]
  },
  {
   "cell_type": "code",
   "execution_count": 11,
   "metadata": {
    "collapsed": false
   },
   "outputs": [],
   "source": [
    "new_list = []\n",
    "for item in x:\n",
    "    new_list.append(cube(item))"
   ]
  },
  {
   "cell_type": "code",
   "execution_count": 12,
   "metadata": {
    "collapsed": false
   },
   "outputs": [
    {
     "name": "stdout",
     "output_type": "stream",
     "text": [
      "[0, 1, 8, 27, 64, 125, 216, 343, 512, 729]\n"
     ]
    }
   ],
   "source": [
    "print(new_list)"
   ]
  },
  {
   "cell_type": "markdown",
   "metadata": {},
   "source": [
    "Why don't we just do this? Because we had to create a mutable varible `new_list` to do it, something that is completely unnecessary and is a mutable value.\n",
    "\n",
    "Our solution is easy: we just create a map. Remember that mapping maps a value to another value via a functional transformation. It does this with no mutability and no side effects. It is also much more concise and easy to read."
   ]
  },
  {
   "cell_type": "code",
   "execution_count": 13,
   "metadata": {
    "collapsed": false
   },
   "outputs": [],
   "source": [
    "map_list = map(cube, x)"
   ]
  },
  {
   "cell_type": "code",
   "execution_count": 14,
   "metadata": {
    "collapsed": false
   },
   "outputs": [
    {
     "name": "stdout",
     "output_type": "stream",
     "text": [
      "[0, 1, 8, 27, 64, 125, 216, 343, 512, 729]\n"
     ]
    }
   ],
   "source": [
    "print(list(map_list))"
   ]
  },
  {
   "cell_type": "markdown",
   "metadata": {},
   "source": [
    "We have to convert it to a list because it gives us back a `generator`. That means that functional transformations are *lazily evaluated*. Python will not execute this code until the very last second when it is needed, which means there is very little waste: if we do not need a transformation, we do not have to perform it."
   ]
  },
  {
   "cell_type": "markdown",
   "metadata": {
    "collapsed": false
   },
   "source": [
    "## Filters\n",
    "\n",
    "Filters are more self-explanatory than maps: they allow you to filter certain values that meet a criterion out of a list."
   ]
  },
  {
   "cell_type": "code",
   "execution_count": 15,
   "metadata": {
    "collapsed": false
   },
   "outputs": [
    {
     "data": {
      "text/plain": [
       "range(0, 10)"
      ]
     },
     "execution_count": 15,
     "metadata": {},
     "output_type": "execute_result"
    }
   ],
   "source": [
    "x"
   ]
  },
  {
   "cell_type": "markdown",
   "metadata": {},
   "source": [
    "We have our familiar range again. Let's create a function that checks whether or not a function is divisible by two."
   ]
  },
  {
   "cell_type": "code",
   "execution_count": 16,
   "metadata": {
    "collapsed": true
   },
   "outputs": [],
   "source": [
    "def divis_by_2(num):\n",
    "    return num % 2 == 0"
   ]
  },
  {
   "cell_type": "code",
   "execution_count": 17,
   "metadata": {
    "collapsed": false
   },
   "outputs": [
    {
     "data": {
      "text/plain": [
       "True"
      ]
     },
     "execution_count": 17,
     "metadata": {},
     "output_type": "execute_result"
    }
   ],
   "source": [
    "divis_by_2(2)"
   ]
  },
  {
   "cell_type": "code",
   "execution_count": 18,
   "metadata": {
    "collapsed": false
   },
   "outputs": [
    {
     "data": {
      "text/plain": [
       "False"
      ]
     },
     "execution_count": 18,
     "metadata": {},
     "output_type": "execute_result"
    }
   ],
   "source": [
    "divis_by_2(3)"
   ]
  },
  {
   "cell_type": "markdown",
   "metadata": {},
   "source": [
    "Filters can be thought of as a special kind of map, for example, using divis_by_2. We are mapping a value to true or false depending on whether or not it is divisible by 2."
   ]
  },
  {
   "cell_type": "code",
   "execution_count": 19,
   "metadata": {
    "collapsed": false
   },
   "outputs": [
    {
     "data": {
      "text/plain": [
       "[True, False, True, False, True, False, True, False, True, False]"
      ]
     },
     "execution_count": 19,
     "metadata": {},
     "output_type": "execute_result"
    }
   ],
   "source": [
    "list(map(divis_by_2, x))"
   ]
  },
  {
   "cell_type": "markdown",
   "metadata": {},
   "source": [
    "We remove all the values that are false."
   ]
  },
  {
   "cell_type": "code",
   "execution_count": 20,
   "metadata": {
    "collapsed": false
   },
   "outputs": [
    {
     "data": {
      "text/plain": [
       "[0, 2, 4, 6, 8]"
      ]
     },
     "execution_count": 20,
     "metadata": {},
     "output_type": "execute_result"
    }
   ],
   "source": [
    "list(filter(divis_by_2, x))"
   ]
  },
  {
   "cell_type": "markdown",
   "metadata": {},
   "source": [
    "This is really valuable because we can start chaining a lot of these operations together and we will always get the same output given the same input. Let's try it with a different example."
   ]
  },
  {
   "cell_type": "code",
   "execution_count": 21,
   "metadata": {
    "collapsed": true
   },
   "outputs": [],
   "source": [
    "test_list = [\n",
    "\"hello\",\n",
    "\"x,y,z. i like this.\",\n",
    "\"this is two xx\",\n",
    "\"this, x, here x is, here it is againx\"\n",
    "]"
   ]
  },
  {
   "cell_type": "markdown",
   "metadata": {},
   "source": [
    "We will check whether or not a string has 2 'x' characters."
   ]
  },
  {
   "cell_type": "code",
   "execution_count": 22,
   "metadata": {
    "collapsed": true
   },
   "outputs": [],
   "source": [
    "def has_x(my_string):\n",
    "    return my_string.count(\"x\") >= 2"
   ]
  },
  {
   "cell_type": "code",
   "execution_count": 23,
   "metadata": {
    "collapsed": false
   },
   "outputs": [
    {
     "data": {
      "text/plain": [
       "False"
      ]
     },
     "execution_count": 23,
     "metadata": {},
     "output_type": "execute_result"
    }
   ],
   "source": [
    "has_x(\"hello\")"
   ]
  },
  {
   "cell_type": "code",
   "execution_count": 24,
   "metadata": {
    "collapsed": false
   },
   "outputs": [
    {
     "data": {
      "text/plain": [
       "True"
      ]
     },
     "execution_count": 24,
     "metadata": {},
     "output_type": "execute_result"
    }
   ],
   "source": [
    "has_x(\"xxhello\")"
   ]
  },
  {
   "cell_type": "code",
   "execution_count": 25,
   "metadata": {
    "collapsed": false
   },
   "outputs": [
    {
     "data": {
      "text/plain": [
       "['this is two xx', 'this, x, here x is, here it is againx']"
      ]
     },
     "execution_count": 25,
     "metadata": {},
     "output_type": "execute_result"
    }
   ],
   "source": [
    "list(filter(has_x, test_list))"
   ]
  },
  {
   "cell_type": "markdown",
   "metadata": {},
   "source": [
    "We will filter out the values that do not match this criterion."
   ]
  },
  {
   "cell_type": "markdown",
   "metadata": {},
   "source": [
    "Remember, this is just like a map that just removes values."
   ]
  },
  {
   "cell_type": "code",
   "execution_count": 26,
   "metadata": {
    "collapsed": false
   },
   "outputs": [
    {
     "data": {
      "text/plain": [
       "[False, False, True, True]"
      ]
     },
     "execution_count": 26,
     "metadata": {},
     "output_type": "execute_result"
    }
   ],
   "source": [
    "list(map(has_x, test_list))"
   ]
  },
  {
   "cell_type": "markdown",
   "metadata": {},
   "source": [
    "## List Comprehensions\n",
    "\n",
    "We looked at list comprehensions before, but this is a good time to review them.  After all, list comprehensions combine some features of maps with some features of filters.\n",
    "\n",
    "Let's start with our usual x range."
   ]
  },
  {
   "cell_type": "code",
   "execution_count": 27,
   "metadata": {
    "collapsed": false
   },
   "outputs": [
    {
     "data": {
      "text/plain": [
       "range(0, 10)"
      ]
     },
     "execution_count": 27,
     "metadata": {},
     "output_type": "execute_result"
    }
   ],
   "source": [
    "x"
   ]
  },
  {
   "cell_type": "markdown",
   "metadata": {},
   "source": [
    "Now we will cube every value in this list like we did above."
   ]
  },
  {
   "cell_type": "code",
   "execution_count": 28,
   "metadata": {
    "collapsed": false
   },
   "outputs": [
    {
     "data": {
      "text/plain": [
       "[0, 1, 8, 27, 64, 125, 216, 343, 512, 729]"
      ]
     },
     "execution_count": 28,
     "metadata": {},
     "output_type": "execute_result"
    }
   ],
   "source": [
    "[item**3 for item in x]"
   ]
  },
  {
   "cell_type": "markdown",
   "metadata": {},
   "source": [
    "These are always strange for novice programmers because it looks like a for loop, and in a way it is; it is just a bit more compressed. Also, rather than outputing or appending to a list, we are just wrapping it in brackets to tell Python what we are doing.\n",
    "\n",
    "Let's do the same with multiplying each number by 2."
   ]
  },
  {
   "cell_type": "code",
   "execution_count": 29,
   "metadata": {
    "collapsed": false
   },
   "outputs": [
    {
     "data": {
      "text/plain": [
       "[0, 2, 4, 6, 8, 10, 12, 14, 16, 18]"
      ]
     },
     "execution_count": 29,
     "metadata": {},
     "output_type": "execute_result"
    }
   ],
   "source": [
    "[item * 2 for item in x]"
   ]
  },
  {
   "cell_type": "markdown",
   "metadata": {},
   "source": [
    "Let's add a little bit of filtering to it now. Let's filter by whether or not it is divisible by 3, and if it is, we will multiply it by 3."
   ]
  },
  {
   "cell_type": "code",
   "execution_count": 30,
   "metadata": {
    "collapsed": false
   },
   "outputs": [
    {
     "data": {
      "text/plain": [
       "[0, 9, 18, 27]"
      ]
     },
     "execution_count": 30,
     "metadata": {},
     "output_type": "execute_result"
    }
   ],
   "source": [
    "[item * 3 for item in x if item % 3 == 0]"
   ]
  },
  {
   "cell_type": "markdown",
   "metadata": {},
   "source": [
    "It may seem strange that we can simply tack on an if statement like that, but we can. We can of course do other things with list comprehensions too.\n",
    "\n",
    "We can convert types, for example."
   ]
  },
  {
   "cell_type": "code",
   "execution_count": 31,
   "metadata": {
    "collapsed": false
   },
   "outputs": [
    {
     "data": {
      "text/plain": [
       "[0.0, 1.0, 2.0, 3.0, 4.0, 5.0, 6.0, 7.0, 8.0, 9.0]"
      ]
     },
     "execution_count": 31,
     "metadata": {},
     "output_type": "execute_result"
    }
   ],
   "source": [
    "[float(item) for item in x]"
   ]
  },
  {
   "cell_type": "markdown",
   "metadata": {},
   "source": [
    "Or we can apply a more complicated function or one that we create outside of the loop."
   ]
  },
  {
   "cell_type": "code",
   "execution_count": 32,
   "metadata": {
    "collapsed": true
   },
   "outputs": [],
   "source": [
    "def cube_if(num):\n",
    "    if num % 3 == 0:\n",
    "        return num * 3\n",
    "    else:\n",
    "        return num * 2"
   ]
  },
  {
   "cell_type": "code",
   "execution_count": 33,
   "metadata": {
    "collapsed": false
   },
   "outputs": [
    {
     "data": {
      "text/plain": [
       "[0, 2, 4, 9, 8, 10, 18, 14, 16, 27]"
      ]
     },
     "execution_count": 33,
     "metadata": {},
     "output_type": "execute_result"
    }
   ],
   "source": [
    "[cube_if(z) for z in x]"
   ]
  },
  {
   "cell_type": "markdown",
   "metadata": {},
   "source": [
    "Notice that we do not have to call the thing we are iterating through 'item'; that is just a convention. We can call it whatever we want. List comprehensions do not fit every use case, but they are useful and worth knowing about. Just keep in mind that they are no different from maps and filters."
   ]
  },
  {
   "cell_type": "markdown",
   "metadata": {},
   "source": [
    "## Lambda Functions"
   ]
  },
  {
   "cell_type": "markdown",
   "metadata": {},
   "source": [
    "Another concept we touched on before is lambda functions.  These play an important role in functional programming, so it is worth reviewing them now. Lambda functions are functions that are anonymous and do not need to have a name assigned to them prior to use. This means that you do not have to create functions like \"square_a_num\" when you want to square a number; you can just create a function to do so.\n",
    "\n",
    "Let's go through a couple of ways to square a list of items."
   ]
  },
  {
   "cell_type": "markdown",
   "metadata": {},
   "source": [
    "We can create a list comprehension."
   ]
  },
  {
   "cell_type": "code",
   "execution_count": 34,
   "metadata": {
    "collapsed": false
   },
   "outputs": [
    {
     "data": {
      "text/plain": [
       "[0, 1, 4, 9, 16, 25, 36, 49, 64, 81]"
      ]
     },
     "execution_count": 34,
     "metadata": {},
     "output_type": "execute_result"
    }
   ],
   "source": [
    "[item**2 for item in x]"
   ]
  },
  {
   "cell_type": "markdown",
   "metadata": {},
   "source": [
    "We can create a function to do it."
   ]
  },
  {
   "cell_type": "code",
   "execution_count": 35,
   "metadata": {
    "collapsed": true
   },
   "outputs": [],
   "source": [
    "def square(num):\n",
    "    return num ** 2"
   ]
  },
  {
   "cell_type": "code",
   "execution_count": 36,
   "metadata": {
    "collapsed": false
   },
   "outputs": [
    {
     "data": {
      "text/plain": [
       "[0, 1, 4, 9, 16, 25, 36, 49, 64, 81]"
      ]
     },
     "execution_count": 36,
     "metadata": {},
     "output_type": "execute_result"
    }
   ],
   "source": [
    "[square(z) for z in x]"
   ]
  },
  {
   "cell_type": "markdown",
   "metadata": {},
   "source": [
    "We can do a map with this operation."
   ]
  },
  {
   "cell_type": "code",
   "execution_count": 37,
   "metadata": {
    "collapsed": false
   },
   "outputs": [
    {
     "data": {
      "text/plain": [
       "[0, 1, 4, 9, 16, 25, 36, 49, 64, 81]"
      ]
     },
     "execution_count": 37,
     "metadata": {},
     "output_type": "execute_result"
    }
   ],
   "source": [
    "list(map(square, x))"
   ]
  },
  {
   "cell_type": "markdown",
   "metadata": {},
   "source": [
    "And we can create a lambda function."
   ]
  },
  {
   "cell_type": "code",
   "execution_count": 38,
   "metadata": {
    "collapsed": false
   },
   "outputs": [
    {
     "data": {
      "text/plain": [
       "[0, 1, 4, 9, 16, 25, 36, 49, 64, 81]"
      ]
     },
     "execution_count": 38,
     "metadata": {},
     "output_type": "execute_result"
    }
   ],
   "source": [
    "list(map(lambda z: z ** 2, x))"
   ]
  },
  {
   "cell_type": "markdown",
   "metadata": {},
   "source": [
    "Lambda functions take some getting used to, but they are quite useful when you are performing small operations on lists that you do not want to have to save somewhere.\n",
    "\n",
    "The requirement for lambda functions is that they are single expressions of Python code; they are for things that are simple.\n",
    "\n",
    "We can also save that lambda function as an object if we want to."
   ]
  },
  {
   "cell_type": "code",
   "execution_count": 39,
   "metadata": {
    "collapsed": true
   },
   "outputs": [],
   "source": [
    "square_lambda = lambda z: z ** 2"
   ]
  },
  {
   "cell_type": "code",
   "execution_count": 40,
   "metadata": {
    "collapsed": false
   },
   "outputs": [
    {
     "data": {
      "text/plain": [
       "[0, 1, 4, 9, 16, 25, 36, 49, 64, 81]"
      ]
     },
     "execution_count": 40,
     "metadata": {},
     "output_type": "execute_result"
    }
   ],
   "source": [
    "list(map(square_lambda,x))"
   ]
  },
  {
   "cell_type": "code",
   "execution_count": 41,
   "metadata": {
    "collapsed": false
   },
   "outputs": [
    {
     "name": "stdout",
     "output_type": "stream",
     "text": [
      "<class 'function'>\n"
     ]
    }
   ],
   "source": [
    "print(type(square_lambda))"
   ]
  },
  {
   "cell_type": "markdown",
   "metadata": {},
   "source": [
    "In Python, functions can be passed around just like any other object. We see that with maps and filters too, we essentially tell Python to take this function and for every value in this list, do this to it and give me back the result. This is a feature in a lot of other programming languages too and is one of my favorite features.\n",
    "\n",
    "Let's look at what this allows us to do on a bigger scale. Let's say we want to square all values that are divisible by 2 from 1 to 20. We need to start from the outside and move in."
   ]
  },
  {
   "cell_type": "code",
   "execution_count": 42,
   "metadata": {
    "collapsed": false
   },
   "outputs": [
    {
     "data": {
      "text/plain": [
       "<map at 0x104063898>"
      ]
     },
     "execution_count": 42,
     "metadata": {},
     "output_type": "execute_result"
    }
   ],
   "source": [
    "map(lambda z: z**2, filter(lambda z: z % 2 == 0, range(1,20)))"
   ]
  },
  {
   "cell_type": "markdown",
   "metadata": {},
   "source": [
    "Notice that we have a map here because of the lazy evaluation; we have not asked for the result, so it has not given it to us. Let's take that and convert it to a list and we will get the results."
   ]
  },
  {
   "cell_type": "code",
   "execution_count": 43,
   "metadata": {
    "collapsed": false
   },
   "outputs": [
    {
     "data": {
      "text/plain": [
       "[4, 16, 36, 64, 100, 144, 196, 256, 324]"
      ]
     },
     "execution_count": 43,
     "metadata": {},
     "output_type": "execute_result"
    }
   ],
   "source": [
    "list(map(lambda z: z**2, filter(lambda z: z % 2 == 0, range(1,20))))"
   ]
  },
  {
   "cell_type": "markdown",
   "metadata": {},
   "source": [
    "Let's reflect on how we would have written that before."
   ]
  },
  {
   "cell_type": "code",
   "execution_count": 44,
   "metadata": {
    "collapsed": false
   },
   "outputs": [],
   "source": [
    "my_range = range(1,20)\n",
    "output = []\n",
    "for z in my_range:\n",
    "    if z % 2 == 0:\n",
    "        output.append(z ** 2)"
   ]
  },
  {
   "cell_type": "markdown",
   "metadata": {},
   "source": [
    "The latter may seem more familiar, but it is also a lot more prone to errors as we make code modifications later on; it also has more code lines and is not nearly as extensible. This may seem trivial, but it really is not.\n",
    "\n",
    "There are a lot of other reasons to love functional programming, but these are some of the reasons you should appreciate. This way of thinking is certainly a departure from how you might be accustomed to thinking, but you will see that it is most certainly valid and extremely useful in future contexts.\n",
    "\n",
    "We will see a lot of this style of programming in the coming chapters."
   ]
  }
 ],
 "metadata": {
  "kernelspec": {
   "display_name": "Python 3",
   "language": "python",
   "name": "python3"
  },
  "language_info": {
   "codemirror_mode": {
    "name": "ipython",
    "version": 3
   },
   "file_extension": ".py",
   "mimetype": "text/x-python",
   "name": "python",
   "nbconvert_exporter": "python",
   "pygments_lexer": "ipython3",
   "version": "3.5.0"
  }
 },
 "nbformat": 4,
 "nbformat_minor": 0
}
