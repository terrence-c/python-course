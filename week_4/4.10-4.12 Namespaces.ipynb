{
 "cells": [
  {
   "cell_type": "markdown",
   "metadata": {},
   "source": [
    "## Namespaces\n",
    "\n",
    "You might have noticed that we sometimes use the same variable names in different functions.  Common names like x and y tend to appear quite often.  You might have wondered, in fact, if this is a dangerous thing to do.  Is there a risk that we change a variable in one function and affect the operation of another function?  \n",
    "\n",
    "We will investigate this issue in the following code. Notice that we initialize a variable, x, in the main program. Inside the function, we have a statement that seems to add one to x. Back in the main program, we then try to print the value of x. Try to predict the output of the code, then execute it."
   ]
  },
  {
   "cell_type": "code",
   "execution_count": 2,
   "metadata": {
    "collapsed": false
   },
   "outputs": [
    {
     "name": "stdout",
     "output_type": "stream",
     "text": [
      "In the function, x = 4\n",
      "the function returns 4\n",
      "outside the function, x = 3\n"
     ]
    }
   ],
   "source": [
    "def add_one(x):\n",
    "    x = x + 1\n",
    "    print('In the function, x =', x)\n",
    "    return x\n",
    "\n",
    "x = 3\n",
    "result = add_one(x)\n",
    "print('the function returns', result)\n",
    "print('outside the function, x =', x)"
   ]
  },
  {
   "cell_type": "markdown",
   "metadata": {},
   "source": [
    "As you can see, within the function, x took on the value 4, but in the main program, the value is still 3. There is not just one x variable; the x variable inside the function is a totally different variable than the x variable in the main program. The x inside the function is what we call a *local variable*. When we add 1 to its value, we do not change the x back outside, which is called a *global variable*.\n",
    "\n",
    "Recall that Python uses a special object called a *namespace* to hold the names of variables, which reference objects. In fact, a program can have many different namespaces. There is a global namespace that holds global variables. Whenever a function is called, Python also creates a local namespace that holds local variables for that function.\n",
    "\n",
    "We have seen that function parameters become local variables. We could also create a local variable by defining it inside the function. Here is another example in which we create a local variable y by assignment. Notice that the local y is not the same as the global y."
   ]
  },
  {
   "cell_type": "code",
   "execution_count": 5,
   "metadata": {
    "collapsed": false
   },
   "outputs": [
    {
     "name": "stdout",
     "output_type": "stream",
     "text": [
      "In the function, y = 4\n",
      "the function returns 4\n",
      "outside the function, y = 3\n"
     ]
    }
   ],
   "source": [
    "def add_one(x):\n",
    "    y = x + 1 # assignment: this creates a local variable, y\n",
    "    print('In the function, y =', y)\n",
    "    return y\n",
    "\n",
    "x = 3\n",
    "y = 3\n",
    "result = add_one(x)\n",
    "print('the function returns', result)\n",
    "print('outside the function, y =', y)"
   ]
  },
  {
   "cell_type": "markdown",
   "metadata": {},
   "source": [
    "## Accessing Global Variables\n",
    "\n",
    "We have seen how to pass objects into a function as arguments. This is the clearest, and safest, way to get values we need into a function, but Python does give us other ways. In the following code, notice the line x = x + y inside the function. x is a paramter, so we know x is a local variable. There is no local variable y, however. In this situation, Python will try to find a value for the variable y by looking up the stack. Since there is no y in the local namespace, Python checks in the global namespace. In this case, there is a global y, so Python uses this value. Run the code to confirm that the y's are the same."
   ]
  },
  {
   "cell_type": "code",
   "execution_count": 8,
   "metadata": {
    "collapsed": false
   },
   "outputs": [
    {
     "name": "stdout",
     "output_type": "stream",
     "text": [
      "In the function, y = 5\n",
      "the function returns 8\n",
      "outside the function, y = 5\n"
     ]
    }
   ],
   "source": [
    "##Demonstrates reading global variables from inside function\n",
    "def add_y(x):\n",
    "    ans = x + y # there is no local y, so the global value is used\n",
    "    print('In the function, y =', y)\n",
    "    return ans\n",
    "\n",
    "y = 5\n",
    "result = add_y(3)\n",
    "print('the function returns', result)\n",
    "print('outside the function, y =', y)"
   ]
  },
  {
   "cell_type": "markdown",
   "metadata": {},
   "source": [
    "As you can see, reading the values of global variables is relatively easy in Python.  What if we wanted to change the value of the global y from inside the function?  In the following code, we will try to add 1 to the global y inside the function. Run it and see what happens."
   ]
  },
  {
   "cell_type": "code",
   "execution_count": 18,
   "metadata": {
    "collapsed": false
   },
   "outputs": [
    {
     "ename": "UnboundLocalError",
     "evalue": "local variable 'y' referenced before assignment",
     "output_type": "error",
     "traceback": [
      "\u001b[0;31m---------------------------------------------------------------------------\u001b[0m",
      "\u001b[0;31mUnboundLocalError\u001b[0m                         Traceback (most recent call last)",
      "\u001b[0;32m<ipython-input-18-20cba983dfbd>\u001b[0m in \u001b[0;36m<module>\u001b[0;34m()\u001b[0m\n\u001b[1;32m      5\u001b[0m \u001b[0;34m\u001b[0m\u001b[0m\n\u001b[1;32m      6\u001b[0m \u001b[0my\u001b[0m \u001b[0;34m=\u001b[0m \u001b[0;36m5\u001b[0m\u001b[0;34m\u001b[0m\u001b[0m\n\u001b[0;32m----> 7\u001b[0;31m \u001b[0mchange_y\u001b[0m\u001b[0;34m(\u001b[0m\u001b[0;34m)\u001b[0m\u001b[0;34m\u001b[0m\u001b[0m\n\u001b[0m\u001b[1;32m      8\u001b[0m \u001b[0mprint\u001b[0m\u001b[0;34m(\u001b[0m\u001b[0;34m'outside the function, y ='\u001b[0m\u001b[0;34m,\u001b[0m \u001b[0my\u001b[0m\u001b[0;34m)\u001b[0m\u001b[0;34m\u001b[0m\u001b[0m\n",
      "\u001b[0;32m<ipython-input-18-20cba983dfbd>\u001b[0m in \u001b[0;36mchange_y\u001b[0;34m()\u001b[0m\n\u001b[1;32m      1\u001b[0m \u001b[0;31m##Trying to alter a global variable from inside a function\u001b[0m\u001b[0;34m\u001b[0m\u001b[0;34m\u001b[0m\u001b[0m\n\u001b[1;32m      2\u001b[0m \u001b[0;32mdef\u001b[0m \u001b[0mchange_y\u001b[0m\u001b[0;34m(\u001b[0m\u001b[0;34m)\u001b[0m\u001b[0;34m:\u001b[0m\u001b[0;34m\u001b[0m\u001b[0m\n\u001b[0;32m----> 3\u001b[0;31m     \u001b[0my\u001b[0m \u001b[0;34m=\u001b[0m \u001b[0my\u001b[0m \u001b[0;34m+\u001b[0m \u001b[0;36m1\u001b[0m\u001b[0;34m\u001b[0m\u001b[0m\n\u001b[0m\u001b[1;32m      4\u001b[0m     \u001b[0mprint\u001b[0m\u001b[0;34m(\u001b[0m\u001b[0;34m'In the function, y ='\u001b[0m\u001b[0;34m,\u001b[0m \u001b[0my\u001b[0m\u001b[0;34m)\u001b[0m\u001b[0;34m\u001b[0m\u001b[0m\n\u001b[1;32m      5\u001b[0m \u001b[0;34m\u001b[0m\u001b[0m\n",
      "\u001b[0;31mUnboundLocalError\u001b[0m: local variable 'y' referenced before assignment"
     ]
    }
   ],
   "source": [
    "##Trying to alter a global variable from inside a function\n",
    "def change_y():\n",
    "    y = y + 1\n",
    "    print('In the function, y =', y)\n",
    "\n",
    "y = 5\n",
    "change_y()\n",
    "print('outside the function, y =', y)"
   ]
  },
  {
   "cell_type": "markdown",
   "metadata": {},
   "source": [
    "The error message you get might seem confusing.  To understand what is happening, let's look at some of the key steps Python takes when running a function:\n",
    "\n",
    "1. Creates a new local namespace\n",
    "2. For each parameter, creates a local variable and binds it to the argument\n",
    "3. For each assignment statement, if name is not already in the local namespace, creates a new local variable\n",
    "4. Executes the statements\n",
    "\n",
    "In this case, the Python interpreter looks ahead through the function and sees the statement that assigns a value to y. It therefore creates a local variable y, but the variable does not yet have a value. When it comes time to execute the statement, it needs to compute y + 1, but y is a local variable that does not yet have a value. It therefore throws an *UnboundLocalError*.\n",
    "\n",
    "If we really want to change a global variable inside our function, we can still do so using the global keyword. This alerts Python that you want to use the global variable inside the function and prevents Python from creating a local variable. Insert the statement \"global y\" at the beginning of the function above, and see what happens."
   ]
  },
  {
   "cell_type": "markdown",
   "metadata": {},
   "source": [
    "Is it good to change global variables using the global keyword? Programmers have different opinions about this, but excessive use of the global keyword can make code unreadable and fragile. When we access global variables from inside a function, we break the basic model of how a function operates. One of the major benefits of functions is encapsulation; we expect a function to perform a specific task, and we would like to understand its effects by looking at its parameters and return value. When a function makes changes in other ways, they are harder to keep track of and can easily lead to programming errors.\n",
    "\n",
    "Despite these disadvantages, there are clearly situations in which global variables can make code better. Remember to use one or two global variables and always clearly comment on what you do."
   ]
  }
 ],
 "metadata": {
  "kernelspec": {
   "display_name": "Python 3",
   "language": "python",
   "name": "python3"
  },
  "language_info": {
   "codemirror_mode": {
    "name": "ipython",
    "version": 3
   },
   "file_extension": ".py",
   "mimetype": "text/x-python",
   "name": "python",
   "nbconvert_exporter": "python",
   "pygments_lexer": "ipython3",
   "version": "3.4.3"
  }
 },
 "nbformat": 4,
 "nbformat_minor": 0
}
