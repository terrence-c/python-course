{
 "cells": [
  {
   "cell_type": "markdown",
   "metadata": {},
   "source": [
    "Write a function, sum_digits which takes an int and returns the sum of its digits.\n",
    "\n",
    "Prompt the user for their phone number, x.  \n",
    "\n",
    "First, using your function, compute x minus the sum of the digits of x and store it in the variable result.\n",
    "\n",
    "Next, if result has more than one digit, replace it by the sum of the digits of result.  Do this repeatedly until the result has just one digit, then display it.  \n",
    "\n",
    "What number do you get?"
   ]
  },
  {
   "cell_type": "code",
   "execution_count": null,
   "metadata": {
    "collapsed": true
   },
   "outputs": [],
   "source": []
  },
  {
   "cell_type": "markdown",
   "metadata": {},
   "source": [
    "Write a function is_consonant() that takes a character and returns True if it is a consonant.\n",
    "\n",
    "Use your function to create a new fuction to_piglatin() that takes a word, moves all starting consonants to the end of the word, then adds ay to the end and returns the result.\n",
    "\n",
    "Prompt the user for their name and display the name in Pig Latin."
   ]
  },
  {
   "cell_type": "code",
   "execution_count": null,
   "metadata": {
    "collapsed": true
   },
   "outputs": [],
   "source": [
    "name = input(\"Enter your name: \")"
   ]
  }
 ],
 "metadata": {
  "kernelspec": {
   "display_name": "Python 3",
   "language": "python",
   "name": "python3"
  },
  "language_info": {
   "codemirror_mode": {
    "name": "ipython",
    "version": 3
   },
   "file_extension": ".py",
   "mimetype": "text/x-python",
   "name": "python",
   "nbconvert_exporter": "python",
   "pygments_lexer": "ipython3",
   "version": "3.4.3"
  }
 },
 "nbformat": 4,
 "nbformat_minor": 0
}
