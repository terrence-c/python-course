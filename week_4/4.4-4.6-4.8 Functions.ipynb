{
 "cells": [
  {
   "cell_type": "markdown",
   "metadata": {},
   "source": [
    "## Functions\n",
    "\n",
    "By this point in the course, you are starting to tackle more complex algorithms and your Python scripts are getting longer. As you continue to take on more ambitious programs, you will need to start organizing your code into manageable pieces. One of the most basic ways programmers do this is with *functions*.\n",
    "\n",
    "A function is a piece of code that you can reuse in other parts of your program. There are two steps to using a function:\n",
    "\n",
    "1. Define the function.  In this step, you specify what code should be run when the function is called.\n",
    "2. Call the function.  At this point, the code in the function actually executes.\n",
    "\n",
    "Here is a very simple example of a function definition that just prints two lines of text."
   ]
  },
  {
   "cell_type": "code",
   "execution_count": 3,
   "metadata": {
    "collapsed": true
   },
   "outputs": [],
   "source": [
    "def print_stuff():\n",
    "    print(\"some stuff\")\n",
    "    print(\"more stuff\")"
   ]
  },
  {
   "cell_type": "markdown",
   "metadata": {},
   "source": [
    "Go ahead and execute that code, and notice that there is no output. The code inside a function is not executed when a function is defined.\n",
    "\n",
    "Take a close look at the function definition. Notice that it begins with the keyword *def*, followed by the name of the function we are defining, then a set of parentheses (these will hold input parameters, but this function does not have any), then a colon. After this, we have the actual body of the function, which just includes two print statements.\n",
    "\n",
    "In the next bit of code, we will call the function we have defined."
   ]
  },
  {
   "cell_type": "code",
   "execution_count": 6,
   "metadata": {
    "collapsed": false
   },
   "outputs": [
    {
     "name": "stdout",
     "output_type": "stream",
     "text": [
      "Things on my todo list:\n",
      "some stuff\n",
      "more stuff\n",
      "some stuff\n",
      "more stuff\n"
     ]
    }
   ],
   "source": [
    "print(\"Things on my todo list:\")\n",
    "print_stuff()\n",
    "print_stuff()"
   ]
  },
  {
   "cell_type": "markdown",
   "metadata": {},
   "source": [
    "Notice that we called the function twice, and it executed twice.  This is one of the big advantages of modularizing code into functions: you can reuse it in many places."
   ]
  },
  {
   "cell_type": "markdown",
   "metadata": {},
   "source": [
    "In this example, our function does the same thing every time we call it. To make functions more useful, we need to be able to pass in different values as inputs. We will also want to take values that the function calculates and return them as outputs so we can use them in other parts of the program.\n",
    "\n",
    "In the next example, we have taken the square root algorithm we wrote earlier and placed it inside a function, sqrt. (Note that Python has a sqrt function in the math package, and you would normally use that one. There are circumstances, however, in which you may want to rewrite a function yourself to make it work in a slightly different way.) \n",
    "\n",
    "Looking at the function header, notice that it now includes two variables in parentheses: x and epsilon. These are called function *parameters*. Parameters are the values that are passed into the function, which the function will operate on. Notice that the function body contains the same code we wrote earlier to compute a square root, but it ends with a return statement.  This takes the value we care about, stored in answer, and returns it to the main program.\n",
    "*Is \"stored in answer\" correct?*\n",
    "\n",
    "In the main program (after the function is defined), we call the sqrt function, passing in the values 5 and 0.00001. After the function executes, we get back the square root from the return statement and store it in the variable root. We can then continue using this variable in the main program."
   ]
  },
  {
   "cell_type": "code",
   "execution_count": 11,
   "metadata": {
    "collapsed": false
   },
   "outputs": [
    {
     "name": "stdout",
     "output_type": "stream",
     "text": [
      "2.2360688956433634 is close to the square root of 5\n",
      "1.495349088238384 is close to the fourth root of 5\n"
     ]
    }
   ],
   "source": [
    "##Square root algorithm as a function\n",
    "def sqrt(x, epsilon):\n",
    "    \"\"\"Newton's Method to find square root\n",
    "       with precision epsilon (Heron's algorithm)\"\"\"\n",
    "    ans = 1\n",
    "    num_guesses = 0\n",
    "    while abs(x/ans - ans) > epsilon:\n",
    "        ans = (x/ans + ans)/2\n",
    "        num_guesses += 1\n",
    "    return ans\n",
    "\n",
    "root = sqrt(5, 0.00001)\n",
    "print(root, \"is close to the square root of 5\")\n",
    "\n",
    "fourth_root = sqrt(root, 0.00001)\n",
    "print(fourth_root, \"is close to the fourth root of 5\")"
   ]
  },
  {
   "cell_type": "markdown",
   "metadata": {},
   "source": [
    "You might have noticed that we included a string by itself right after the function header, enclosed in triple quotation marks.  This is known as a docstring, and Python understands this as documentation about the function. One way to access it is with the help statement. As you can imagine, this is especially helpful when other programmers use functions that you write."
   ]
  },
  {
   "cell_type": "code",
   "execution_count": null,
   "metadata": {
    "collapsed": false
   },
   "outputs": [],
   "source": [
    "help(sqrt)"
   ]
  },
  {
   "cell_type": "markdown",
   "metadata": {},
   "source": [
    "In this previous example, we actually used the sqrt function twice: once to compute the square root of 5, and once to compute the fourth root of 5. In principle, the same function can be used in a wide variety of places; it can even be used inside other functions. Wherever you are in a program, you can call a function (as long as it has been defined already).\n",
    "\n",
    "### Nesting Functions\n",
    "\n",
    "In the next example, we will make use of our sqrt function to create two more functions:  distance_to_origin computes the distance from a point (x, y) to the orgin (0, 0) in the x-y plane, and geometric_mean computes the value $\\sqrt{xy}$, a value known as the geometric mean of x and y. Both of these functions call sqrt in the function body."
   ]
  },
  {
   "cell_type": "code",
   "execution_count": null,
   "metadata": {
    "collapsed": false
   },
   "outputs": [],
   "source": [
    "## Demonstration of nested function calls\n",
    "def sqrt(x, epsilon):\n",
    "    \"\"\"Newton's Method to find square root\n",
    "       with precision epsilon (Heron's algorithm)\"\"\"\n",
    "    ans = 1\n",
    "    num_guesses = 0\n",
    "    while abs(x/ans - ans) > epsilon:\n",
    "        ans = (x/ans + ans)/2\n",
    "        num_guesses += 1\n",
    "    return ans\n",
    "\n",
    "def distance_to_origin(x, y):\n",
    "    \"\"\"find the distance from a point at (x, y) to the origin\"\"\"\n",
    "    ans = sqrt(x**2 + y**2, 0.00001)\n",
    "    return ans\n",
    "\n",
    "def geometric_mean(x, y):\n",
    "    \"\"\"Returns the root of x*y\"\"\"\n",
    "    return sqrt(x*y, 0.00001)\n",
    "\n",
    "x = float(input(\"Enter a x-coordinate:\"))\n",
    "y = float(input(\"Enter a y-coordinate:\"))\n",
    "magnitude = distance_to_origin(x, y)\n",
    "print(\"The magnitude of your vector is\", magnitude)\n",
    "geo_mean = geometric_mean( x, y)\n",
    "print(\"The geometric mean of x and y is\", geo_mean)"
   ]
  },
  {
   "cell_type": "markdown",
   "metadata": {},
   "source": [
    "## The Stack Trace\n",
    "\n",
    "Python has to keep track of where it is executing inside a function as well as where control needs to return when the function completes. If functions are nested, Python must keep track of an entire sequence of places where control must return as each function completes. To do this, the interpreter uses a data structure known as a call stack or execution stack.\n",
    "\n",
    "You may not have realized it, but when you encounter an error in your scripts, the interpreter actually gives you a printout of the stack. Try inserting the statement 0/0 into the sqrt function above, then running the script.\n",
    "\n",
    "You will get a printout of the execution stack at the moment the error was thrown. This is sometimes called a *stack trace*. As you can see, there are three stack frames. The first is the main program, labeled module() here. The next frame tells you that control entered the distance_to_origin function. The final frame tells you that control entered the sqrt function.  Finally, the error message can be seen: \"division by zero.\" This type of printout can help you understand what was happening in your program when something went wrong. It is an important tool for debugging."
   ]
  }
 ],
 "metadata": {
  "kernelspec": {
   "display_name": "Python 3",
   "language": "python",
   "name": "python3"
  },
  "language_info": {
   "codemirror_mode": {
    "name": "ipython",
    "version": 3
   },
   "file_extension": ".py",
   "mimetype": "text/x-python",
   "name": "python",
   "nbconvert_exporter": "python",
   "pygments_lexer": "ipython3",
   "version": "3.4.3"
  }
 },
 "nbformat": 4,
 "nbformat_minor": 0
}
