{
 "cells": [
  {
   "cell_type": "markdown",
   "metadata": {},
   "source": [
    "## Functions Are Objects\n",
    "\n",
    "This fact probably is not much of a surprise; Python is designed so that almost everything is an object. This elegant idea makes the language simple to understand and predictable in its behavior. It is really one of the biggest advantages Python has over other languages.\n",
    "\n",
    "Let's define a function and confirm that it is, in fact, an object. We will create a function that rounds a number to the nearest 10."
   ]
  },
  {
   "cell_type": "code",
   "execution_count": 10,
   "metadata": {
    "collapsed": true
   },
   "outputs": [],
   "source": [
    "def round10(x):\n",
    "    return (x+5) // 10 * 10"
   ]
  },
  {
   "cell_type": "markdown",
   "metadata": {},
   "source": [
    "Notice that our function has a type."
   ]
  },
  {
   "cell_type": "code",
   "execution_count": 19,
   "metadata": {
    "collapsed": false
   },
   "outputs": [
    {
     "data": {
      "text/plain": [
       "function"
      ]
     },
     "execution_count": 19,
     "metadata": {},
     "output_type": "execute_result"
    }
   ],
   "source": [
    "type(round10)"
   ]
  },
  {
   "cell_type": "markdown",
   "metadata": {},
   "source": [
    "Just like any object, we can bind variables to it."
   ]
  },
  {
   "cell_type": "code",
   "execution_count": 20,
   "metadata": {
    "collapsed": false
   },
   "outputs": [
    {
     "data": {
      "text/plain": [
       "10"
      ]
     },
     "execution_count": 20,
     "metadata": {},
     "output_type": "execute_result"
    }
   ],
   "source": [
    "a = round10\n",
    "a(12)"
   ]
  },
  {
   "cell_type": "markdown",
   "metadata": {},
   "source": [
    "We can also pass our function into other functions as an argument."
   ]
  },
  {
   "cell_type": "code",
   "execution_count": 23,
   "metadata": {
    "collapsed": false
   },
   "outputs": [
    {
     "name": "stdout",
     "output_type": "stream",
     "text": [
      "[('Betty', 90), ('Steve', 80), ('Bob', 70), ('Teri', 90), ('Sandy', 100)]\n"
     ]
    }
   ],
   "source": [
    "def apply_to_grades(operation, grade_list):\n",
    "    return [(name, operation(grade)) for name, grade in grade_list]\n",
    "\n",
    "grade_list = [(\"Betty\", 88), (\"Steve\", 75), (\"Bob\", 73), (\"Teri\", 94), (\"Sandy\", 97)]\n",
    "print( apply_to_grades(round10, grade_list))"
   ]
  },
  {
   "cell_type": "markdown",
   "metadata": {},
   "source": [
    "This is a common thing to do in Python.  In fact, Python has an operator, *map*, which applies a function argument to any iterable.  The return type is also an iterable."
   ]
  },
  {
   "cell_type": "code",
   "execution_count": 25,
   "metadata": {
    "collapsed": false
   },
   "outputs": [
    {
     "data": {
      "text/plain": [
       "[20, 50, 40, 70]"
      ]
     },
     "execution_count": 25,
     "metadata": {},
     "output_type": "execute_result"
    }
   ],
   "source": [
    "list(map(round10, (23, 45, 42, 66)))"
   ]
  },
  {
   "cell_type": "markdown",
   "metadata": {},
   "source": [
    "## Lambda Functions\n",
    "\n",
    "At times, you may find yourself writing very small functions, just to pass them around as arguments.  If your function is just one line, you may not want to bother writing a separate def statement at all.  Instead, you can often create an anonymous function at the point you want to use it, using the lambda keyword.\n",
    "\n",
    "lambda creates a simple function using a very compact syntax.  The following statement creates a function that is intended to inflate grades but bringing them halfway closer to 100."
   ]
  },
  {
   "cell_type": "code",
   "execution_count": 28,
   "metadata": {
    "collapsed": false
   },
   "outputs": [
    {
     "data": {
      "text/plain": [
       "<function __main__.<lambda>>"
      ]
     },
     "execution_count": 28,
     "metadata": {},
     "output_type": "execute_result"
    }
   ],
   "source": [
    "lambda x : 100 - (100 - x)/2"
   ]
  },
  {
   "cell_type": "markdown",
   "metadata": {},
   "source": [
    "Notice that lambda is followed by a parameter name (it could have several parameters separated by commas), then a colon, then an expression that will be evaluated and returned by the function.\n",
    "\n",
    "Here, we use the same lambda function as an input to our apply_to_grades function."
   ]
  },
  {
   "cell_type": "code",
   "execution_count": 29,
   "metadata": {
    "collapsed": false
   },
   "outputs": [
    {
     "data": {
      "text/plain": [
       "[('Betty', 94.0),\n",
       " ('Steve', 87.5),\n",
       " ('Bob', 86.5),\n",
       " ('Teri', 97.0),\n",
       " ('Sandy', 98.5)]"
      ]
     },
     "execution_count": 29,
     "metadata": {},
     "output_type": "execute_result"
    }
   ],
   "source": [
    "apply_to_grades(lambda x : 100 - (100 - x)/2, grade_list)"
   ]
  },
  {
   "cell_type": "markdown",
   "metadata": {},
   "source": [
    "Lambda functions are often used as inputs to a map statement.  Here, we use a lambda function to square each item in a list."
   ]
  },
  {
   "cell_type": "code",
   "execution_count": 30,
   "metadata": {
    "collapsed": false
   },
   "outputs": [
    {
     "data": {
      "text/plain": [
       "[529, 2025, 1764, 4356]"
      ]
     },
     "execution_count": 30,
     "metadata": {},
     "output_type": "execute_result"
    }
   ],
   "source": [
    "list(map(lambda x: x**2, (23, 45, 42, 66)))"
   ]
  }
 ],
 "metadata": {
  "kernelspec": {
   "display_name": "Python 3",
   "language": "python",
   "name": "python3"
  },
  "language_info": {
   "codemirror_mode": {
    "name": "ipython",
    "version": 3
   },
   "file_extension": ".py",
   "mimetype": "text/x-python",
   "name": "python",
   "nbconvert_exporter": "python",
   "pygments_lexer": "ipython3",
   "version": "3.4.3"
  }
 },
 "nbformat": 4,
 "nbformat_minor": 0
}
