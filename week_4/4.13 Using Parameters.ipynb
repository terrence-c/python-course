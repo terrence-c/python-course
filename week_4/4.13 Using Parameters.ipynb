{
 "cells": [
  {
   "cell_type": "markdown",
   "metadata": {},
   "source": [
    "## Default Parameters\n",
    "\n",
    "We have seen that parameters are usually the best way to get values we need into functions; they help keep functions encapsulated and prevent programming errors. Next, let's look at a few advanced techniques for using parameters. You may not use these tools very often, but they are invaluable when extra flexibility is needed.\n",
    "\n",
    "First, there are many times that you will want to specify a default value for a parameter. In the following example, there is a function that translates a numerical grade to a letter grade. We include an optional field for comments."
   ]
  },
  {
   "cell_type": "code",
   "execution_count": 3,
   "metadata": {
    "collapsed": false
   },
   "outputs": [
    {
     "name": "stdout",
     "output_type": "stream",
     "text": [
      "A Great work!\n",
      "B \n",
      "C Please study more\n"
     ]
    }
   ],
   "source": [
    "def feedback(grade, comment = \"\"):\n",
    "    if grade >= 90 and grade <= 100:\n",
    "        return(\"A \" + comment)\n",
    "    elif grade >= 80 and grade < 90:\n",
    "        return(\"B \" + comment)\n",
    "    elif grade >= 70 and grade < 80:\n",
    "        return(\"C \" + comment)\n",
    "    elif grade >= 60 and grade < 70:\n",
    "        return(\"D \" + comment)\n",
    "    else:\n",
    "        return(\"F \" + comment)\n",
    "    \n",
    "print(feedback(90, \"Great work!\"))\n",
    "print(feedback(80))\n",
    "print(feedback(75, \"Please study more\"))"
   ]
  },
  {
   "cell_type": "markdown",
   "metadata": {},
   "source": [
    "Notice that we do not have to include a comment argument when we call the function. Instead, we specify a default value (the empty string) in the function header. This will be the parameter value whenever we call the function without a comment.\n",
    "\n",
    "What if we wanted a default value for the grade as well, in case a student grade is missing?  We would not want to use a 0 for the default value since this might be the actual grade. You could probably use a -1, but that is not very expressive and readers might not know what your code is intended to do. Luckily, Python gives us a handy object that we can use in situations like this. It is a unique object called None. As you can see, it even has its own type."
   ]
  },
  {
   "cell_type": "code",
   "execution_count": 13,
   "metadata": {
    "collapsed": false
   },
   "outputs": [
    {
     "data": {
      "text/plain": [
       "NoneType"
      ]
     },
     "execution_count": 13,
     "metadata": {},
     "output_type": "execute_result"
    }
   ],
   "source": [
    "type(None)"
   ]
  },
  {
   "cell_type": "markdown",
   "metadata": {},
   "source": [
    "Here, we will revise our script to use None as the default values."
   ]
  },
  {
   "cell_type": "code",
   "execution_count": 19,
   "metadata": {
    "collapsed": false
   },
   "outputs": [
    {
     "name": "stdout",
     "output_type": "stream",
     "text": [
      "A - Great work!\n",
      "B\n",
      "C - Please study more\n",
      "Grade is Missing.\n"
     ]
    }
   ],
   "source": [
    "def feedback(grade = None, comment = None):\n",
    "    text = \"\" if comment == None else \" - \" + comment\n",
    "    if grade == None:\n",
    "        return(\"Grade is Missing.\" + text)\n",
    "    elif grade >= 90 and grade <= 100:\n",
    "        return(\"A\" + text)\n",
    "    elif grade >= 80 and grade < 90:\n",
    "        return(\"B\" + text)\n",
    "    elif grade >= 70 and grade < 80:\n",
    "        return(\"C\" + text)\n",
    "    elif grade >= 60 and grade < 70:\n",
    "        return(\"D\" + text)\n",
    "    else:\n",
    "        return(\"F\" + text)\n",
    "    \n",
    "print(feedback(90, \"Great work!\"))\n",
    "print(feedback(80))\n",
    "print(feedback(75, \"Please study more\"))\n",
    "print(feedback())"
   ]
  },
  {
   "cell_type": "markdown",
   "metadata": {},
   "source": [
    "Notice that we also use None as the default value for comment.  This lets us easily print a dash whenever comment text is entered.\n",
    "\n",
    "One final warning deserves mention here.  A default parameter value is only created once, not reset every time a function is called.  This means that if you use a mutable object as a default value and change it, it will remain changed the next time you enter the function.  The following script demonstrates how this can lead to trouble.\n",
    "\n",
    "In this example, we are using a list to contain data about orders. Each item is a tuple containing a name and a number of orders. Notice how the function add_total adds another tuple to represent the total number of orders."
   ]
  },
  {
   "cell_type": "code",
   "execution_count": 29,
   "metadata": {
    "collapsed": false
   },
   "outputs": [
    {
     "name": "stdout",
     "output_type": "stream",
     "text": [
      "[('Bob', 8), ('Teri', 3), ('Pat', 4), ('Total', 15)]\n"
     ]
    }
   ],
   "source": [
    "def add_total(order_list = []):\n",
    "    total = sum([quantity for name, quantity in order_list])\n",
    "    order_list.append( (\"Total\", total))\n",
    "    print(order_list)\n",
    "    \n",
    "order_list = [(\"Bob\", 8), (\"Teri\", 3), (\"Pat\", 4)]\n",
    "add_total(order_list)"
   ]
  },
  {
   "cell_type": "markdown",
   "metadata": {},
   "source": [
    "That seems to work pretty well, and we put in a default value so the function will work reasonably well if there is no order list."
   ]
  },
  {
   "cell_type": "code",
   "execution_count": 31,
   "metadata": {
    "collapsed": false
   },
   "outputs": [
    {
     "name": "stdout",
     "output_type": "stream",
     "text": [
      "[('Total', 0), ('Total', 0)]\n"
     ]
    }
   ],
   "source": [
    "add_total()"
   ]
  },
  {
   "cell_type": "markdown",
   "metadata": {},
   "source": [
    "Notice what happens if we execute that last line again."
   ]
  },
  {
   "cell_type": "code",
   "execution_count": 33,
   "metadata": {
    "collapsed": false
   },
   "outputs": [
    {
     "name": "stdout",
     "output_type": "stream",
     "text": [
      "[('Total', 0), ('Total', 0), ('Total', 0), ('Total', 0)]\n"
     ]
    }
   ],
   "source": [
    "add_total()"
   ]
  },
  {
   "cell_type": "markdown",
   "metadata": {},
   "source": [
    "As you can see, our default order list continues to grow; the default object remains the same and is not reset when we call the function. This behavior may seem odd, but it reflects Python's way of understanding functions. Default values are seen as permanent attributes of functions, and there are times when you will want to modify them over time."
   ]
  },
  {
   "cell_type": "markdown",
   "metadata": {},
   "source": [
    "## Keyword Arguments\n",
    "\n",
    "In the previous code, the arguments we pass in are what we call positional; Python knows that the string we pass in goes with the comment parameter because it appears after the grade argument. It is also possible, however, to specify which parameter each argument corresponds to explicitly. These are known as keyword arguments and are shown in the code below."
   ]
  },
  {
   "cell_type": "code",
   "execution_count": 7,
   "metadata": {
    "collapsed": false
   },
   "outputs": [
    {
     "name": "stdout",
     "output_type": "stream",
     "text": [
      "A Keep it up!\n",
      "B Not bad.\n"
     ]
    }
   ],
   "source": [
    "print(feedback(90, comment = \"Keep it up!\"))\n",
    "print(feedback(comment = \"Not bad.\", grade = 88))"
   ]
  },
  {
   "cell_type": "markdown",
   "metadata": {},
   "source": [
    "Notice that the order does not matter when we use keyword arguments; we can put the grade first or the comment first. Even if we know the order of parameters, we may wish to use keyword arguments to make our function call extra clear to readers.\n",
    "\n",
    "You have probably seen an example of optional keyword arguments already. The print statement normally moves to the next line after it finishes printing because there is a parameter called end that is set to a next line by default. We can set this to an empty string instead, causing the print to stay on the same line."
   ]
  },
  {
   "cell_type": "code",
   "execution_count": 11,
   "metadata": {
    "collapsed": false
   },
   "outputs": [
    {
     "name": "stdout",
     "output_type": "stream",
     "text": [
      "Default\n",
      "print\n",
      "behavior.\n",
      "Modified print behavior."
     ]
    }
   ],
   "source": [
    "print(\"Default\")\n",
    "print(\"print\")\n",
    "print(\"behavior.\")\n",
    "\n",
    "print(\"Modified\", end=\" \")\n",
    "print(\"print\", end=\" \")\n",
    "print(\"behavior\", end=\".\")"
   ]
  }
 ],
 "metadata": {
  "kernelspec": {
   "display_name": "Python 3",
   "language": "python",
   "name": "python3"
  },
  "language_info": {
   "codemirror_mode": {
    "name": "ipython",
    "version": 3
   },
   "file_extension": ".py",
   "mimetype": "text/x-python",
   "name": "python",
   "nbconvert_exporter": "python",
   "pygments_lexer": "ipython3",
   "version": "3.4.3"
  }
 },
 "nbformat": 4,
 "nbformat_minor": 0
}
