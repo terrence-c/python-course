{
 "cells": [
  {
   "cell_type": "markdown",
   "metadata": {},
   "source": [
    "## Exceptions\n",
    "\n",
    "By now, you have seen many errors in Python, and hopefully you are getting used to reading error messages along with stack printouts. These are useful for debugging, but you would not want customers or users that are not programmers to see the same error messages that you do.  As you move to production-quality code, you will need to pay attention to errors and actively think about responsible ways to react to them.\n",
    "\n",
    "As a common example, we often ask the user to enter a number in our scripts. Notice what happens if you type in a name by mistake."
   ]
  },
  {
   "cell_type": "code",
   "execution_count": 10,
   "metadata": {
    "collapsed": false
   },
   "outputs": [
    {
     "name": "stdout",
     "output_type": "stream",
     "text": [
      "Enter a number: 0\n"
     ]
    },
    {
     "ename": "ZeroDivisionError",
     "evalue": "division by zero",
     "output_type": "error",
     "traceback": [
      "\u001b[0;31m---------------------------------------------------------------------------\u001b[0m",
      "\u001b[0;31mZeroDivisionError\u001b[0m                         Traceback (most recent call last)",
      "\u001b[0;32m<ipython-input-10-d99fbe94254a>\u001b[0m in \u001b[0;36m<module>\u001b[0;34m()\u001b[0m\n\u001b[1;32m      1\u001b[0m \u001b[0mx\u001b[0m \u001b[0;34m=\u001b[0m \u001b[0mint\u001b[0m\u001b[0;34m(\u001b[0m\u001b[0minput\u001b[0m\u001b[0;34m(\u001b[0m\u001b[0;34m\"Enter a number: \"\u001b[0m\u001b[0;34m)\u001b[0m\u001b[0;34m)\u001b[0m\u001b[0;34m\u001b[0m\u001b[0m\n\u001b[0;32m----> 2\u001b[0;31m \u001b[0mprint\u001b[0m\u001b[0;34m(\u001b[0m\u001b[0;34m\"The reciprocal of your number is\"\u001b[0m\u001b[0;34m,\u001b[0m \u001b[0;36m1\u001b[0m\u001b[0;34m/\u001b[0m\u001b[0mx\u001b[0m\u001b[0;34m)\u001b[0m\u001b[0;34m\u001b[0m\u001b[0m\n\u001b[0m",
      "\u001b[0;31mZeroDivisionError\u001b[0m: division by zero"
     ]
    }
   ],
   "source": [
    "x = int(input(\"Enter a number: \"))\n",
    "print(\"The reciprocal of your number is\", 1/x)"
   ]
  },
  {
   "cell_type": "markdown",
   "metadata": {},
   "source": [
    "The script stops running and you get a ValueError.  This is fine for a short script you use yourself, but the error message is likely to mystify other people who use your program.\n",
    "\n",
    "When we know that a particular piece of code is likely to throw an exception, we should encase it in a try-except statement.  When an exception occurs, the try statement \"catches\" it and executes the code in the except clause.  Try running the script below and enter a name again."
   ]
  },
  {
   "cell_type": "code",
   "execution_count": 13,
   "metadata": {
    "collapsed": false
   },
   "outputs": [
    {
     "name": "stdout",
     "output_type": "stream",
     "text": [
      "Enter a number: P\n",
      "You did not enter a valid number.\n"
     ]
    }
   ],
   "source": [
    "try:\n",
    "    x = float(input(\"Enter a number: \"))\n",
    "    print(\"The reciprocal of your number is\", 1/x)\n",
    "except:\n",
    "    print(\"You did not enter a valid number.\")"
   ]
  },
  {
   "cell_type": "markdown",
   "metadata": {},
   "source": [
    "Notice that the program now recovers gracefully from this error."
   ]
  },
  {
   "cell_type": "markdown",
   "metadata": {},
   "source": [
    "The same code could throw different types of exceptions, and you can use separate except clauses to respond differently to each one.  Here, we watch for both a ValueError and a ZeroDivisionError."
   ]
  },
  {
   "cell_type": "code",
   "execution_count": 14,
   "metadata": {
    "collapsed": false
   },
   "outputs": [
    {
     "name": "stdout",
     "output_type": "stream",
     "text": [
      "Enter a number: 0\n",
      "Zero does not have a reciprocal\n"
     ]
    }
   ],
   "source": [
    "try:\n",
    "    x = float(input(\"Enter a number: \"))\n",
    "    print(\"The reciprocal of your number is\", 1/x)\n",
    "except ValueError:\n",
    "    print(\"You did not enter a valid number.\")\n",
    "except ZeroDivisionError:\n",
    "    print(\"Zero does not have a reciprocal\")\n",
    "except:\n",
    "    print(\"something else went wrong.\")"
   ]
  },
  {
   "cell_type": "markdown",
   "metadata": {},
   "source": [
    "Notice that we included one final except clause without a specific error type.  This is intended to catch any exceptions that were not caught by the previous except clauses.  \n",
    "\n",
    "If an exception were not caught by our try statement, it would continue bubbling up the execution stack.  It might encounter an except statement that can catch it at some point.  If not, the interpreter will terminate the program and display the error."
   ]
  },
  {
   "cell_type": "markdown",
   "metadata": {},
   "source": [
    "## Creating Exceptions\n",
    "\n",
    "Exceptions are a useful way for program components to communicate that something has gone wrong.  As you develop as a programmer, you will not just be in the business of handling exceptions; you will start creating them yourself.  In this way, you will make Python's system of exceptions work for you.  To create an exception, use a *raise* statement.\n",
    "\n",
    "In the following code, we will use a dictionary to store the number of each type of item.  Function *sell* will take the name of an item and the number being sold, and will update our dictionary.\n",
    "\n",
    "When an item is not in our inventory, we will raise an exception to alert other program components that this has happened. We will also raise an exception if we do not have enough of an item."
   ]
  },
  {
   "cell_type": "code",
   "execution_count": 18,
   "metadata": {
    "collapsed": true
   },
   "outputs": [],
   "source": [
    "def sell(item, quantity, inventory):\n",
    "    if item not in inventory:\n",
    "        raise Exception(str(item) + \" does not appear in inventory.\")\n",
    "    q = inventory[item]\n",
    "    if q < quantity:\n",
    "        raise Exception(\"Inventory does not contain enough of item to sell.\")\n",
    "    inventory[item] = q - quantity\n",
    "\n",
    "inventory = {\"oranges\":10, \"apples\": 5, \"plums\":3}"
   ]
  },
  {
   "cell_type": "markdown",
   "metadata": {},
   "source": [
    "Try running this code and notice that Python displays the helpful error message we created."
   ]
  },
  {
   "cell_type": "code",
   "execution_count": 24,
   "metadata": {
    "collapsed": false
   },
   "outputs": [
    {
     "ename": "Exception",
     "evalue": "Inventory does not contain enough of item to sell.",
     "output_type": "error",
     "traceback": [
      "\u001b[0;31m---------------------------------------------------------------------------\u001b[0m",
      "\u001b[0;31mException\u001b[0m                                 Traceback (most recent call last)",
      "\u001b[0;32m<ipython-input-24-005dd0be1eb9>\u001b[0m in \u001b[0;36m<module>\u001b[0;34m()\u001b[0m\n\u001b[0;32m----> 1\u001b[0;31m \u001b[0msell\u001b[0m\u001b[0;34m(\u001b[0m\u001b[0;34m\"oranges\"\u001b[0m\u001b[0;34m,\u001b[0m \u001b[0;36m15\u001b[0m\u001b[0;34m,\u001b[0m \u001b[0minventory\u001b[0m\u001b[0;34m)\u001b[0m\u001b[0;34m\u001b[0m\u001b[0m\n\u001b[0m",
      "\u001b[0;32m<ipython-input-18-65cb088c5944>\u001b[0m in \u001b[0;36msell\u001b[0;34m(item, quantity, inventory)\u001b[0m\n\u001b[1;32m      4\u001b[0m     \u001b[0mq\u001b[0m \u001b[0;34m=\u001b[0m \u001b[0minventory\u001b[0m\u001b[0;34m[\u001b[0m\u001b[0mitem\u001b[0m\u001b[0;34m]\u001b[0m\u001b[0;34m\u001b[0m\u001b[0m\n\u001b[1;32m      5\u001b[0m     \u001b[0;32mif\u001b[0m \u001b[0mq\u001b[0m \u001b[0;34m<\u001b[0m \u001b[0mquantity\u001b[0m\u001b[0;34m:\u001b[0m\u001b[0;34m\u001b[0m\u001b[0m\n\u001b[0;32m----> 6\u001b[0;31m         \u001b[0;32mraise\u001b[0m \u001b[0mException\u001b[0m\u001b[0;34m(\u001b[0m\u001b[0;34m\"Inventory does not contain enough of item to sell.\"\u001b[0m\u001b[0;34m)\u001b[0m\u001b[0;34m\u001b[0m\u001b[0m\n\u001b[0m\u001b[1;32m      7\u001b[0m     \u001b[0minventory\u001b[0m\u001b[0;34m[\u001b[0m\u001b[0mitem\u001b[0m\u001b[0;34m]\u001b[0m \u001b[0;34m=\u001b[0m \u001b[0mq\u001b[0m \u001b[0;34m-\u001b[0m \u001b[0mquantity\u001b[0m\u001b[0;34m\u001b[0m\u001b[0m\n\u001b[1;32m      8\u001b[0m \u001b[0;34m\u001b[0m\u001b[0m\n",
      "\u001b[0;31mException\u001b[0m: Inventory does not contain enough of item to sell."
     ]
    }
   ],
   "source": [
    "sell(\"oranges\", 15, inventory)"
   ]
  },
  {
   "cell_type": "markdown",
   "metadata": {},
   "source": [
    "We can also catch the errors we generated in our main program and try to display a helpful message for the user."
   ]
  },
  {
   "cell_type": "code",
   "execution_count": 22,
   "metadata": {
    "collapsed": false
   },
   "outputs": [
    {
     "name": "stdout",
     "output_type": "stream",
     "text": [
      "Could not complete sale: Inventory does not contain enough of item to sell.\n"
     ]
    }
   ],
   "source": [
    "try:\n",
    "    sell(\"oranges\", 15, inventory)\n",
    "except Exception as e:\n",
    "    print(\"Could not complete sale: \" + str(e))"
   ]
  },
  {
   "cell_type": "markdown",
   "metadata": {},
   "source": [
    "Notice that our except statement now includes an *as* keyword.  This means that Python will bind the new variable *e* to our exception object.  We can then use that variable to print the text we entered into our exception."
   ]
  }
 ],
 "metadata": {
  "kernelspec": {
   "display_name": "Python 3",
   "language": "python",
   "name": "python3"
  },
  "language_info": {
   "codemirror_mode": {
    "name": "ipython",
    "version": 3
   },
   "file_extension": ".py",
   "mimetype": "text/x-python",
   "name": "python",
   "nbconvert_exporter": "python",
   "pygments_lexer": "ipython3",
   "version": "3.4.3"
  }
 },
 "nbformat": 4,
 "nbformat_minor": 0
}
