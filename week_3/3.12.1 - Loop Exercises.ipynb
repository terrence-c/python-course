{
 "cells": [
  {
   "cell_type": "markdown",
   "metadata": {},
   "source": [
    "1. Write a script that prompts the user for his or her name. Using a loop that counts downward, print the name with the letters reversed. You may use `s.lower()` and `s.upper()` to change a string `s` to lowercase and uppercase letters.\n",
    "```\n",
    "Enter your name: Paul \n",
    "Luap\n",
    "```\n",
    "If the name is the same forward and backwards, print \"Palindrome!\" on the next line.\n",
    "```\n",
    "Enter your name: Ana \n",
    "Ana \n",
    "Palindrome!\n",
    "```"
   ]
  },
  {
   "cell_type": "code",
   "execution_count": null,
   "metadata": {
    "collapsed": true
   },
   "outputs": [],
   "source": [
    "name = input(\"Enter your name: \")"
   ]
  },
  {
   "cell_type": "markdown",
   "metadata": {},
   "source": [
    "2. Write a script that prompts the user for an integer tree size, then displays a number tree as shown below:\n",
    "\n",
    "Enter a size: 5 \n",
    "```\n",
    "    1\n",
    "   121\n",
    "  12321\n",
    " 1234321 \n",
    "123454321\n",
    "```"
   ]
  },
  {
   "cell_type": "code",
   "execution_count": null,
   "metadata": {
    "collapsed": true
   },
   "outputs": [],
   "source": [
    "n = int(input(\"Enter a size: \"))"
   ]
  },
  {
   "cell_type": "markdown",
   "metadata": {},
   "source": [
    "3. The Fibonacci numbers begin with 1, 1.  After the first two numbers, each number is the sum of the previous two. 1 + 1 = 2, so 2 is the third number. Then 1 + 2 = 3, so 3 is the next one, and so on. Write a script that prompts the user for a number, then prints all the Fibonacci numbers that are less than or equal to the input, in order.\n",
    "\n",
    "```\n",
    "Enter a number: 15\n",
    "1 1 2 3 5 8 13\n",
    "```"
   ]
  },
  {
   "cell_type": "code",
   "execution_count": null,
   "metadata": {
    "collapsed": true
   },
   "outputs": [],
   "source": [
    "n = int(input(\"Enter a number: \"))"
   ]
  },
  {
   "cell_type": "markdown",
   "metadata": {},
   "source": [
    "Pascal's triangle is a triangle of numbers that is computed as follows.  The first row contains a 1.  Each row after that begins and ends with a 1, and every other number is the sum of the two numbers above it.  The first six rows of Pascal's triangle are shown below.\n",
    "```\n",
    "      1\n",
    "     1 1\n",
    "    1 2 1\n",
    "  1  3 3  1\n",
    " 1 4  6  4 1\n",
    "1 5 10 10 5 1\n",
    "```\n",
    "Write a script to compute the *n*th row of Pascal's triangle."
   ]
  },
  {
   "cell_type": "code",
   "execution_count": null,
   "metadata": {
    "collapsed": false
   },
   "outputs": [],
   "source": [
    "n = int(input(\"Enter a number: \"))"
   ]
  }
 ],
 "metadata": {
  "kernelspec": {
   "display_name": "Python 3",
   "language": "python",
   "name": "python3"
  },
  "language_info": {
   "codemirror_mode": {
    "name": "ipython",
    "version": 3
   },
   "file_extension": ".py",
   "mimetype": "text/x-python",
   "name": "python",
   "nbconvert_exporter": "python",
   "pygments_lexer": "ipython3",
   "version": "3.4.3"
  }
 },
 "nbformat": 4,
 "nbformat_minor": 0
}
