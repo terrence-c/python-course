{
 "cells": [
  {
   "cell_type": "markdown",
   "metadata": {},
   "source": [
    "## Packages"
   ]
  },
  {
   "cell_type": "markdown",
   "metadata": {},
   "source": [
    "In the last section we saw how to store useful code in a module and then use that functionality in a separate Python script.\n",
    "\n",
    "Sometimes you want to group several modules together in a logical unit; Python provides that capability with packages. Think of a package as a single folder where you can package any number of related modules together. "
   ]
  },
  {
   "cell_type": "markdown",
   "metadata": {},
   "source": [
    "For this example, we have written two modules, `daily` and `weekly`, that return daily or weekly forecasts. We placed these modules in a folder called `weather` in the same directory as this notebook."
   ]
  },
  {
   "cell_type": "code",
   "execution_count": 1,
   "metadata": {
    "collapsed": false
   },
   "outputs": [
    {
     "name": "stdout",
     "output_type": "stream",
     "text": [
      "# daily.py\r\n",
      "# \r\n",
      "# Provides the weather for Berkeley, CA for today\r\n",
      "\r\n",
      "from urllib.request import urlopen\r\n",
      "import json\r\n",
      "\r\n",
      "def forecast():\r\n",
      "    \"\"\"\r\n",
      "    Returns the daily weather for Berkeley, CA\r\n",
      "    \"\"\"\r\n",
      "    response = urlopen('http://api.openweathermap.org/data/2.5/forecast/daily?q=Berkeley&mode=json&units=Imperial&cnt=1')\r\n",
      "    rawWeatherData = response.read().decode(\"utf-8\")\r\n",
      "    weatherData = json.loads(rawWeatherData)\r\n",
      "\r\n",
      "    forecastStr = \"Forecast for Berkeley, CA: \" + weatherData[\"list\"][0][\"weather\"][0][\"main\"] + \"\\n\" \\\r\n",
      "        \"Current Temp: \" + str(weatherData[\"list\"][0][\"temp\"][\"day\"]) + \" degrees \\n\"  \\\r\n",
      "        \"High Temp: \" + str(weatherData[\"list\"][0][\"temp\"][\"max\"]) + \" degrees \\n\" \\\r\n",
      "        \"Low Temp: \" + str(weatherData[\"list\"][0][\"temp\"][\"min\"]) + \" degrees\"\r\n",
      "\r\n",
      "    return forecastStr"
     ]
    }
   ],
   "source": [
    "!cat weather/daily.py "
   ]
  },
  {
   "cell_type": "code",
   "execution_count": 2,
   "metadata": {
    "collapsed": false
   },
   "outputs": [
    {
     "name": "stdout",
     "output_type": "stream",
     "text": [
      "# weekly.py\r\n",
      "# \r\n",
      "# Provides the weather for Berkeley, CA for the week\r\n",
      "\r\n",
      "from urllib.request import urlopen\r\n",
      "import json\r\n",
      "import datetime\r\n",
      "\r\n",
      "def forecast():\r\n",
      "    \"\"\"\r\n",
      "    Returns the daily weather for Berkeley, CA\r\n",
      "    \"\"\"\r\n",
      "    response = urlopen('http://api.openweathermap.org/data/2.5/forecast/daily?q=Berkeley&mode=json&units=Imperial&cnt=7')\r\n",
      "    rawWeatherDataList = response.read().decode(\"utf-8\")\r\n",
      "    weatherDataList = json.loads(rawWeatherDataList)\r\n",
      "\r\n",
      "    forecastStr = \"\"\r\n",
      "    for i in range(7):\r\n",
      "        forecastStr += _daily_forecast(weatherDataList[\"list\"][i]) + \"\\n\\n\"\r\n",
      "\r\n",
      "    forecastStr = forecastStr[:-2] # Remove the two newlines at the end \r\n",
      "    return forecastStr\r\n",
      "\r\n",
      "\r\n",
      "def _daily_forecast(weatherData):\r\n",
      "    \"\"\"\r\n",
      "    Helper function that prints a single day's forecast\r\n",
      "    \"\"\"\r\n",
      "\r\n",
      "    # Using python datetime support to convert a timestamp into a full date\r\n",
      "    \r\n",
      "    # First need to define the UTC offset for Berkeley, CA (UTC - 8:00) (not daylight savings time)\r\n",
      "    current_utc_offset = -datetime.timedelta(hours=8)\r\n",
      "\r\n",
      "    # Next we create a timezone based on the utc offset for Pacific Standard Time\r\n",
      "    current_timezone = datetime.timezone(current_utc_offset)\r\n",
      "\r\n",
      "    # Last we create a datetime object based on the timestamp provided by the response, and\r\n",
      "    # we localize the timezone to represent Pacific Standard Time \r\n",
      "    current_datetime = datetime.datetime.fromtimestamp(weatherData[\"dt\"], current_timezone)\r\n",
      "\r\n",
      "    # Printing of the forecast\r\n",
      "    \r\n",
      "    # Note we use strftime to format how we would like to print out the datetime\r\n",
      "    forecastStr = \"Forecast for Berkeley, CA on \" + current_datetime.strftime(\"%A, %B %d, %Y %H:%M %p\") + \" local time\\n\" \\\r\n",
      "    \"Weather: \"  + weatherData[\"weather\"][0][\"main\"] + \"\\n\" \\\r\n",
      "    \"Current Temp: \" + str(weatherData[\"temp\"][\"day\"]) + \" degrees \\n\"  \\\r\n",
      "    \"High Temp: \" + str(weatherData[\"temp\"][\"max\"]) + \" degrees \\n\" \\\r\n",
      "    \"Low Temp: \" + str(weatherData[\"temp\"][\"min\"]) + \" degrees\"\r\n",
      "\r\n",
      "    return forecastStr\r\n"
     ]
    }
   ],
   "source": [
    "!cat weather/weekly.py"
   ]
  },
  {
   "cell_type": "markdown",
   "metadata": {},
   "source": [
    "The weather/daily.py module contains the ability to return the forecast at Berkeley, California, today. The weather/weekly.py module contains the ability to return the weekly forecast at Berkeley, California. We moved those modules into folder `weather`.  As a last step, we need to add an empty file named `__init.py__` to the weather folder.  We can do that with the following shell command."
   ]
  },
  {
   "cell_type": "code",
   "execution_count": 3,
   "metadata": {
    "collapsed": true
   },
   "outputs": [],
   "source": [
    "!touch weather/__init__.py"
   ]
  },
  {
   "cell_type": "markdown",
   "metadata": {},
   "source": [
    "By doing that, we made `weather` into a package: a container that can contain modules and other packages.  We can import it into this notebook as follows."
   ]
  },
  {
   "cell_type": "code",
   "execution_count": 4,
   "metadata": {
    "collapsed": false
   },
   "outputs": [
    {
     "name": "stdout",
     "output_type": "stream",
     "text": [
      "Daily:\n",
      "Forecast for Berkeley, CA: Clear\n",
      "Current Temp: 84.67 degrees \n",
      "High Temp: 86.02 degrees \n",
      "Low Temp: 57.74 degrees\n",
      "\n",
      "Weekly:\n",
      "Forecast for Berkeley, CA on Saturday, August 22, 2015 12:00 PM local time\n",
      "Weather: Clear\n",
      "Current Temp: 84.67 degrees \n",
      "High Temp: 86.02 degrees \n",
      "Low Temp: 57.74 degrees\n",
      "\n",
      "Forecast for Berkeley, CA on Sunday, August 23, 2015 12:00 PM local time\n",
      "Weather: Clear\n",
      "Current Temp: 84.25 degrees \n",
      "High Temp: 85.26 degrees \n",
      "Low Temp: 58.21 degrees\n",
      "\n",
      "Forecast for Berkeley, CA on Monday, August 24, 2015 12:00 PM local time\n",
      "Weather: Clear\n",
      "Current Temp: 83.55 degrees \n",
      "High Temp: 86.09 degrees \n",
      "Low Temp: 58.28 degrees\n",
      "\n",
      "Forecast for Berkeley, CA on Tuesday, August 25, 2015 12:00 PM local time\n",
      "Weather: Clear\n",
      "Current Temp: 86.61 degrees \n",
      "High Temp: 88.48 degrees \n",
      "Low Temp: 57.87 degrees\n",
      "\n",
      "Forecast for Berkeley, CA on Wednesday, August 26, 2015 12:00 PM local time\n",
      "Weather: Rain\n",
      "Current Temp: 74.66 degrees \n",
      "High Temp: 84.61 degrees \n",
      "Low Temp: 52.2 degrees\n",
      "\n",
      "Forecast for Berkeley, CA on Thursday, August 27, 2015 12:00 PM local time\n",
      "Weather: Clear\n",
      "Current Temp: 79.74 degrees \n",
      "High Temp: 86.45 degrees \n",
      "Low Temp: 57.51 degrees\n",
      "\n",
      "Forecast for Berkeley, CA on Friday, August 28, 2015 12:00 PM local time\n",
      "Weather: Clear\n",
      "Current Temp: 81 degrees \n",
      "High Temp: 87.69 degrees \n",
      "Low Temp: 60.3 degrees\n"
     ]
    }
   ],
   "source": [
    "from weather import daily, weekly\n",
    "\n",
    "print(\"Daily:\")\n",
    "print(daily.forecast())\n",
    "print()\n",
    "\n",
    "print(\"Weekly:\")\n",
    "print(weekly.forecast())"
   ]
  },
  {
   "cell_type": "markdown",
   "metadata": {},
   "source": [
    "Note that we could accomplish the same thing by importing only what we want from each module, but we will need to create an alias for each method since both the daily and weekly modules implement a module with the same name (`forecast`)."
   ]
  },
  {
   "cell_type": "code",
   "execution_count": 5,
   "metadata": {
    "collapsed": false
   },
   "outputs": [
    {
     "name": "stdout",
     "output_type": "stream",
     "text": [
      "Daily:\n",
      "Forecast for Berkeley, CA: Clear\n",
      "Current Temp: 84.67 degrees \n",
      "High Temp: 86.02 degrees \n",
      "Low Temp: 57.74 degrees\n",
      "\n",
      "\n",
      "Weekly:\n",
      "Forecast for Berkeley, CA on Saturday, August 22, 2015 12:00 PM local time\n",
      "Weather: Clear\n",
      "Current Temp: 84.67 degrees \n",
      "High Temp: 86.02 degrees \n",
      "Low Temp: 57.74 degrees\n",
      "\n",
      "Forecast for Berkeley, CA on Sunday, August 23, 2015 12:00 PM local time\n",
      "Weather: Clear\n",
      "Current Temp: 84.25 degrees \n",
      "High Temp: 85.26 degrees \n",
      "Low Temp: 58.21 degrees\n",
      "\n",
      "Forecast for Berkeley, CA on Monday, August 24, 2015 12:00 PM local time\n",
      "Weather: Clear\n",
      "Current Temp: 83.55 degrees \n",
      "High Temp: 86.09 degrees \n",
      "Low Temp: 58.28 degrees\n",
      "\n",
      "Forecast for Berkeley, CA on Tuesday, August 25, 2015 12:00 PM local time\n",
      "Weather: Clear\n",
      "Current Temp: 86.61 degrees \n",
      "High Temp: 88.48 degrees \n",
      "Low Temp: 57.87 degrees\n",
      "\n",
      "Forecast for Berkeley, CA on Wednesday, August 26, 2015 12:00 PM local time\n",
      "Weather: Rain\n",
      "Current Temp: 74.66 degrees \n",
      "High Temp: 84.61 degrees \n",
      "Low Temp: 52.2 degrees\n",
      "\n",
      "Forecast for Berkeley, CA on Thursday, August 27, 2015 12:00 PM local time\n",
      "Weather: Clear\n",
      "Current Temp: 79.74 degrees \n",
      "High Temp: 86.45 degrees \n",
      "Low Temp: 57.51 degrees\n",
      "\n",
      "Forecast for Berkeley, CA on Friday, August 28, 2015 12:00 PM local time\n",
      "Weather: Clear\n",
      "Current Temp: 81 degrees \n",
      "High Temp: 87.69 degrees \n",
      "Low Temp: 60.3 degrees\n"
     ]
    }
   ],
   "source": [
    "from weather.daily import forecast as daily_forecast\n",
    "from weather.weekly import forecast as weekly_forecast\n",
    "\n",
    "print(\"Daily:\")\n",
    "print(daily_forecast())\n",
    "print(\"\\n\")\n",
    "\n",
    "print(\"Weekly:\")\n",
    "print(weekly_forecast())"
   ]
  },
  {
   "cell_type": "markdown",
   "metadata": {},
   "source": [
    "###Note on datetimes in Python 3"
   ]
  },
  {
   "cell_type": "markdown",
   "metadata": {},
   "source": [
    "You may have noticed that the weather/weekly module had a number of lines of code to handle the date and time for the forecast. Time may be a simple concept for humans to understand, but there are so many different nuances that need to be explicitly built out in code. The following are a few of the nuances that need to be handled:\n",
    "\n",
    "1. Time zones: The same point in time can be a different date somewhere else in the world.\n",
    "2. Calendars: There are calendars other than the Gregorian calendar that we use.\n",
    "3. Formatting time: How should the date and time be displayed? For example, 8/21/15 3 pm, or 2015-08-15 15:00?\n",
    "4. Time deltas: If you add two days to August 30, the object needs to be smart enough to know that the new date is September 1 and not August 32.\n",
    "\n",
    "Fortunately, Python 3 provides a datetime object that helps us address all of these issues correctly. Let's focus on the pieces of code in the weather/weekly module that work with datetime."
   ]
  },
  {
   "cell_type": "code",
   "execution_count": 6,
   "metadata": {
    "collapsed": false
   },
   "outputs": [
    {
     "name": "stdout",
     "output_type": "stream",
     "text": [
      "Forecast for Berkeley, CA on Saturday, August 22, 2015 11:16 AM local time\n",
      "\n"
     ]
    }
   ],
   "source": [
    "# Adding this line to ensure that this code works outside its context:\n",
    "import datetime\n",
    "weatherData = {}\n",
    "weatherData[\"dt\"] = 1440270976\n",
    "\n",
    "# First need to define the UTC offset for Berkeley, CA (UTC - 8:00)\n",
    "current_utc_offset = -datetime.timedelta(hours=8)\n",
    "\n",
    "# Next we create a timezone based on the utc offset for Pacific Standard Time (not daylight savings time)\n",
    "current_timezone = datetime.timezone(current_utc_offset)\n",
    "\n",
    "# Last we create a datetime object based on the timestamp provided by the response, and\n",
    "# we localize the timezone to make it \"aware\"\n",
    "current_datetime = datetime.datetime.fromtimestamp(weatherData[\"dt\"], current_timezone)\n",
    "\n",
    "# Printing of the forecast\n",
    "\n",
    "# Note we use strftime to format how we would like to print out the datetime\n",
    "forecastStr = \"Forecast for Berkeley, CA on \" + current_datetime.strftime(\"%A, %B %d, %Y %H:%M %p\") + \" local time\\n\" \\\n",
    "\n",
    "# printing result for demonstration purposes\n",
    "print(forecastStr)"
   ]
  },
  {
   "cell_type": "markdown",
   "metadata": {},
   "source": [
    "The api response to openweathermap.org gives us a timestamp like this `\"1440270976\"`. This number is the current time in number of seconds after \"The Unix Epoch.\" The \"Unix Epoch\" is January 1, 1970, and you can [read all about it here.](https://en.wikipedia.org/wiki/Unix_time#History)\n",
    "\n",
    "Our goal is to convert this string into a datetime object that we can use for various things, most noteably to print out a formatted string like this: \"Saturday, August 22, 2015 11:16 AM local time\".\n",
    "\n",
    "First we define the time zone that the time currently represents. If we do not do this, then the Python script will use the local time zone, so if someone in India would run this script, they will see the current time in their time zone, which could be off by as much as a day.\n",
    "\n",
    "For this example we set the offset to be Pacific Standard Time (not Daylight Saving Time) by the following line.\n",
    "\n",
    "`current_utc_offset = -datetime.timedelta(hours=8)`\n",
    "\n",
    "The datetime.timedelta class defines a difference in times so that we can properly add and subtract time from date and times. (This avoids the adding of two days to August 30 in the August 32 problem.)\n",
    "\n",
    "Next we create a time zone based on that offset from UTC. \n",
    "\n",
    "`current_timezone = datetime.timezone(current_utc_offset)`\n",
    "\n",
    "The datetime.timezone class defines time zones; however, this class cannot handle nuances such as Daylight Saving Time, so depending on when you run this script, it may be off by an hour if Berkeley is currently observing Daylight Saving Time. We highly suggest using packages such as [pytz](https://pypi.python.org/pypi/pytz/), which enables you to look up timezone objects using descriptive names, like \"US/Eastern\".\n",
    "\n",
    "Now that we have timezone and timestamp, we are ready to create the datetime object:\n",
    "\n",
    "`current_datetime = datetime.datetime.fromtimestamp(weatherData[\"dt\"], current_timezone)`\n",
    "\n",
    "We use the datetime.datetime.frontimestamp function to create the datetime object using our timestamp and the Pacific Standard Time timezone object we created earlier.\n",
    "\n",
    "Now that we have the datetime object, we can do a number of powerful operations with it such as subtract and add time, get the time in different time zones, and do comparisons with other datetime objects. Refer to the [Python Standard Library section on datetimes](https://docs.python.org/3/library/datetime.html) for more information.\n",
    "\n",
    "For this example we used the datetime object to print a nicely formatted time for each of the days we are forecasting.\n",
    "\n",
    "`current_datetime.strftime(\"%A, %B %d, %Y %H:%M %p\")`\n",
    "\n",
    "The strftime function enables you to print a datetime in [various different formats](https://docs.python.org/3/library/datetime.html#strftime-strptime-behavior). We used the options so that we can print out a natural looking datetime."
   ]
  }
 ],
 "metadata": {
  "kernelspec": {
   "display_name": "Python 3",
   "language": "python",
   "name": "python3"
  },
  "language_info": {
   "codemirror_mode": {
    "name": "ipython",
    "version": 3
   },
   "file_extension": ".py",
   "mimetype": "text/x-python",
   "name": "python",
   "nbconvert_exporter": "python",
   "pygments_lexer": "ipython3",
   "version": "3.4.3"
  }
 },
 "nbformat": 4,
 "nbformat_minor": 0
}
