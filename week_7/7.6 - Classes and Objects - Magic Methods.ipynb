{
 "cells": [
  {
   "cell_type": "markdown",
   "metadata": {},
   "source": [
    "# Magic Methods"
   ]
  },
  {
   "cell_type": "markdown",
   "metadata": {},
   "source": [
    "At this point we have covered a lot about Python classes, but there is one last thing that we need to cover to make sure that you know what is available to you. These are magic methods, and these are distinctly pythonic. Their features are not unique to the language, but the way that they are implemented is. While Python is a fantastic language, some people take issue with the way magic methods look.\n",
    "\n",
    "Let's start out with some basic classes. We will make some parts of a poker program."
   ]
  },
  {
   "cell_type": "code",
   "execution_count": 1,
   "metadata": {
    "collapsed": false
   },
   "outputs": [],
   "source": [
    "class Card:\n",
    "    def __init__(self, value, suit):\n",
    "        self.value = value\n",
    "        self.suit = suit\n",
    "        \n",
    "    def __eq__(self, other):\n",
    "        if self.value == other.value:\n",
    "            return True\n",
    "        else:\n",
    "            return False\n",
    "        \n",
    "    def __lt__(self, other):\n",
    "        if self.value < other.value:\n",
    "            return True\n",
    "        else:\n",
    "            return False\n",
    "        \n",
    "    def __gt__(self, other):\n",
    "        if self.value > other.value:\n",
    "            return True\n",
    "        else:\n",
    "            return False"
   ]
  },
  {
   "cell_type": "code",
   "execution_count": 2,
   "metadata": {
    "collapsed": true
   },
   "outputs": [],
   "source": [
    "cards = []\n",
    "for suit in ['Hearts', 'Spades', 'Diamonds', 'Clubs']:\n",
    "    for value in range(13):\n",
    "        cards.append(Card(value, suit))"
   ]
  },
  {
   "cell_type": "markdown",
   "metadata": {},
   "source": [
    "We have created our methods. At this point, these methods should look pretty daunting. What exactly are we looking at?\n",
    "\n",
    "The if statements and greater than statements should look pretty familiar. We are checking if two cards are greater or less than one another, but what is `lt` or `gt`? Those stand for `less than` and `greater than`, respectively, and allow us to do comparisons.\n",
    "\n",
    "Each of those magic methods (listed on 138 and 139 of your book) give us a way to compare the value of one card to another."
   ]
  },
  {
   "cell_type": "code",
   "execution_count": 3,
   "metadata": {
    "collapsed": false
   },
   "outputs": [
    {
     "name": "stdout",
     "output_type": "stream",
     "text": [
      "False\n",
      "False\n",
      "True\n",
      "True\n"
     ]
    }
   ],
   "source": [
    "print(Card(10, \"Hearts\") < Card(6, \"Diamonds\"))\n",
    "print(Card(10, \"Hearts\") == Card(6, \"Diamonds\"))\n",
    "print(Card(10, \"Hearts\") > Card(6, \"Diamonds\"))\n",
    "print(Card(10, \"Hearts\") == Card(10, \"Hearts\"))"
   ]
  },
  {
   "cell_type": "markdown",
   "metadata": {},
   "source": [
    "It is nice that we can do comparisons now. Let's start playing with our deck of cards."
   ]
  },
  {
   "cell_type": "code",
   "execution_count": 4,
   "metadata": {
    "collapsed": false
   },
   "outputs": [
    {
     "name": "stdout",
     "output_type": "stream",
     "text": [
      "<__main__.Card object at 0x104c4cc50>\n"
     ]
    }
   ],
   "source": [
    "print(Card(10, \"Hearts\"))"
   ]
  },
  {
   "cell_type": "markdown",
   "metadata": {},
   "source": [
    "That is pretty ugly, isn't it? Unfortunately when we try to print the whole deck, we get the following."
   ]
  },
  {
   "cell_type": "code",
   "execution_count": 6,
   "metadata": {
    "collapsed": false
   },
   "outputs": [
    {
     "name": "stdout",
     "output_type": "stream",
     "text": [
      "[<__main__.Card object at 0x104c48d50>, <__main__.Card object at 0x104c48c50>, <__main__.Card object at 0x104c48910>, <__main__.Card object at 0x104c48c10>, <__main__.Card object at 0x104c48a50>, <__main__.Card object at 0x104c486d0>, <__main__.Card object at 0x104c48a10>, <__main__.Card object at 0x104c48890>, <__main__.Card object at 0x104c48590>, <__main__.Card object at 0x104c48850>, <__main__.Card object at 0x104c48e50>, <__main__.Card object at 0x104c48e90>, <__main__.Card object at 0x104c48ed0>, <__main__.Card object at 0x104c48b50>, <__main__.Card object at 0x104c48dd0>, <__main__.Card object at 0x104c48e10>, <__main__.Card object at 0x104c48b10>, <__main__.Card object at 0x104c484d0>, <__main__.Card object at 0x104c483d0>, <__main__.Card object at 0x104c48550>, <__main__.Card object at 0x104c48390>, <__main__.Card object at 0x104c48290>, <__main__.Card object at 0x104c48610>, <__main__.Card object at 0x104c485d0>, <__main__.Card object at 0x104c487d0>, <__main__.Card object at 0x104c48510>, <__main__.Card object at 0x104c48410>, <__main__.Card object at 0x104c48150>, <__main__.Card object at 0x104c48f10>, <__main__.Card object at 0x104c4c150>, <__main__.Card object at 0x104c4c190>, <__main__.Card object at 0x104c4c1d0>, <__main__.Card object at 0x104c4c210>, <__main__.Card object at 0x104c4c250>, <__main__.Card object at 0x104c4c290>, <__main__.Card object at 0x104c4c2d0>, <__main__.Card object at 0x104c4c310>, <__main__.Card object at 0x104c4c350>, <__main__.Card object at 0x104c4c390>, <__main__.Card object at 0x104c4c3d0>, <__main__.Card object at 0x104c4c410>, <__main__.Card object at 0x104c4c450>, <__main__.Card object at 0x104c4c490>, <__main__.Card object at 0x104c4c4d0>, <__main__.Card object at 0x104c4c510>, <__main__.Card object at 0x104c4c550>, <__main__.Card object at 0x104c4c590>, <__main__.Card object at 0x104c4c5d0>, <__main__.Card object at 0x104c4c610>, <__main__.Card object at 0x104c4c650>, <__main__.Card object at 0x104c4c690>, <__main__.Card object at 0x104c4c6d0>]\n"
     ]
    }
   ],
   "source": [
    "print(cards)"
   ]
  },
  {
   "cell_type": "markdown",
   "metadata": {},
   "source": [
    "It is not getting any better, is it? You may be wondering how we are supposed to interpret that. \n",
    "\n",
    "Well, frankly we're not. Those are memory addresses for our card objects. And that is what Python prints out by default when we print a `Card` instance. \n",
    "\n",
    "Luckily, just like how we defined what was equal, we can change the way things print too."
   ]
  },
  {
   "cell_type": "code",
   "execution_count": 7,
   "metadata": {
    "collapsed": true
   },
   "outputs": [],
   "source": [
    "class Card:\n",
    "    def __init__(self, value, suit):\n",
    "        self.value = value\n",
    "        self.suit = suit\n",
    "        \n",
    "    def __eq__(self, other):\n",
    "        if self.value == other.value:\n",
    "            return True\n",
    "        else:\n",
    "            return False\n",
    "        \n",
    "    def __lt__(self, other):\n",
    "        if self.value < other.value:\n",
    "            return True\n",
    "        else:\n",
    "            return False\n",
    "        \n",
    "    def __gt__(self, other):\n",
    "        if self.value > other.value:\n",
    "            return True\n",
    "        else:\n",
    "            return False\n",
    "        \n",
    "    def __repr__(self):\n",
    "        return \"%i of %s\" % (self.value, self.suit)"
   ]
  },
  {
   "cell_type": "code",
   "execution_count": 8,
   "metadata": {
    "collapsed": false
   },
   "outputs": [
    {
     "name": "stdout",
     "output_type": "stream",
     "text": [
      "10 of hearts\n"
     ]
    }
   ],
   "source": [
    "print(Card(10, \"hearts\"))"
   ]
  },
  {
   "cell_type": "markdown",
   "metadata": {},
   "source": [
    "That is much better. We can make it print out whatever we like."
   ]
  },
  {
   "cell_type": "markdown",
   "metadata": {},
   "source": [
    "Let's create our deck again."
   ]
  },
  {
   "cell_type": "code",
   "execution_count": 9,
   "metadata": {
    "collapsed": true
   },
   "outputs": [],
   "source": [
    "cards = []\n",
    "for suit in ['Hearts', 'Spades', 'Diamonds', 'Clubs']:\n",
    "    for value in range(1,14):\n",
    "        cards.append(Card(value, suit))"
   ]
  },
  {
   "cell_type": "code",
   "execution_count": 10,
   "metadata": {
    "collapsed": false
   },
   "outputs": [
    {
     "name": "stdout",
     "output_type": "stream",
     "text": [
      "[1 of Hearts, 2 of Hearts, 3 of Hearts, 4 of Hearts, 5 of Hearts, 6 of Hearts, 7 of Hearts, 8 of Hearts, 9 of Hearts, 10 of Hearts, 11 of Hearts, 12 of Hearts, 13 of Hearts, 1 of Spades, 2 of Spades, 3 of Spades, 4 of Spades, 5 of Spades, 6 of Spades, 7 of Spades, 8 of Spades, 9 of Spades, 10 of Spades, 11 of Spades, 12 of Spades, 13 of Spades, 1 of Diamonds, 2 of Diamonds, 3 of Diamonds, 4 of Diamonds, 5 of Diamonds, 6 of Diamonds, 7 of Diamonds, 8 of Diamonds, 9 of Diamonds, 10 of Diamonds, 11 of Diamonds, 12 of Diamonds, 13 of Diamonds, 1 of Clubs, 2 of Clubs, 3 of Clubs, 4 of Clubs, 5 of Clubs, 6 of Clubs, 7 of Clubs, 8 of Clubs, 9 of Clubs, 10 of Clubs, 11 of Clubs, 12 of Clubs, 13 of Clubs]\n"
     ]
    }
   ],
   "source": [
    "print(cards)"
   ]
  },
  {
   "cell_type": "markdown",
   "metadata": {},
   "source": [
    "On top of that, we can do things like the following."
   ]
  },
  {
   "cell_type": "code",
   "execution_count": 11,
   "metadata": {
    "collapsed": false
   },
   "outputs": [
    {
     "name": "stdout",
     "output_type": "stream",
     "text": [
      "[1 of Hearts, 1 of Spades, 1 of Diamonds, 1 of Clubs, 2 of Hearts, 2 of Spades, 2 of Diamonds, 2 of Clubs, 3 of Hearts, 3 of Spades, 3 of Diamonds, 3 of Clubs, 4 of Hearts, 4 of Spades, 4 of Diamonds, 4 of Clubs, 5 of Hearts, 5 of Spades, 5 of Diamonds, 5 of Clubs, 6 of Hearts, 6 of Spades, 6 of Diamonds, 6 of Clubs, 7 of Hearts, 7 of Spades, 7 of Diamonds, 7 of Clubs, 8 of Hearts, 8 of Spades, 8 of Diamonds, 8 of Clubs, 9 of Hearts, 9 of Spades, 9 of Diamonds, 9 of Clubs, 10 of Hearts, 10 of Spades, 10 of Diamonds, 10 of Clubs, 11 of Hearts, 11 of Spades, 11 of Diamonds, 11 of Clubs, 12 of Hearts, 12 of Spades, 12 of Diamonds, 12 of Clubs, 13 of Hearts, 13 of Spades, 13 of Diamonds, 13 of Clubs]\n"
     ]
    }
   ],
   "source": [
    "print(sorted(cards))"
   ]
  },
  {
   "cell_type": "markdown",
   "metadata": {},
   "source": [
    "The sorted method sorts the list by checking for greater than or less than; it automatically does these comparisons, which means that when we define these methods, Python will take advantage of them."
   ]
  },
  {
   "cell_type": "markdown",
   "metadata": {},
   "source": [
    "Isn't that nice? It prints out beautifully and is in the order of least to greatest.\n",
    "\n",
    "This is the power of magic methods; they allow us to determine exactly what a `==` or a `!=`  means. We  determine exactly what these basic operators mean. You can find all the magic methods in the book (and online); these are just a taste.\n",
    "\n",
    "With great power comes great responsibility. For example, if we take our card class and switch the signs (let's say, a bit of human coding error), we would get the following."
   ]
  },
  {
   "cell_type": "code",
   "execution_count": 12,
   "metadata": {
    "collapsed": true
   },
   "outputs": [],
   "source": [
    "class Card:\n",
    "    def __init__(self, value, suit):\n",
    "        self.value = value\n",
    "        self.suit = suit\n",
    "        \n",
    "    def __eq__(self, other):\n",
    "        if self.value != other.value:\n",
    "            return True\n",
    "        else:\n",
    "            return False\n",
    "        \n",
    "    def __lt__(self, other):\n",
    "        if self.value > other.value:\n",
    "            return True\n",
    "        else:\n",
    "            return False\n",
    "        \n",
    "    def __gt__(self, other):\n",
    "        if self.value < other.value:\n",
    "            return True\n",
    "        else:\n",
    "            return False"
   ]
  },
  {
   "cell_type": "code",
   "execution_count": 13,
   "metadata": {
    "collapsed": false
   },
   "outputs": [
    {
     "name": "stdout",
     "output_type": "stream",
     "text": [
      "True\n",
      "True\n",
      "False\n",
      "False\n"
     ]
    }
   ],
   "source": [
    "print(Card(10, \"Hearts\") < Card(6, \"Diamonds\"))\n",
    "print(Card(10, \"Hearts\") == Card(6, \"Diamonds\"))\n",
    "print(Card(10, \"Hearts\") > Card(6, \"Diamonds\"))\n",
    "print(Card(10, \"Hearts\") == Card(10, \"Hearts\"))"
   ]
  },
  {
   "cell_type": "markdown",
   "metadata": {},
   "source": [
    "We have completely flipped the universe! This shows why you need to make sure you think through your design decisions and that you write tests for your methods."
   ]
  },
  {
   "cell_type": "markdown",
   "metadata": {},
   "source": [
    "The power of magic methods cannot be understated. Look at how we can create a new `Vector` class.\n",
    "\n",
    "We can do things like detail out how we would like to multiply two vectors. We talked about vectors in a previous lesson; however, if you cannot remember, for the purposes of this example, they are simply immutable lists of numbers with certain mathematical properties."
   ]
  },
  {
   "cell_type": "markdown",
   "metadata": {},
   "source": [
    "One of these properties is a dot product or inner product. This product is the summation of all the values in each vector. Here is the math for it."
   ]
  },
  {
   "cell_type": "markdown",
   "metadata": {},
   "source": [
    "Given `A` and `B` of length `N`\n",
    "\n",
    "$$A\\cdot B = \\sum_{i=1}^n A_iB_i = A_1B_1 + A_2B_2 + \\cdots + A_nB_n$$"
   ]
  },
  {
   "cell_type": "markdown",
   "metadata": {},
   "source": [
    "Let's define that `Vector` class and implement the dot product as the multiplication of two vectors."
   ]
  },
  {
   "cell_type": "code",
   "execution_count": 14,
   "metadata": {
    "collapsed": false
   },
   "outputs": [],
   "source": [
    "class Vector:\n",
    "    def __init__(self, numbers):\n",
    "        self.__numbers = numbers\n",
    "        \n",
    "    @property\n",
    "    def numbers(self):\n",
    "        return self.__numbers\n",
    "        \n",
    "    def dot(self, other):\n",
    "        values = []\n",
    "        if len(self.__numbers) != len(other.numbers):\n",
    "            return \"Cannot Multiply Different Sized Vectors with this Class.\"\n",
    "        for x in range(len(self.__numbers)):\n",
    "            this_number = self.__numbers[x]\n",
    "            other_number = other.numbers[x]\n",
    "            values.append(this_number * other_number)\n",
    "        return sum(values)\n",
    "    \n",
    "    def __mul__(self, other):\n",
    "        return self.dot(other)"
   ]
  },
  {
   "cell_type": "markdown",
   "metadata": {},
   "source": [
    "Notice how we use the `__mul__` magic method. This determines the result of the `*` multiplication operator."
   ]
  },
  {
   "cell_type": "markdown",
   "metadata": {},
   "source": [
    "Now let's make sure that it works."
   ]
  },
  {
   "cell_type": "code",
   "execution_count": 15,
   "metadata": {
    "collapsed": false
   },
   "outputs": [
    {
     "name": "stdout",
     "output_type": "stream",
     "text": [
      "12\n",
      "12\n"
     ]
    }
   ],
   "source": [
    "a = Vector([1,10,4])\n",
    "b = Vector([2,-1,5])\n",
    "print(a*b)\n",
    "print(a.dot(b))"
   ]
  },
  {
   "cell_type": "markdown",
   "metadata": {},
   "source": [
    "It is nice that we can always subclass certain classes and make them into our own so we do not need to write everything from scratch.\n",
    "\n",
    "On a final note, although we have not covered it here, you can always subclass from existing libraries and modules. If there is an animal library that you want to use, you can always subclass."
   ]
  },
  {
   "cell_type": "markdown",
   "metadata": {},
   "source": [
    "This is a truly powerful abstraction, but it does require you to think thoroughly about your use case as well as your users. Does it make sense to add two animals together? Probably not, so you should not implement that method."
   ]
  },
  {
   "cell_type": "markdown",
   "metadata": {},
   "source": [
    "At this point, we have covered basically everything about classes. You have certainly used a lot of object-oriented programming in these last couple of notebooks. You should have a firm grasp on what object-oriented programming is and what objects and classes are. That being said, don't worry if you are still confused; these things can be extremely confusing and take some time to adjust to. In no time you should be able to think about things using this abstraction."
   ]
  }
 ],
 "metadata": {
  "kernelspec": {
   "display_name": "Python 3",
   "language": "python",
   "name": "python3"
  },
  "language_info": {
   "codemirror_mode": {
    "name": "ipython",
    "version": 3
   },
   "file_extension": ".py",
   "mimetype": "text/x-python",
   "name": "python",
   "nbconvert_exporter": "python",
   "pygments_lexer": "ipython3",
   "version": "3.5.0"
  }
 },
 "nbformat": 4,
 "nbformat_minor": 0
}
