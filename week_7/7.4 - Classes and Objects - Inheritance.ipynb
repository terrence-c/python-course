{
 "cells": [
  {
   "cell_type": "markdown",
   "metadata": {
    "collapsed": false
   },
   "source": [
    "#Classes and Inheritance"
   ]
  },
  {
   "cell_type": "markdown",
   "metadata": {},
   "source": [
    "We have talked a lot about classes so far in this section. We have looked at how to write classes in an abstract manner to facilitate code reuse, and we have explored different ways of controlling access to data in classes with private variables. These are fundamental concepts of classes; however, there is a final component to introduce to you: inheritance."
   ]
  },
  {
   "cell_type": "markdown",
   "metadata": {},
   "source": [
    "In this context, inheritance is not related to a child inheriting items from a parent. Rather it involves our moving up a chain of abstraction for creating classes. Let's start with a real-world example."
   ]
  },
  {
   "cell_type": "code",
   "execution_count": 1,
   "metadata": {
    "collapsed": true
   },
   "outputs": [],
   "source": [
    "class Animal:\n",
    "    def __init__(self, name):\n",
    "        self.name = name\n",
    "    def move(self,x,y):\n",
    "        print(\"%s moved to %i, %i\" % (self.name, x, y))"
   ]
  },
  {
   "cell_type": "code",
   "execution_count": 2,
   "metadata": {
    "collapsed": true
   },
   "outputs": [],
   "source": [
    "a = Animal(\"Jeff the Giraffe\")"
   ]
  },
  {
   "cell_type": "markdown",
   "metadata": {},
   "source": [
    "Here we have created an animal class. It is pretty abstract, which is nice, but we would have to add a lot to it if we were going to try and actually use it. For example, we might need legs or arms, or whether or not it is warm-blooded or cold-blooded. This is where inheritance comes in."
   ]
  },
  {
   "cell_type": "code",
   "execution_count": 3,
   "metadata": {
    "collapsed": true
   },
   "outputs": [],
   "source": [
    "class Kangaroo(Animal):\n",
    "    def __init__(self, name):\n",
    "        super().__init__(name)\n",
    "        self.legs = 2\n",
    "    \n",
    "    def hop(self,x,y):\n",
    "        print(\"%s is hopping...\" % (self.name))\n",
    "        self.move(x,y)"
   ]
  },
  {
   "cell_type": "code",
   "execution_count": 4,
   "metadata": {
    "collapsed": false
   },
   "outputs": [
    {
     "name": "stdout",
     "output_type": "stream",
     "text": [
      "Fred is hopping...\n",
      "Fred moved to 1, 2\n"
     ]
    }
   ],
   "source": [
    "fred = Kangaroo(\"Fred\")\n",
    "fred.hop(1,2)"
   ]
  },
  {
   "cell_type": "markdown",
   "metadata": {},
   "source": [
    "Here we have created a kangaroo class that *inherits* from animal. Rather than specifying an animal type as an argument like we were doing in the previous notebook, we just created an entirely new class and added what we wanted to to it. This actually makes it a bit easier because now we can add special methods like `hop` that might only apply to kangaroos.\n",
    "\n",
    "The advantage is that this can allow us to avoid rewriting a lot of code as our program develops. Now let's create another animal class."
   ]
  },
  {
   "cell_type": "code",
   "execution_count": 5,
   "metadata": {
    "collapsed": true
   },
   "outputs": [],
   "source": [
    "class Snake(Animal):\n",
    "    def __init__(self, name):\n",
    "        super().__init__(name)\n",
    "    def move(self, x, y):\n",
    "        print(\"%s slithered to %i, %i\" % (self.name, x, y))"
   ]
  },
  {
   "cell_type": "code",
   "execution_count": 6,
   "metadata": {
    "collapsed": false
   },
   "outputs": [
    {
     "name": "stdout",
     "output_type": "stream",
     "text": [
      "Bob slithered to 3, 4\n"
     ]
    }
   ],
   "source": [
    "bob = Snake(\"Bob\")\n",
    "bob.move(3,4)"
   ]
  },
  {
   "cell_type": "markdown",
   "metadata": {},
   "source": [
    "Did you notice how we did that a bit differently? Rather than writing a whole new method called \"slither,\" we just **overrode** the `move` method to suit our purposes. Now we can just call \"move\" and it will do the movement for us. This gives us a distinct advantage that we will see in a moment once we rewrite our classes. Notice how movement is more general; there is an \"action\" being performed and we can store that."
   ]
  },
  {
   "cell_type": "code",
   "execution_count": 7,
   "metadata": {
    "collapsed": true
   },
   "outputs": [],
   "source": [
    "class Animal:\n",
    "    def __init__(self, name, movement):\n",
    "        self.name = name\n",
    "        self.verb = movement\n",
    "    def move(self,x,y):\n",
    "        print(\"%s %s to %i, %i\" % (self.name, self.verb, x, y))"
   ]
  },
  {
   "cell_type": "code",
   "execution_count": 8,
   "metadata": {
    "collapsed": false
   },
   "outputs": [],
   "source": [
    "class Kangaroo(Animal):\n",
    "    def __init__(self, name):\n",
    "        verb = \"hopped\"\n",
    "        super().__init__(name, verb)\n",
    "        self.legs = 2\n",
    "    \n",
    "    def hop(self,x,y):\n",
    "        self.move(x,y)"
   ]
  },
  {
   "cell_type": "code",
   "execution_count": 9,
   "metadata": {
    "collapsed": true
   },
   "outputs": [],
   "source": [
    "class Snake(Animal):\n",
    "    def __init__(self, name):\n",
    "        verb = \"slithered\"\n",
    "        super().__init__(name, verb)\n",
    "    \n",
    "    def slither(self,x,y):\n",
    "        self.move(x,y)"
   ]
  },
  {
   "cell_type": "code",
   "execution_count": 10,
   "metadata": {
    "collapsed": false
   },
   "outputs": [
    {
     "name": "stdout",
     "output_type": "stream",
     "text": [
      "Bob slithered to 1, 2\n"
     ]
    }
   ],
   "source": [
    "bob2 = Snake(\"Bob\")\n",
    "bob2.slither(1,2)"
   ]
  },
  {
   "cell_type": "code",
   "execution_count": 11,
   "metadata": {
    "collapsed": false
   },
   "outputs": [
    {
     "name": "stdout",
     "output_type": "stream",
     "text": [
      "Jeff hopped to 1, 2\n"
     ]
    }
   ],
   "source": [
    "jeff = Kangaroo(\"Jeff\")\n",
    "jeff.hop(1,2)"
   ]
  },
  {
   "cell_type": "markdown",
   "metadata": {},
   "source": [
    "We are really doing two things here: We are making things more general by allowing specifying the move method as the only one that allows for movement. We are also allowing the individual characteristics of these animals to take advantage of this.\n",
    "\n",
    "Now we can do more powerful things. For example, I have a list of animals, and I am not sure what the animals are before running my code; they were passed back to me by another part of the code that I am not in charge of. I just know that all those animals need to congregate at a certain location."
   ]
  },
  {
   "cell_type": "code",
   "execution_count": 12,
   "metadata": {
    "collapsed": false
   },
   "outputs": [],
   "source": [
    "import random\n",
    "\n",
    "my_animals = []\n",
    "for x in range(10):\n",
    "    random_integer = random.randint(1,2)\n",
    "    if random_integer == 1:\n",
    "        my_animals.append(Snake(\"Snake Number: \" + str(x)))\n",
    "    else:\n",
    "        my_animals.append(Kangaroo(\"Kangaroo Number: \" + str(x)))"
   ]
  },
  {
   "cell_type": "code",
   "execution_count": 13,
   "metadata": {
    "collapsed": false
   },
   "outputs": [
    {
     "name": "stdout",
     "output_type": "stream",
     "text": [
      "Snake Number: 0 slithered to 5, 10\n",
      "Kangaroo Number: 1 hopped to 5, 10\n",
      "Snake Number: 2 slithered to 5, 10\n",
      "Snake Number: 3 slithered to 5, 10\n",
      "Snake Number: 4 slithered to 5, 10\n",
      "Snake Number: 5 slithered to 5, 10\n",
      "Snake Number: 6 slithered to 5, 10\n",
      "Snake Number: 7 slithered to 5, 10\n",
      "Kangaroo Number: 8 hopped to 5, 10\n",
      "Kangaroo Number: 9 hopped to 5, 10\n"
     ]
    }
   ],
   "source": [
    "for animal in my_animals:\n",
    "    animal.move(5,10)"
   ]
  },
  {
   "cell_type": "markdown",
   "metadata": {},
   "source": [
    "Impressive, isn't it? We simply took a list and acted upon it without knowing what was inside of it. We were able to do this through something called *duck-typing*. Duck-typing means that Python will apply the same operation on different objects as long as that object has the method we are looking for.\n",
    "\n",
    "In this case, it is whether or not it has the move case. Even better, these do not even have to inherit from the same class; a rock would be able to be in that list (even though it is not an animal) if it had the move class."
   ]
  },
  {
   "cell_type": "markdown",
   "metadata": {},
   "source": [
    "We can actually extend this even further. Classes do not have to inherit from just one class; they can inherit from multiple classes.\n",
    "\n",
    "Now I will need to do a fair amount of typing to get this set up, but by the end it will be a good example."
   ]
  },
  {
   "cell_type": "code",
   "execution_count": 14,
   "metadata": {
    "collapsed": true
   },
   "outputs": [],
   "source": [
    "class Drone:\n",
    "    def __init__(self, power_system, drone_type):\n",
    "        print(\"Instantiating a drone\")\n",
    "        self.power_system = power_system\n",
    "        self.__dtype = drone_type\n",
    "        self.__move_count = 0\n",
    "        \n",
    "    @property\n",
    "    def move_count(self):\n",
    "        return self.__move_count\n",
    "    \n",
    "    @property\n",
    "    def dtype(self):\n",
    "        print(\"The dtype property getter\")\n",
    "        return self.__dtype\n",
    "        \n",
    "    @dtype.setter\n",
    "    def dtype(self, new_type):\n",
    "        print(\"Sorry, you can never change the drone type once created\")\n",
    "        \n",
    "    def move(self):\n",
    "        self.__move_count += 1"
   ]
  },
  {
   "cell_type": "markdown",
   "metadata": {},
   "source": [
    "Notice how we did not have to create a setter for our move_count property because this value can only be changed by moving; all we can do is check its value."
   ]
  },
  {
   "cell_type": "code",
   "execution_count": 15,
   "metadata": {
    "collapsed": true
   },
   "outputs": [],
   "source": [
    "class AerialDrone(Drone):\n",
    "    def __init__(self, power_system):\n",
    "        super().__init__(power_system, \"plane\")\n",
    "        \n",
    "    def move(self):\n",
    "        super().move()\n",
    "        return \"The %s-powered drone is currently flying\" % (self.power_system)"
   ]
  },
  {
   "cell_type": "markdown",
   "metadata": {},
   "source": [
    "We have done something new: we have called the super class' method of move and have added our own touch on it. This makes for great reusable code, especially when the first method is abstract enough for our purposes.\n",
    "*In line 1, \"class\" has a single quote or apostrophe after it. What is intended here? Unsure if it is missing a starting single quote; however, if possessive is intended, it would need to be spelled \"class's\".*"
   ]
  },
  {
   "cell_type": "code",
   "execution_count": 16,
   "metadata": {
    "collapsed": false
   },
   "outputs": [
    {
     "name": "stdout",
     "output_type": "stream",
     "text": [
      "Instantiating a drone\n"
     ]
    }
   ],
   "source": [
    "d1 = AerialDrone(\"battery\")"
   ]
  },
  {
   "cell_type": "code",
   "execution_count": 17,
   "metadata": {
    "collapsed": false
   },
   "outputs": [
    {
     "name": "stdout",
     "output_type": "stream",
     "text": [
      "The battery-powered drone is currently flying\n",
      "The battery-powered drone is currently flying\n",
      "2\n"
     ]
    }
   ],
   "source": [
    "print(d1.move())\n",
    "print(d1.move())\n",
    "print(d1.move_count)"
   ]
  },
  {
   "cell_type": "markdown",
   "metadata": {},
   "source": [
    "Just for illustrative purposes, I'm going to create a submarine drone class. It is similar to the plane class, but obviously it is underwater."
   ]
  },
  {
   "cell_type": "code",
   "execution_count": 18,
   "metadata": {
    "collapsed": true
   },
   "outputs": [],
   "source": [
    "class SubmarineDrone(Drone):\n",
    "    def __init__(self, power_system):\n",
    "        super().__init__(power_system, \"submarine\")\n",
    "        \n",
    "    def move(self):\n",
    "        super().move()\n",
    "        return \"The %s-powered drone is currently moving through the water\" % (self.power_system)"
   ]
  },
  {
   "cell_type": "markdown",
   "metadata": {},
   "source": [
    "Next, I will create a person class. In this case, a person can get injured and be healed."
   ]
  },
  {
   "cell_type": "code",
   "execution_count": 19,
   "metadata": {
    "collapsed": true
   },
   "outputs": [],
   "source": [
    "class Person:\n",
    "    def __init__(self, name):\n",
    "        self.__injured = False\n",
    "        self.name = name\n",
    "        \n",
    "    def get_injured(self):\n",
    "        print(\"%s is now injured.\" % self.name)\n",
    "        self.__injured = True\n",
    "        \n",
    "    def heal(self):\n",
    "        print(\"%s is now healed.\" % self.name)\n",
    "        self.__injured = False"
   ]
  },
  {
   "cell_type": "markdown",
   "metadata": {},
   "source": [
    "Here is where things get a bit more interesting. I will make a pretty abstract class called Medical. This class is just going to hold some other variables for us and give us a patch method.\n",
    "*Two questions: Should \"Medical\" be \"Medic\"? Also, here \"Medical\" is capped. Should all of the class names be capped?*"
   ]
  },
  {
   "cell_type": "code",
   "execution_count": 20,
   "metadata": {
    "collapsed": true
   },
   "outputs": [],
   "source": [
    "class Medic:\n",
    "    __bandages = 12\n",
    "    \n",
    "    def patch(self, person, patch_type):\n",
    "        if patch_type != \"bandages\":\n",
    "            return \"Don't have those bandages.\"\n",
    "        else:\n",
    "            person.heal()\n",
    "            self.__bandages -= 1\n",
    "            print(\"%i bandages left.\" % self.__bandages)\n",
    "            return \"Used a patch!\""
   ]
  },
  {
   "cell_type": "markdown",
   "metadata": {},
   "source": [
    "It has to get a person (or something with the heal method) in order to work. Note how we did not have to use the \"self\" keyword because we are in the top level of the class; you only need to use self inside of method definitions.\n",
    "\n",
    "Now that we have created that, we can take things to the next level and make a `MedicalAerialDrone`."
   ]
  },
  {
   "cell_type": "code",
   "execution_count": 21,
   "metadata": {
    "collapsed": true
   },
   "outputs": [],
   "source": [
    "class MedicalAerialDrone(AerialDrone, Medic):\n",
    "    pass"
   ]
  },
  {
   "cell_type": "markdown",
   "metadata": {},
   "source": [
    "The pass keyword simply means that we will not add anything else to this class. We can do it with functions too. But regardless, all you have to know is that it inherits all of its methods and attributes from AerialDrone and Medic."
   ]
  },
  {
   "cell_type": "code",
   "execution_count": 22,
   "metadata": {
    "collapsed": false
   },
   "outputs": [
    {
     "name": "stdout",
     "output_type": "stream",
     "text": [
      "Instantiating a drone\n"
     ]
    }
   ],
   "source": [
    "md = Person(\"Matt Damon\")\n",
    "medical_drone = MedicalAerialDrone(\"battery\")"
   ]
  },
  {
   "cell_type": "markdown",
   "metadata": {},
   "source": [
    "We have just created Matt Damon and a medical aerial drone. Let's injure Matt Damon so that we can patch him up with our aerial drone."
   ]
  },
  {
   "cell_type": "code",
   "execution_count": 23,
   "metadata": {
    "collapsed": false
   },
   "outputs": [
    {
     "name": "stdout",
     "output_type": "stream",
     "text": [
      "Matt Damon is now injured.\n"
     ]
    }
   ],
   "source": [
    "md.get_injured()"
   ]
  },
  {
   "cell_type": "markdown",
   "metadata": {},
   "source": [
    "Now we can patch him up with our medical drone."
   ]
  },
  {
   "cell_type": "code",
   "execution_count": 24,
   "metadata": {
    "collapsed": false
   },
   "outputs": [
    {
     "name": "stdout",
     "output_type": "stream",
     "text": [
      "Matt Damon is now healed.\n",
      "11 bandages left.\n"
     ]
    },
    {
     "data": {
      "text/plain": [
       "'Used a patch!'"
      ]
     },
     "execution_count": 24,
     "metadata": {},
     "output_type": "execute_result"
    }
   ],
   "source": [
    "medical_drone.patch(md, \"bandages\")"
   ]
  },
  {
   "cell_type": "markdown",
   "metadata": {},
   "source": [
    "Noticed that we did not need to rewrite any code at all; we just inherited from two classes that had everything we needed. In addition, our Medic class is abstract enough that a person can be a medic too."
   ]
  },
  {
   "cell_type": "code",
   "execution_count": 25,
   "metadata": {
    "collapsed": false
   },
   "outputs": [
    {
     "name": "stdout",
     "output_type": "stream",
     "text": [
      "Matt Damon is now injured.\n",
      "Matt Damon is now healed.\n",
      "11 bandages left.\n"
     ]
    },
    {
     "data": {
      "text/plain": [
       "'Used a patch!'"
      ]
     },
     "execution_count": 25,
     "metadata": {},
     "output_type": "execute_result"
    }
   ],
   "source": [
    "class PersonMedic(Person, Medic):\n",
    "    pass\n",
    "\n",
    "bill = PersonMedic(\"Bill Clinton\")\n",
    "md.get_injured()\n",
    "bill.patch(md, \"bandages\")"
   ]
  },
  {
   "cell_type": "markdown",
   "metadata": {},
   "source": [
    "By now you should be starting to see the power of inheritance and code reusability. Particularly when you have the object mindset, things really start becoming powerful. There are a lot of ways to try to facilitate code reuse, not just objected-oriented programming, although this is a popular one that you will continually encounter."
   ]
  },
  {
   "cell_type": "code",
   "execution_count": null,
   "metadata": {
    "collapsed": true
   },
   "outputs": [],
   "source": []
  }
 ],
 "metadata": {
  "kernelspec": {
   "display_name": "Python 3",
   "language": "python",
   "name": "python3"
  },
  "language_info": {
   "codemirror_mode": {
    "name": "ipython",
    "version": 3
   },
   "file_extension": ".py",
   "mimetype": "text/x-python",
   "name": "python",
   "nbconvert_exporter": "python",
   "pygments_lexer": "ipython3",
   "version": "3.4.3"
  }
 },
 "nbformat": 4,
 "nbformat_minor": 0
}
