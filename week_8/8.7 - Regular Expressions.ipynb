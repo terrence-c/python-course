{
 "cells": [
  {
   "cell_type": "markdown",
   "metadata": {},
   "source": [
    "#Mangle Data Like A Pro"
   ]
  },
  {
   "cell_type": "markdown",
   "metadata": {},
   "source": [
    "##Match with Regular Expressions"
   ]
  },
  {
   "cell_type": "markdown",
   "metadata": {},
   "source": [
    "In text processing applications, one of the most common tasks we need to perform is finding out whether a string is present in a body of text.  We may then want to replace it with another string. Sometimes we also want to ensure that a piece of data follows a particular pattern. These tasks can be done quickly and efficiently using regular expressions, a powerful pattern matching toolset.  \n",
    "\n",
    "Regular expressions are really a mathematical language.  You use a regular expression to describe a type of string you are interested in.  The expression is a pattern and it defines a class of strings that match that pattern.  Once you have a regular expression, you can then try to find the string that you're looking for in another, possibly much larger, string (the source). \n",
    "\n",
    "Because of their flexiblity, regular expressions pop up in many areas of computer science, and are used in many programming languages.  Python provides a package `re` to implement regular expressions and their many uses. Consider this piece of code: "
   ]
  },
  {
   "cell_type": "code",
   "execution_count": 3,
   "metadata": {
    "collapsed": false
   },
   "outputs": [
    {
     "name": "stdout",
     "output_type": "stream",
     "text": [
      "<_sre.SRE_Match object; span=(0, 5), match='To be'>\n"
     ]
    }
   ],
   "source": [
    "import re\n",
    "source = \"To be or not to be, that is a question\"\n",
    "pattern = \"To be\"\n",
    "\n",
    "result = re.match(pattern, source)\n",
    "print(result)"
   ]
  },
  {
   "cell_type": "markdown",
   "metadata": {},
   "source": [
    "In this case, the regular expression is just 'To be', which is pretty much the simplest regular expression we can create. The match function looks at the start of the source to see if the pattern is there.  In other words, it checks whether the source string begins with the pattern."
   ]
  },
  {
   "cell_type": "markdown",
   "metadata": {},
   "source": [
    "You can precompile a regular expression to speed up the query. If you have a regular expression that is used multiple times, this approach can provide significant performance gains."
   ]
  },
  {
   "cell_type": "code",
   "execution_count": 2,
   "metadata": {
    "collapsed": true
   },
   "outputs": [],
   "source": [
    "compiled_pattern = re.compile(\"To be\")"
   ]
  },
  {
   "cell_type": "markdown",
   "metadata": {},
   "source": [
    "You can then use the compiled pattern to execute the match query:"
   ]
  },
  {
   "cell_type": "code",
   "execution_count": 3,
   "metadata": {
    "collapsed": false
   },
   "outputs": [
    {
     "name": "stdout",
     "output_type": "stream",
     "text": [
      "<_sre.SRE_Match object; span=(0, 5), match='To be'>\n"
     ]
    }
   ],
   "source": [
    "result_compiled = compiled_pattern.match(source)\n",
    "print(result_compiled)"
   ]
  },
  {
   "cell_type": "markdown",
   "metadata": {},
   "source": [
    "There are a few ways to use the `re` package to find patterns in strings:\n",
    "\n",
    "- search(): returns the first match\n",
    "- findall(): returns a list of all non-overlapping matches\n",
    "- split(): returns a list of strings that were split from the source string at the locations where the pattern was found\n",
    "- sub(): returns a string that has replaced all instances of the pattern with a replacement string passed into the function"
   ]
  },
  {
   "cell_type": "markdown",
   "metadata": {},
   "source": [
    "###Exact match with match()"
   ]
  },
  {
   "cell_type": "markdown",
   "metadata": {},
   "source": [
    "In the previous example we used the `match()` function to determine whether a given pattern matches to the beginning of another string. Let's look at a typical coding snippet that is often used in processing regular expressions: "
   ]
  },
  {
   "cell_type": "code",
   "execution_count": 4,
   "metadata": {
    "collapsed": false
   },
   "outputs": [
    {
     "name": "stdout",
     "output_type": "stream",
     "text": [
      "To be\n"
     ]
    }
   ],
   "source": [
    "import re\n",
    "source = \"To be or not to be, that is the question\"\n",
    "\n",
    "# We are creating a compiled pattern that we can use in multiple searches\n",
    "compiled_pattern = re.compile(\"To be\") \n",
    "\n",
    "# Now we are searching to see if the compiled_pattern is in the front of the source text\n",
    "m = compiled_pattern.match(source)\n",
    "\n",
    "if m: # if there is a match\n",
    "    print(m.group()) # let's print out what was matched"
   ]
  },
  {
   "cell_type": "markdown",
   "metadata": {},
   "source": [
    "What would happen if we tried to match using the pattern \"that is\"?"
   ]
  },
  {
   "cell_type": "code",
   "execution_count": 5,
   "metadata": {
    "collapsed": false
   },
   "outputs": [],
   "source": [
    "middle_pattern = re.compile(\"that is\")\n",
    "m = middle_pattern.match(source)\n",
    "\n",
    "if m:\n",
    "    print(m.group())"
   ]
  },
  {
   "cell_type": "markdown",
   "metadata": {},
   "source": [
    "This time this coding snippet printed nothing, because the pattern \"that is\" is not at the beginning of the string. If we wanted to know whether \"that is\" appears anywhere in the string, we could make a small change to our regular expression:"
   ]
  },
  {
   "cell_type": "code",
   "execution_count": 6,
   "metadata": {
    "collapsed": false
   },
   "outputs": [
    {
     "name": "stdout",
     "output_type": "stream",
     "text": [
      "To be or not to be, that is\n"
     ]
    }
   ],
   "source": [
    "middle_pattern_with_wildcard = re.compile(\".*that is\")\n",
    "m = middle_pattern_with_wildcard.match(source)\n",
    "if m: \n",
    "    print(m.group())"
   ]
  },
  {
   "cell_type": "markdown",
   "metadata": {},
   "source": [
    "Notice the extra characters we added to the beginning of our pattern, `\".*that is\"`. Let's explain what these mean one step at a time.\n",
    "\n",
    "- \".\" matches any single character\n",
    "- \"*\" matchines any number of the previous character\n",
    "- So the combination \".*\" means any number of any character (even zero)\n",
    "- \"that is\" is the string we would like to match\n",
    "\n",
    "So going through the source string \"To be or not to be, that is the question\", the pattern matches in this way:\n",
    "\n",
    "\"**To be or not to be, **that is the question\" matches the **\".\\*\"** part\n",
    "\n",
    "\"To be or not to be, **that is** the question\" matches the **\"that is\"**\n"
   ]
  },
  {
   "cell_type": "markdown",
   "metadata": {},
   "source": [
    "###First match with search()"
   ]
  },
  {
   "cell_type": "markdown",
   "metadata": {},
   "source": [
    "You can use search to find a pattern anywhere within a source string without needing wildcards:"
   ]
  },
  {
   "cell_type": "code",
   "execution_count": 7,
   "metadata": {
    "collapsed": false
   },
   "outputs": [
    {
     "name": "stdout",
     "output_type": "stream",
     "text": [
      "that is\n"
     ]
    }
   ],
   "source": [
    "middle_pattern = re.compile(\"that is\")\n",
    "m = middle_pattern.search(\"that is\")\n",
    "\n",
    "if m:\n",
    "    print(m.group())"
   ]
  },
  {
   "cell_type": "markdown",
   "metadata": {},
   "source": [
    "###All matches with findall()"
   ]
  },
  {
   "cell_type": "markdown",
   "metadata": {},
   "source": [
    "You can use findall() to find all of the instances where the source string  matches the pattern:"
   ]
  },
  {
   "cell_type": "code",
   "execution_count": 8,
   "metadata": {
    "collapsed": false
   },
   "outputs": [
    {
     "name": "stdout",
     "output_type": "stream",
     "text": [
      "Found 2 matches\n",
      "['n', 'n']\n"
     ]
    }
   ],
   "source": [
    "n_pattern = re.compile(\"n\") #Lets find all of the n's in the source string\n",
    "m = n_pattern.findall(source)\n",
    "print(\"Found\", len(m), \"matches\")\n",
    "print(m)"
   ]
  },
  {
   "cell_type": "markdown",
   "metadata": {},
   "source": [
    "How about 'n' followed by any character?"
   ]
  },
  {
   "cell_type": "code",
   "execution_count": 9,
   "metadata": {
    "collapsed": false
   },
   "outputs": [
    {
     "name": "stdout",
     "output_type": "stream",
     "text": [
      "Found 1 matches\n"
     ]
    }
   ],
   "source": [
    "n_and_character_pattern = re.compile(\"n.\")\n",
    "m = n_and_character_pattern.findall(source)\n",
    "print(\"Found\", len(m), \"matches\")"
   ]
  },
  {
   "cell_type": "markdown",
   "metadata": {},
   "source": [
    "Note how `n_and_character_pattern`  found only one match. That's because the last \"n\" in the source string does not have a character after it: the string just terminates. Now if we wanted to find all n's that do or do not have a character after it, we can do the following:"
   ]
  },
  {
   "cell_type": "code",
   "execution_count": 10,
   "metadata": {
    "collapsed": false
   },
   "outputs": [
    {
     "name": "stdout",
     "output_type": "stream",
     "text": [
      "Found 2 matches\n"
     ]
    }
   ],
   "source": [
    "n_and_character_optional_pattern = re.compile(\"n.?\")\n",
    "m = n_and_character_optional_pattern.findall(source)\n",
    "print(\"Found\", len(m), \"matches\")"
   ]
  },
  {
   "cell_type": "markdown",
   "metadata": {},
   "source": [
    "As you can see, the \"?\" means that the previous character is optional.\n",
    "\n",
    "Here are some other common tasks you can perform with regular expressions."
   ]
  },
  {
   "cell_type": "markdown",
   "metadata": {},
   "source": [
    "###Split at matches with split()"
   ]
  },
  {
   "cell_type": "markdown",
   "metadata": {},
   "source": [
    "You can split a string at a pattern's matches (like the normal split method would do):"
   ]
  },
  {
   "cell_type": "code",
   "execution_count": 11,
   "metadata": {
    "collapsed": false
   },
   "outputs": [
    {
     "name": "stdout",
     "output_type": "stream",
     "text": [
      "['To be or ', 'ot to be, that is the questio', '']\n"
     ]
    }
   ],
   "source": [
    "n_pattern = re.compile(\"n\")\n",
    "m = n_pattern.split(source)\n",
    "print(m)"
   ]
  },
  {
   "cell_type": "markdown",
   "metadata": {},
   "source": [
    "###Replace at matches with sub()"
   ]
  },
  {
   "cell_type": "markdown",
   "metadata": {},
   "source": [
    "You can replace a match with another string, like the string replace method does:"
   ]
  },
  {
   "cell_type": "code",
   "execution_count": 12,
   "metadata": {
    "collapsed": false
   },
   "outputs": [
    {
     "name": "stdout",
     "output_type": "stream",
     "text": [
      "To be or ?ot to be, that is the questio?\n"
     ]
    }
   ],
   "source": [
    "m = n_pattern.sub('?', source)\n",
    "print(m)"
   ]
  },
  {
   "cell_type": "markdown",
   "metadata": {},
   "source": [
    "##Defining Patterns"
   ]
  },
  {
   "cell_type": "markdown",
   "metadata": {},
   "source": [
    "We've seen some of the important functions in Python's re package, including match(), search(), findall(),  split(), and sub(). We've seen simple patterns that used the following features:\n",
    "\n",
    "- Matching literal strings like \"that is\"\n",
    "- Matching any single character other than \\n with \".\"\n",
    "- Matching any number of the previous character with \"*\"\n",
    "- Matching an optional previous character with \"?\"\n",
    "\n",
    "Now we are going to learn how to build moe powerful patterns that can help you match almost any types of strings that you can think of."
   ]
  },
  {
   "cell_type": "markdown",
   "metadata": {},
   "source": [
    "###Special characters"
   ]
  },
  {
   "cell_type": "markdown",
   "metadata": {},
   "source": [
    "The re package provides a set of character sequences that begin with a backslash for use in regular expressions.  Each of these matches a common set of useful characters.\n",
    "\n",
    "| Pattern | Matches                                                  |\n",
    "|---------|----------------------------------------------------------|\n",
    "| \\d      | a single digit                                           |\n",
    "| \\D      | a single non-digit                                       |\n",
    "| \\w      | an alphanumeric character                                |\n",
    "| \\W      | a non-alphanumeric character                             |\n",
    "| \\s      | a whitespace character                                   |\n",
    "| \\S      | a non-whitespace character                               |\n",
    "| \\b      | a word boundary (between a \\w and a \\W, in either order) |\n",
    "| \\B      | a non-word boundary                                      |"
   ]
  },
  {
   "cell_type": "markdown",
   "metadata": {},
   "source": [
    "To put this to work we are going to use the printable variable in the string module.  This is a string that contains 100 printable ASCII characters."
   ]
  },
  {
   "cell_type": "code",
   "execution_count": 8,
   "metadata": {
    "collapsed": false
   },
   "outputs": [
    {
     "name": "stdout",
     "output_type": "stream",
     "text": [
      "0123456789abcdefghijklmnopqrstuvwxyzABCDEFGHIJKLMNOPQRSTUVWXYZ!\"#$%&'()*+,-./:;<=>?@[\\]^_`{|}~ \t\n",
      "\r",
      "\u000b",
      "\f",
      "\n"
     ]
    }
   ],
   "source": [
    "import string\n",
    "printable = string.printable\n",
    "print(printable)"
   ]
  },
  {
   "cell_type": "markdown",
   "metadata": {},
   "source": [
    "We can use regular expressions to find all the digits, all the alphanumerics, and all the whitespace characters in this string."
   ]
  },
  {
   "cell_type": "code",
   "execution_count": 11,
   "metadata": {
    "collapsed": false
   },
   "outputs": [
    {
     "data": {
      "text/plain": [
       "['0', '1', '2', '3', '4', '5', '6', '7', '8', '9']"
      ]
     },
     "execution_count": 11,
     "metadata": {},
     "output_type": "execute_result"
    }
   ],
   "source": [
    "re.findall(\"\\d\", printable)"
   ]
  },
  {
   "cell_type": "code",
   "execution_count": 10,
   "metadata": {
    "collapsed": false
   },
   "outputs": [
    {
     "name": "stdout",
     "output_type": "stream",
     "text": [
      "['0', '1', '2', '3', '4', '5', '6', '7', '8', '9', 'a', 'b', 'c', 'd', 'e', 'f', 'g', 'h', 'i', 'j', 'k', 'l', 'm', 'n', 'o', 'p', 'q', 'r', 's', 't', 'u', 'v', 'w', 'x', 'y', 'z', 'A', 'B', 'C', 'D', 'E', 'F', 'G', 'H', 'I', 'J', 'K', 'L', 'M', 'N', 'O', 'P', 'Q', 'R', 'S', 'T', 'U', 'V', 'W', 'X', 'Y', 'Z', '_']\n"
     ]
    }
   ],
   "source": [
    "print(re.findall(\"\\w\", printable))"
   ]
  },
  {
   "cell_type": "code",
   "execution_count": 15,
   "metadata": {
    "collapsed": false
   },
   "outputs": [
    {
     "data": {
      "text/plain": [
       "[' ', '\\t', '\\n', '\\r', '\\x0b', '\\x0c']"
      ]
     },
     "execution_count": 15,
     "metadata": {},
     "output_type": "execute_result"
    }
   ],
   "source": [
    "re.findall(\"\\s\", printable)"
   ]
  },
  {
   "cell_type": "markdown",
   "metadata": {},
   "source": [
    "###Using specifiers"
   ]
  },
  {
   "cell_type": "markdown",
   "metadata": {},
   "source": [
    "We've see three characters that have a special meaning in regular expressions: \"\\*\", \".\", and \"?\".  These are examples of what we call specifiers, special characters that modify the meaning of a regular expression and help us create more flexible patterns.  There are several more specifiers that you should know about:"
   ]
  },
  {
   "cell_type": "markdown",
   "metadata": {},
   "source": [
    "| Pattern          | Matches                                      |\n",
    "|------------------|----------------------------------------------|\n",
    "| abc              | literal abc                                  |\n",
    "| ( expr )         | expr                                         |\n",
    "| expr1 &#124; expr2    | expr1 or expr2                               |\n",
    "| .                | any character except \\n                      |\n",
    "| ^                | start of source string                       |\n",
    "| $                | end of source string                         |\n",
    "| prev ?           | zero or one prev                             |\n",
    "| prev *           | zero or more prev, as many as possible       |\n",
    "| prev *?          | zero or more prev, as few as possible        |\n",
    "| prev +           | one or more prev, as many as possible        |\n",
    "| prev +?          | one or more prev, as few as possible         |\n",
    "| prev { m }       | m consecutive prev                           |\n",
    "| prev { m, n }    | m to n consecutive prev, as many as possible |\n",
    "| prev { m, n }?   | m to n consecutive prev, as few as possible  |\n",
    "| [ abc ]          | a or b or c (same as a&#124;b&#124;c)                  |\n",
    "| [^ abc ]         | not (a or b or c)                            |\n",
    "| prev (?= next )  | prev if followed by next                     |\n",
    "| prev (?! next )  | prev if not followed by next                 |\n",
    "| (?<= prev ) next | next if preceded by prev                     |\n",
    "| (?<! prev ) next | next if not preceded by prev                 |"
   ]
  },
  {
   "cell_type": "markdown",
   "metadata": {},
   "source": [
    "Regular expressions are not for the faint of heart. They are extremely powerful and can make things like finding a US phone number in the middle of a large section of text easy. But you need to write the correct regular expression, which can sometimes be a difficult task."
   ]
  },
  {
   "cell_type": "markdown",
   "metadata": {},
   "source": [
    "Let's try a more realistic example.  Suppose you want to extract all of US telephone numbers from a source of text. The source might look like this:"
   ]
  },
  {
   "cell_type": "code",
   "execution_count": 16,
   "metadata": {
    "collapsed": true
   },
   "outputs": [],
   "source": [
    "large_source = \"\"\"\n",
    "Hi Bianca,\n",
    "It was great to talk to you about regular expressions. I really understand\n",
    "them more than I ever had before. Would you like to work on the next project\n",
    "together? My number is 650-555-3948. Thanks and talk to you soon!\n",
    "\n",
    "-Mary\n",
    "\"\"\""
   ]
  },
  {
   "cell_type": "markdown",
   "metadata": {},
   "source": [
    "What we want to do is build a pattern that would do the follwing: \n",
    "\n",
    "- match three numbers\n",
    "- followed by a dash\n",
    "- then match three more numbers\n",
    "- followed by a dash\n",
    "- and then match four numbers\n",
    "\n",
    "Here's a regular expression to do exactly that:"
   ]
  },
  {
   "cell_type": "code",
   "execution_count": 17,
   "metadata": {
    "collapsed": false
   },
   "outputs": [
    {
     "name": "stdout",
     "output_type": "stream",
     "text": [
      "['650-555-3948']\n"
     ]
    }
   ],
   "source": [
    "phone_number_pattern = re.compile(r'[0123456789]{3}-[0123456789]{3}-[0123456789]{4}')\n",
    "m = phone_number_pattern.findall(large_source)\n",
    "print(m)"
   ]
  },
  {
   "cell_type": "markdown",
   "metadata": {},
   "source": [
    "One important side note: Notice that I surronded the string with the regular expression with `\"r''`. This is called a raw string literal. It is similar to a regular string literal, but Python won't replace any characters when it is interpreted.  For example, `\"\\b\"` will remain as it is, instead of being replaced by a backspace character. It is safe practice to surround all of your patterns with `\"r''\"` to prevent this type of substitution.\n",
    "\n",
    "In our phone number regular expression, we used the square bracket notation to mean 0 or 1 or 2, and so on, and the curly bracket to designate how many of that pattern we would like to match. We could have also written this regular expression more compactly as follows:"
   ]
  },
  {
   "cell_type": "code",
   "execution_count": 18,
   "metadata": {
    "collapsed": false
   },
   "outputs": [
    {
     "name": "stdout",
     "output_type": "stream",
     "text": [
      "['650-555-3948']\n"
     ]
    }
   ],
   "source": [
    "phone_number_pattern = re.compile(r'\\d{3}-\\d{3}-\\d{4}')\n",
    "m = phone_number_pattern.findall(large_source)\n",
    "print(m)"
   ]
  },
  {
   "cell_type": "markdown",
   "metadata": {},
   "source": [
    "As you can see, using the wildcard characters makes this expression much easier to read. \n",
    "\n",
    "As you learn to write regular expressions, you can try using [Pythex](http://pythex.org/).  This handy website lets you test out your Python regular expressions on the fly so that you can be sure that your pattern is matching what you expect it to match."
   ]
  },
  {
   "cell_type": "markdown",
   "metadata": {},
   "source": [
    "###Specifying match output"
   ]
  },
  {
   "cell_type": "markdown",
   "metadata": {},
   "source": [
    "By inserting parentheses into your regular expression, you can designate individual pieces of the string that you are interested in.  After you use the match() or search() functions, you can then retrieve these pieces using the `groups()` method."
   ]
  },
  {
   "cell_type": "markdown",
   "metadata": {},
   "source": [
    "As an example, lets improve our phone number regular expression by providing the ability to grab the area code and the rest of the number:"
   ]
  },
  {
   "cell_type": "code",
   "execution_count": 19,
   "metadata": {
    "collapsed": false
   },
   "outputs": [
    {
     "name": "stdout",
     "output_type": "stream",
     "text": [
      "650-555-3948\n",
      "('650', '555-3948')\n"
     ]
    }
   ],
   "source": [
    "phone_number_pattern = re.compile(r'(\\d{3})-(\\d{3}-\\d{4})')\n",
    "m = phone_number_pattern.search(large_source)\n",
    "\n",
    "if m:\n",
    "    print(m.group())\n",
    "    print(m.groups())"
   ]
  },
  {
   "cell_type": "markdown",
   "metadata": {},
   "source": [
    "`m.groups()` returns a set of all of the groups that were captured based on where you placed the parenthenses. You can also name the groups for easy retrieval:"
   ]
  },
  {
   "cell_type": "code",
   "execution_count": 20,
   "metadata": {
    "collapsed": false
   },
   "outputs": [
    {
     "name": "stdout",
     "output_type": "stream",
     "text": [
      "650\n",
      "555-3948\n"
     ]
    }
   ],
   "source": [
    "phone_number_pattern = re.compile(r'(?P<areacode>\\d{3})-(?P<number>\\d{3}-\\d{4})')\n",
    "m = phone_number_pattern.search(large_source)\n",
    "\n",
    "if m:\n",
    "    print(m.group(\"areacode\"))\n",
    "    print(m.group(\"number\"))"
   ]
  },
  {
   "cell_type": "markdown",
   "metadata": {},
   "source": [
    "Regular expressions are an entire language in themselves.  Because of their flexibility, they show up in many areas of computer science and feature in many programming languages, including bash script.  It takes a long time to become fluent in regular expressions, but a little bit of practice will help you the next time you encounter them."
   ]
  }
 ],
 "metadata": {
  "kernelspec": {
   "display_name": "Python 3",
   "language": "python",
   "name": "python3"
  },
  "language_info": {
   "codemirror_mode": {
    "name": "ipython",
    "version": 3
   },
   "file_extension": ".py",
   "mimetype": "text/x-python",
   "name": "python",
   "nbconvert_exporter": "python",
   "pygments_lexer": "ipython3",
   "version": "3.4.3"
  }
 },
 "nbformat": 4,
 "nbformat_minor": 0
}
