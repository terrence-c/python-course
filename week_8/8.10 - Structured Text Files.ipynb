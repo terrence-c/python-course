{
 "cells": [
  {
   "cell_type": "markdown",
   "metadata": {},
   "source": [
    "# Data Has To Go Somewhere"
   ]
  },
  {
   "cell_type": "markdown",
   "metadata": {},
   "source": [
    "Most of the files you will manipulate as a data scientist will be text files, and we've already seen how to access them using open(), read(), readlines() and so forth.  These commands work for any text file, but many text files include additional structure that we can leverage.  The text isn't just anything - it's organized according to certain standardized rules.  These are what we call structured text files, and they allow us to share and consume information from different applications easily. Let's look into some common structured text formats and how we can access them in Python."
   ]
  },
  {
   "cell_type": "markdown",
   "metadata": {},
   "source": [
    "## CSV: Comma Separated Value"
   ]
  },
  {
   "cell_type": "markdown",
   "metadata": {},
   "source": [
    "CSV files are files in which items are divided across different lines and different columns, like a table.  On each line, items are separated by a comma. To get a good visual, think of a spreadsheet application: A typical spreadsheet program can open CSV files and display them to you as a table. \n",
    "\n",
    "The \"C\" in CSV stands for comma, whis is called a *delimiter*, but other variations are possible.  Other common delimiters include ' ', '|', '\\t', and so on. Furthermore, the first row of a csv file is often a special header row and does not denote data. \n",
    "\n",
    "If you wanted to, you could read a csv file using read() or readlines(), but it would take a little effort to deal with the commas and split each line correctly.  Instead, Python has a package that makes reading and writing CSV files easy: "
   ]
  },
  {
   "cell_type": "code",
   "execution_count": 1,
   "metadata": {
    "collapsed": false
   },
   "outputs": [],
   "source": [
    "import csv\n",
    "\n",
    "grades = [\n",
    "    ['John', 88],\n",
    "    ['Kate', 93],\n",
    "    ['Harry', 93],\n",
    "    ['Linda', 87],\n",
    "    ['Harriet', 91]\n",
    "]\n",
    "\n",
    "grades_csv_write = open('grades.csv', 'wt')\n",
    "csvout = csv.writer(grades_csv_write)\n",
    "csvout.writerows(grades)\n",
    "\n",
    "grades_csv_write.close()"
   ]
  },
  {
   "cell_type": "markdown",
   "metadata": {},
   "source": [
    "Now let's take a look at the file that was just created:"
   ]
  },
  {
   "cell_type": "code",
   "execution_count": 2,
   "metadata": {
    "collapsed": false
   },
   "outputs": [
    {
     "name": "stdout",
     "output_type": "stream",
     "text": [
      "John,88\r",
      "\r\n",
      "Kate,93\r",
      "\r\n",
      "Harry,93\r",
      "\r\n",
      "Linda,87\r",
      "\r\n",
      "Harriet,91\r",
      "\r\n"
     ]
    }
   ],
   "source": [
    "!cat grades.csv"
   ]
  },
  {
   "cell_type": "markdown",
   "metadata": {},
   "source": [
    "We have just created a comma separated file of a 5 by 2 table of names and grades. You could open this file in a spreadsheet program and see the data in tabular format, but the data itself is just a plain text file.\n",
    "\n",
    "Notice that we constructed a csv.writer object, passing our file into the constructor, and used that to write our data to the file.  This is how Python makes it very simple to write (and read) csv files."
   ]
  },
  {
   "cell_type": "markdown",
   "metadata": {},
   "source": [
    "We can read our CSV file in a similar manner:"
   ]
  },
  {
   "cell_type": "code",
   "execution_count": 3,
   "metadata": {
    "collapsed": false
   },
   "outputs": [
    {
     "name": "stdout",
     "output_type": "stream",
     "text": [
      "['John', '88']\n",
      "['Kate', '93']\n",
      "['Harry', '93']\n",
      "['Linda', '87']\n",
      "['Harriet', '91']\n"
     ]
    }
   ],
   "source": [
    "import csv\n",
    "\n",
    "grades_csv_read = open('grades.csv', 'rt')\n",
    "csvin = csv.reader(grades_csv_read)\n",
    "\n",
    "for row in csvin:\n",
    "    print(row)"
   ]
  },
  {
   "cell_type": "markdown",
   "metadata": {},
   "source": [
    "Once you create a csv.reader object, you can interate row by row.  Each row in the csv file is conveniently provided as a list. There is no need to write a special parser to split and manipulate the original text file - this is all done for you by the csv package."
   ]
  },
  {
   "cell_type": "markdown",
   "metadata": {},
   "source": [
    "## XML: eXtensible Markup Language"
   ]
  },
  {
   "cell_type": "markdown",
   "metadata": {},
   "source": [
    "XML is another structured text format that is used to represent relationships between data.  XML has many applications, and features prominently in modern web services. Python gives us convenient tools for processing XML."
   ]
  },
  {
   "cell_type": "markdown",
   "metadata": {},
   "source": [
    "Below, we'll create an example of an XML file.  If you haven't worked with XML before, just know that it is a language with a syntax similar to HTML.  Notice the use markup tags, which are placed between the '<' and '>' symbols.  The elements of an XML file are arranged in a hierarchy, with one root element, 'students', which contains several child elements."
   ]
  },
  {
   "cell_type": "code",
   "execution_count": 4,
   "metadata": {
    "collapsed": true
   },
   "outputs": [],
   "source": [
    "xml_data = '''<?xml version=\"1.0\"?>\n",
    "<students>\n",
    "\t<student name=\"John\">\n",
    "\t\t<grade value=\"88\" />\n",
    "\t</student>\n",
    "\t<student name=\"Kate\">\n",
    "\t\t<grade value=\"93\" />\n",
    "\t</student>\n",
    "\t<student name=\"Harry\">\n",
    "\t\t<grade value=\"93\" />\n",
    "\t</student>\n",
    "\t<student name=\"Linda\">\n",
    "\t\t<grade value=\"87\" />\n",
    "\t</student>\n",
    "\t<student name=\"Harriet\">\n",
    "\t\t<grade value=\"91\" />\n",
    "\t</student>\n",
    "</students>'''\n",
    "\n",
    "xml_data_file = open('grades.xml', 'wt')\n",
    "xml_data_file.write(xml_data)\n",
    "xml_data_file.close()"
   ]
  },
  {
   "cell_type": "code",
   "execution_count": 5,
   "metadata": {
    "collapsed": false
   },
   "outputs": [
    {
     "name": "stdout",
     "output_type": "stream",
     "text": [
      "<?xml version=\"1.0\"?>\r\n",
      "<students>\r\n",
      "\t<student name=\"John\">\r\n",
      "\t\t<grade value=\"88\" />\r\n",
      "\t</student>\r\n",
      "\t<student name=\"Kate\">\r\n",
      "\t\t<grade value=\"93\" />\r\n",
      "\t</student>\r\n",
      "\t<student name=\"Harry\">\r\n",
      "\t\t<grade value=\"93\" />\r\n",
      "\t</student>\r\n",
      "\t<student name=\"Linda\">\r\n",
      "\t\t<grade value=\"87\" />\r\n",
      "\t</student>\r\n",
      "\t<student name=\"Harriet\">\r\n",
      "\t\t<grade value=\"91\" />\r\n",
      "\t</student>\r\n",
      "</students>"
     ]
    }
   ],
   "source": [
    "!cat grades.xml"
   ]
  },
  {
   "cell_type": "markdown",
   "metadata": {},
   "source": [
    "This is just a regular text file that happens to be formatted as XML. Let's see how to read in the text file as an XML file."
   ]
  },
  {
   "cell_type": "code",
   "execution_count": 8,
   "metadata": {
    "collapsed": false
   },
   "outputs": [
    {
     "name": "stdout",
     "output_type": "stream",
     "text": [
      "students\n"
     ]
    }
   ],
   "source": [
    "from xml.etree import ElementTree  \n",
    "tree = ElementTree.ElementTree(file='grades.xml')\n",
    "root = tree.getroot()\n",
    "print(root.tag)"
   ]
  },
  {
   "cell_type": "markdown",
   "metadata": {},
   "source": [
    "We import the module ElementTree from the xml.etree package.  The ElementTree object gives us the ability to traverse an xml tree programmatically. After we create the tree, we retrieve the root. We can get the name of the root tag by accessing the tag property."
   ]
  },
  {
   "cell_type": "markdown",
   "metadata": {},
   "source": [
    "Once we have the root, we can proceed to traverse the XML tree.  We do this by moving from an element to its child elements."
   ]
  },
  {
   "cell_type": "code",
   "execution_count": 7,
   "metadata": {
    "collapsed": false
   },
   "outputs": [
    {
     "name": "stdout",
     "output_type": "stream",
     "text": [
      " tag: student attributes: {'name': 'John'}\n",
      "\ttag: grade attributes: {'value': '88'}\n",
      " tag: student attributes: {'name': 'Kate'}\n",
      "\ttag: grade attributes: {'value': '93'}\n",
      " tag: student attributes: {'name': 'Harry'}\n",
      "\ttag: grade attributes: {'value': '93'}\n",
      " tag: student attributes: {'name': 'Linda'}\n",
      "\ttag: grade attributes: {'value': '87'}\n",
      " tag: student attributes: {'name': 'Harriet'}\n",
      "\ttag: grade attributes: {'value': '91'}\n"
     ]
    }
   ],
   "source": [
    "for child in root:\n",
    "    print(' tag:', child.tag, 'attributes:', child.attrib)\n",
    "\n",
    "    for grandchild in child:\n",
    "        print('\\ttag:', grandchild.tag, 'attributes:', grandchild.attrib)"
   ]
  },
  {
   "cell_type": "markdown",
   "metadata": {},
   "source": [
    "Notice that each Element object has a tag property and an attrib property.  These are taken directly from the tag in the XML file. The Elements are also iterables.  Placing them in a for loop allows you to access each of an Element's child Elements. \n",
    "\n",
    "There are a number of other operations you can use for XML files: check out the [documentation](https://docs.python.org/3.3/library/xml.etree.elementtree.html) for details.\n",
    "\n",
    "You can also try [xml.dom](https://docs.python.org/3/library/xml.dom.html) and [xml.sax](https://docs.python.org/3/library/xml.sax.html) for alternative xml processing libraries. "
   ]
  },
  {
   "cell_type": "markdown",
   "metadata": {},
   "source": [
    "## JSON: Javascript Object Notation"
   ]
  },
  {
   "cell_type": "markdown",
   "metadata": {},
   "source": [
    "JSON is a structured text format that is commonly used for web development, but is increasingly popular for other applications as well. One good thing about JSON format is that the syntax is pretty similar to Python so it will be very easy to understand. \n",
    "\n",
    "Python's support of JSON is straightforward: there is one library that handles json and it's conveniently called \"json\".\n",
    "\n",
    "Let's begin with an example of a json file:"
   ]
  },
  {
   "cell_type": "code",
   "execution_count": 8,
   "metadata": {
    "collapsed": true
   },
   "outputs": [],
   "source": [
    "json_data = '''{\n",
    "\t\"students\": {\n",
    "\t\t\n",
    "\t\t\"John\": {\n",
    "\t\t\t\"grades\": [88]\n",
    "\t\t},\n",
    "\n",
    "\t\t\"Kate\": {\n",
    "\t\t\t\"grades\": [93]\n",
    "\t\t},\n",
    "\n",
    "\t\t\"Harry\": {\n",
    "\t\t\t\"grades\": [93]\n",
    "\t\t},\n",
    "\n",
    "\t\t\"Linda\": {\n",
    "\t\t\t\"grades\": [87]\n",
    "\t\t},\n",
    "\n",
    "\t\t\"Harriet\": {\n",
    "\t\t\t\"grades\": [91]\n",
    "\t\t}\n",
    "\t}\n",
    "}'''\n",
    "\n",
    "json_data_file = open('grades.json', 'wt')\n",
    "json_data_file.write(json_data)\n",
    "json_data_file.close()"
   ]
  },
  {
   "cell_type": "code",
   "execution_count": 9,
   "metadata": {
    "collapsed": false
   },
   "outputs": [
    {
     "name": "stdout",
     "output_type": "stream",
     "text": [
      "{\r\n",
      "\t\"students\": {\r\n",
      "\t\t\r\n",
      "\t\t\"John\": {\r\n",
      "\t\t\t\"grades\": [88]\r\n",
      "\t\t},\r\n",
      "\r\n",
      "\t\t\"Kate\": {\r\n",
      "\t\t\t\"grades\": [93]\r\n",
      "\t\t},\r\n",
      "\r\n",
      "\t\t\"Harry\": {\r\n",
      "\t\t\t\"grades\": [93]\r\n",
      "\t\t},\r\n",
      "\r\n",
      "\t\t\"Linda\": {\r\n",
      "\t\t\t\"grades\": [87]\r\n",
      "\t\t},\r\n",
      "\r\n",
      "\t\t\"Harriet\": {\r\n",
      "\t\t\t\"grades\": [91]\r\n",
      "\t\t}\r\n",
      "\t}\r\n",
      "}"
     ]
    }
   ],
   "source": [
    "!cat grades.json"
   ]
  },
  {
   "cell_type": "markdown",
   "metadata": {},
   "source": [
    "Please note: json looks very similar to dictionary literals in Python. In fact, the json package converts JSON files into nested dictionaries.  Any text in quotes is converted to strings, numbers are converted to ints or floats, and brackets are interpreted as lists.\n",
    "\n",
    "Let's see this in action:"
   ]
  },
  {
   "cell_type": "code",
   "execution_count": 2,
   "metadata": {
    "collapsed": false
   },
   "outputs": [
    {
     "name": "stdout",
     "output_type": "stream",
     "text": [
      "root: {'students': {'Harry': {'grades': [93]}, 'Harriet': {'grades': [91]}, 'Linda': {'grades': [87]}, 'John': {'grades': [88]}, 'Kate': {'grades': [93]}}}\n",
      "\n",
      "students: {'Harry': {'grades': [93]}, 'Harriet': {'grades': [91]}, 'Linda': {'grades': [87]}, 'John': {'grades': [88]}, 'Kate': {'grades': [93]}}\n"
     ]
    }
   ],
   "source": [
    "import json\n",
    "json_data_file = open(\"grades.json\", \"rt\")\n",
    "json_data = json.loads(json_data_file.read())\n",
    "json_data_file.close()\n",
    "\n",
    "print(\"root:\", json_data)\n",
    "print()\n",
    "print(\"students:\", json_data[\"students\"])"
   ]
  },
  {
   "cell_type": "markdown",
   "metadata": {},
   "source": [
    "We have now loaded our json file from the file system, and used the json.loads() function to convert that text file into a Python object. As we print both the root json_data and the dictionary indexed by \"students\", we can see how Python has coverted that json file into a Python dictionary."
   ]
  },
  {
   "cell_type": "markdown",
   "metadata": {},
   "source": [
    "We can also convert take Python dictionaries and write them into json files."
   ]
  },
  {
   "cell_type": "code",
   "execution_count": 11,
   "metadata": {
    "collapsed": true
   },
   "outputs": [],
   "source": [
    "python_dict = {'students': \n",
    "                   {'Harriet': {'grades': [91]}, \n",
    "                    'John': {'grades': [88]}, \n",
    "                    'Kate': {'grades': [93]}, \n",
    "                    'Linda': {'grades': [87]}, \n",
    "                    'Harry': {'grades': [93]}\n",
    "                   }\n",
    "              }\n",
    "python_dict_json = json.dumps(python_dict)\n",
    "\n",
    "python_dict_json_file = open(\"grades_python.json\", \"wt\")\n",
    "python_dict_json_file.write(python_dict_json)\n",
    "python_dict_json_file.close()"
   ]
  },
  {
   "cell_type": "code",
   "execution_count": 12,
   "metadata": {
    "collapsed": false
   },
   "outputs": [
    {
     "name": "stdout",
     "output_type": "stream",
     "text": [
      "{\"students\": {\"Kate\": {\"grades\": [93]}, \"Harry\": {\"grades\": [93]}, \"Linda\": {\"grades\": [87]}, \"Harriet\": {\"grades\": [91]}, \"John\": {\"grades\": [88]}}}"
     ]
    }
   ],
   "source": [
    "!cat grades_python.json"
   ]
  },
  {
   "cell_type": "markdown",
   "metadata": {},
   "source": [
    "We use the `dumps()` function to convert a python dictionary into a json formatted string. We then write the results to grades_python.json"
   ]
  },
  {
   "cell_type": "markdown",
   "metadata": {},
   "source": [
    "There are a number of other structured file formats, including HTML, YAML, and INI.  Python has specialized modules that handle the reading and writing to each of these. When you encouter a new file format, make sure you search for a previously written module before you try to write one yourself!"
   ]
  }
 ],
 "metadata": {
  "kernelspec": {
   "display_name": "Python 3",
   "language": "python",
   "name": "python3"
  },
  "language_info": {
   "codemirror_mode": {
    "name": "ipython",
    "version": 3
   },
   "file_extension": ".py",
   "mimetype": "text/x-python",
   "name": "python",
   "nbconvert_exporter": "python",
   "pygments_lexer": "ipython3",
   "version": "3.4.3"
  }
 },
 "nbformat": 4,
 "nbformat_minor": 0
}
