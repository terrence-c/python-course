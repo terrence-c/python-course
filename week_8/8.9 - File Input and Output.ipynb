{
 "cells": [
  {
   "cell_type": "markdown",
   "metadata": {},
   "source": [
    "# Data Has to Go Somewhere"
   ]
  },
  {
   "cell_type": "markdown",
   "metadata": {},
   "source": [
    "## The open and close commands"
   ]
  },
  {
   "cell_type": "markdown",
   "metadata": {},
   "source": [
    "On your personal computer and mine, the operating system stores data in files.  In many data analysis applications, your first step will be to read data from a file.  Likewise, you will often need to write data or results to an output file.  In this section, we will show you how to read and write files using python."
   ]
  },
  {
   "cell_type": "markdown",
   "metadata": {},
   "source": [
    "Let's first look at the fundamental command that will enable you to access a file: open."
   ]
  },
  {
   "cell_type": "markdown",
   "metadata": {},
   "source": [
    "`fileHandle = open(path_to_file, mode)`"
   ]
  },
  {
   "cell_type": "markdown",
   "metadata": {},
   "source": [
    "The open function returns a Python object of type file; in this case we assign that file to the variable `fileHandle`.   This is the variable we will use to read or manipulate the contents of the file.\n",
    "\n",
    "The `path_to_file` variable specifies where the file is located.  This is a fully qualified path and file name that tells python where to look for the file on your computer.\n",
    "\n",
    "The mode parameter specifies what kind of operations that we want to do on the file, and what kind of file is it.\n",
    "\n",
    "The first letter indicates the operation:\n",
    "- r means read\n",
    "- w means write, and overwrite the file if it exists\n",
    "- x means write, but only if file does not already exist\n",
    "- a means write (append): write at the end of the file if it exists\n",
    "\n",
    "The second letter of mode indicates the file type:\n",
    "- t (or nothing) means text\n",
    "- b means binary"
   ]
  },
  {
   "cell_type": "markdown",
   "metadata": {},
   "source": [
    "After opening a file and manipulating it in some way, you should remember to close the file as well. Closing the file ensures that Python does not maintain file handles to files it is not using anymore. This practice can keep memory usage low as well. "
   ]
  },
  {
   "cell_type": "markdown",
   "metadata": {},
   "source": [
    "## Writing a text file using write()"
   ]
  },
  {
   "cell_type": "markdown",
   "metadata": {},
   "source": [
    "Let's write a file using Python. First we'll need some content:"
   ]
  },
  {
   "cell_type": "code",
   "execution_count": 1,
   "metadata": {
    "collapsed": true
   },
   "outputs": [],
   "source": [
    "file_content = '''To be or not to be\n",
    "That is a question.'''"
   ]
  },
  {
   "cell_type": "markdown",
   "metadata": {},
   "source": [
    "We want to create a new file using the contents in our multi-line string.  To do that, we'll follow three steps: open the file, write to it, then close it."
   ]
  },
  {
   "cell_type": "code",
   "execution_count": 2,
   "metadata": {
    "collapsed": true
   },
   "outputs": [],
   "source": [
    "poem_file = open('shakespeare.txt', 'wt')\n",
    "poem_file.write(file_content)\n",
    "poem_file.close()"
   ]
  },
  {
   "cell_type": "markdown",
   "metadata": {},
   "source": [
    "After you execute that code, you should see a file named \"shakespeare.txt\" in the folder containing this ipython notebook. Let's take a look:"
   ]
  },
  {
   "cell_type": "code",
   "execution_count": 3,
   "metadata": {
    "collapsed": false
   },
   "outputs": [
    {
     "name": "stdout",
     "output_type": "stream",
     "text": [
      "total 576\r\n",
      "drwxr-xr-x+ 17 kashaolu  staff     578 Oct 28 09:53 \u001b[34m.\u001b[m\u001b[m\r\n",
      "drwxr-xr-x+ 19 kashaolu  staff     646 Oct 20 13:28 \u001b[34m..\u001b[m\u001b[m\r\n",
      "-rw-r--r--@  1 kashaolu  staff    6148 Oct 28 07:43 .DS_Store\r\n",
      "drwxr-xr-x+  4 Personal  staff     136 Oct 28 09:31 \u001b[34m.ipynb_checkpoints\u001b[m\u001b[m\r\n",
      "-rw-r--r--+  1 kashaolu  staff  100184 Oct 20 13:28 8.1 - Encoding Text.pptx\r\n",
      "-rw-r--r--+  1 kashaolu  staff    8825 Sep 19 11:26 8.2 - Unicode Strings.ipynb\r\n",
      "-rw-r--r--+  1 kashaolu  staff   15496 Sep 19 11:26 8.3 - Encoding.ipynb\r\n",
      "-rw-r--r--+  1 kashaolu  staff   16894 Sep 19 11:26 8.4 - Formatting.ipynb\r\n",
      "-rw-r--r--+  1 kashaolu  staff   23439 Sep 19 11:26 8.5 - Regular Expressions.ipynb\r\n",
      "-rw-r--r--+  1 kashaolu  staff   11738 Sep 19 11:26 8.6 - Binary Data.ipynb\r\n",
      "-rw-r--r--+  1 kashaolu  staff   19483 Oct 28 09:14 8.7 - File Input and Output.ipynb\r\n",
      "-rw-r--r--+  1 kashaolu  staff    4887 Oct 28 09:53 8.8 - Structured Text Files.ipynb\r\n",
      "-rw-r--r--+  1 kashaolu  staff      72 Sep 19 11:26 Week 8 Assignment.ipynb\r\n",
      "-rw-r--r--+  1 Personal  staff     255 Oct 28 07:23 binary\r\n",
      "-rw-r--r--+  1 kashaolu  staff   49596 Sep 19 11:26 cal-image.png\r\n",
      "-rw-r--r--+  1 Personal  staff      50 Oct 28 09:53 grades.csv\r\n",
      "-rw-r--r--+  1 Personal  staff      38 Oct 28 09:54 shakespeare.txt\r\n"
     ]
    }
   ],
   "source": [
    "!ls -al"
   ]
  },
  {
   "cell_type": "markdown",
   "metadata": {},
   "source": [
    "We can inspect the contents using the cat command:"
   ]
  },
  {
   "cell_type": "code",
   "execution_count": 4,
   "metadata": {
    "collapsed": false
   },
   "outputs": [
    {
     "name": "stdout",
     "output_type": "stream",
     "text": [
      "To be or not to be\r\n",
      "That is a question."
     ]
    }
   ],
   "source": [
    "!cat shakespeare.txt"
   ]
  },
  {
   "cell_type": "markdown",
   "metadata": {},
   "source": [
    "We programatically created the file shakespeare.txt with the given content.  If the file already existed, we overwrote it with our new content."
   ]
  },
  {
   "cell_type": "markdown",
   "metadata": {},
   "source": [
    "Next, let's append more text to the file. We will need to open it using the \"a\" mode to append:"
   ]
  },
  {
   "cell_type": "code",
   "execution_count": 5,
   "metadata": {
    "collapsed": true
   },
   "outputs": [],
   "source": [
    "poem_file = open('shakespeare.txt', 'at')\n",
    "poem_file.write(\"\\n--Written By Shakespeare\")\n",
    "poem_file.close()"
   ]
  },
  {
   "cell_type": "markdown",
   "metadata": {},
   "source": [
    "Lets see what the file looks like now."
   ]
  },
  {
   "cell_type": "code",
   "execution_count": 6,
   "metadata": {
    "collapsed": false
   },
   "outputs": [
    {
     "name": "stdout",
     "output_type": "stream",
     "text": [
      "To be or not to be\r\n",
      "That is a question.\r\n",
      "--Written By Shakespeare"
     ]
    }
   ],
   "source": [
    "!cat shakespeare.txt"
   ]
  },
  {
   "cell_type": "markdown",
   "metadata": {},
   "source": [
    "Notice the newline character \"\\n\" in the string we passed to the write method.  The function write() enters all characters verbatim, so we have to explicitely include a newline if we want to move to the next line."
   ]
  },
  {
   "cell_type": "markdown",
   "metadata": {},
   "source": [
    "## Read a text file with read(), readline(), or readlines()"
   ]
  },
  {
   "cell_type": "markdown",
   "metadata": {},
   "source": [
    "Reading files is easy in Python, but there are a few important things to keep in mind:"
   ]
  },
  {
   "cell_type": "markdown",
   "metadata": {},
   "source": [
    "First, the read() function with no arguments will load the entire file into memory.  This is acceptable for small files, but files can get quite large.  If a file is large enough, it can cause your application to run out of memory. Still, if you know you have a small file, this is an easy way to read its contents:"
   ]
  },
  {
   "cell_type": "code",
   "execution_count": 7,
   "metadata": {
    "collapsed": false
   },
   "outputs": [
    {
     "name": "stdout",
     "output_type": "stream",
     "text": [
      "To be or not to be\n",
      "That is a question.\n",
      "--Written By Shakespeare\n"
     ]
    }
   ],
   "source": [
    "poem_file_read = open('shakespeare.txt', 'rt')\n",
    "poem_read = poem_file_read.read()\n",
    "poem_file_read.close()\n",
    "print(poem_read)"
   ]
  },
  {
   "cell_type": "markdown",
   "metadata": {},
   "source": [
    "You can also use the function readlines() that will also load all of the file in memory, but conveniently return a list in which each item is a line in the file."
   ]
  },
  {
   "cell_type": "code",
   "execution_count": 8,
   "metadata": {
    "collapsed": false
   },
   "outputs": [
    {
     "name": "stdout",
     "output_type": "stream",
     "text": [
      "['To be or not to be\\n', 'That is a question.\\n', '--Written By Shakespeare']\n"
     ]
    }
   ],
   "source": [
    "poem_file_read = open('shakespeare.txt', 'rt')\n",
    "poem_read_array = poem_file_read.readlines()\n",
    "poem_file_read.close()\n",
    "print(poem_read_array)"
   ]
  },
  {
   "cell_type": "code",
   "execution_count": 9,
   "metadata": {
    "collapsed": false
   },
   "outputs": [
    {
     "name": "stdout",
     "output_type": "stream",
     "text": [
      "To be or not to be\n",
      "\n"
     ]
    }
   ],
   "source": [
    "print(poem_read_array[0])"
   ]
  },
  {
   "cell_type": "markdown",
   "metadata": {},
   "source": [
    "Notice the contents of the file is now in an list. You can now process a file line by line like this:"
   ]
  },
  {
   "cell_type": "code",
   "execution_count": 10,
   "metadata": {
    "collapsed": false
   },
   "outputs": [
    {
     "name": "stdout",
     "output_type": "stream",
     "text": [
      "To be or not to be\n",
      "\n",
      "That is a question.\n",
      "\n",
      "--Written By Shakespeare\n"
     ]
    }
   ],
   "source": [
    "for line in poem_read_array :\n",
    "    print(line)"
   ]
  },
  {
   "cell_type": "markdown",
   "metadata": {},
   "source": [
    "We have a for loop that lets us access each line of the file one by one and process it.  This is a very common procedure when working with text. Even though our file is divided into separate lines, however, our code still loads the entire file into memory when we call readlines()."
   ]
  },
  {
   "cell_type": "markdown",
   "metadata": {},
   "source": [
    "The readline() function saves us from doing this. This method reads a single line from the file and then stops.  If we call it again later, it will continue by returning the next line in the file."
   ]
  },
  {
   "cell_type": "code",
   "execution_count": 11,
   "metadata": {
    "collapsed": false
   },
   "outputs": [
    {
     "name": "stdout",
     "output_type": "stream",
     "text": [
      "To be or not to be\n",
      "\n",
      "That is a question.\n",
      "\n",
      "--Written By Shakespeare\n"
     ]
    }
   ],
   "source": [
    "poem_file_read = open('shakespeare.txt', 'rt')\n",
    "\n",
    "while True:\n",
    "    line = poem_file_read.readline()\n",
    "    if not line:\n",
    "        break\n",
    "        \n",
    "    print(line)\n",
    "\n",
    "poem_file_read.close()"
   ]
  },
  {
   "cell_type": "markdown",
   "metadata": {
    "collapsed": true
   },
   "source": [
    "Notice that we use an infinite loop to read lines one by a time using the readline() function.  When we reach the end of the file, readline() will return an empty string.  When this happens, we break out of the loop. \n",
    "\n",
    "The advantage of this technique is that we read our file one line at a time, and do not have to worry about memory issues (unless we encounter an unusually long line)."
   ]
  },
  {
   "cell_type": "markdown",
   "metadata": {},
   "source": [
    "There is an even easier way to read files. The file handle itself is an iterator so you can pass it directly to a for statement:"
   ]
  },
  {
   "cell_type": "code",
   "execution_count": 12,
   "metadata": {
    "collapsed": false
   },
   "outputs": [
    {
     "name": "stdout",
     "output_type": "stream",
     "text": [
      "To be or not to be\n",
      "\n",
      "That is a question.\n",
      "\n",
      "--Written By Shakespeare\n"
     ]
    }
   ],
   "source": [
    "poem_file_read = open('shakespeare.txt', 'rt')\n",
    "\n",
    "for line in poem_file_read:\n",
    "    print(line)\n",
    "    \n",
    "poem_file_read.close()"
   ]
  },
  {
   "cell_type": "markdown",
   "metadata": {},
   "source": [
    "## Writing a binary file using write()"
   ]
  },
  {
   "cell_type": "markdown",
   "metadata": {},
   "source": [
    "If we want to write to a binary file instead of a text file, we must open it with a \"b\" as the second character in the `mode` parameter."
   ]
  },
  {
   "cell_type": "code",
   "execution_count": 13,
   "metadata": {
    "collapsed": true
   },
   "outputs": [],
   "source": [
    "binary_data = bytes(range(0,255)) # Generating some arbitrary binary data\n",
    "\n",
    "binary_file_write = open('binary', 'wb')\n",
    "binary_file_write.write(binary_data)\n",
    "binary_file_write.close()"
   ]
  },
  {
   "cell_type": "markdown",
   "metadata": {},
   "source": [
    "## Reading a binary file "
   ]
  },
  {
   "cell_type": "markdown",
   "metadata": {},
   "source": [
    "Similarly to text files, you can create a file handle that has read access to the binary file. Since there are typically no newline characters in binary data, you should use the read() function to read binary files.  To avoid reading the entire file into memory at once, you can specify how many bytes you want as a argument to read().  If you don't supply a number of bytes, this method will read all the way to the end of the file."
   ]
  },
  {
   "cell_type": "code",
   "execution_count": 6,
   "metadata": {
    "collapsed": false
   },
   "outputs": [
    {
     "name": "stdout",
     "output_type": "stream",
     "text": [
      "First 5 bytes of the file: b'\\x00\\x01\\x02\\x03\\x04'\n",
      "Next 5 bytes of the file: b'\\x05\\x06\\x07\\x08\\t'\n"
     ]
    }
   ],
   "source": [
    "binary_file_read = open('binary', 'rb')\n",
    "print(\"First 5 bytes of the file:\", binary_file_read.read(5))\n",
    "print(\"Next 5 bytes of the file:\", binary_file_read.read(5))\n",
    "binary_file_read.close()"
   ]
  },
  {
   "cell_type": "markdown",
   "metadata": {},
   "source": [
    "## Find position with tell(), change position with seek()"
   ]
  },
  {
   "cell_type": "markdown",
   "metadata": {},
   "source": [
    "As you read and write, Python keeps track of where you are in the file. There are a set of functions that allow you to find out and modify your current position in that file.\n",
    "\n",
    "The `tell()` function returns your location from the beginning of the file in bytes\n",
    "The `seek()` function allows you to jump to another location in the file\n",
    "\n",
    "For example, let's look at our binary file that we created:"
   ]
  },
  {
   "cell_type": "code",
   "execution_count": 8,
   "metadata": {
    "collapsed": true
   },
   "outputs": [],
   "source": [
    "binary_file_read = open('binary', 'rb')"
   ]
  },
  {
   "cell_type": "markdown",
   "metadata": {},
   "source": [
    "Let's find out our current position in the file:"
   ]
  },
  {
   "cell_type": "code",
   "execution_count": 9,
   "metadata": {
    "collapsed": false
   },
   "outputs": [
    {
     "data": {
      "text/plain": [
       "0"
      ]
     },
     "execution_count": 9,
     "metadata": {},
     "output_type": "execute_result"
    }
   ],
   "source": [
    "binary_file_read.tell()"
   ]
  },
  {
   "cell_type": "markdown",
   "metadata": {},
   "source": [
    "Now let's go to the offset where we saw printed that capital \"A\" and print just that byte."
   ]
  },
  {
   "cell_type": "code",
   "execution_count": 10,
   "metadata": {
    "collapsed": false
   },
   "outputs": [
    {
     "name": "stdout",
     "output_type": "stream",
     "text": [
      "b'A'\n"
     ]
    }
   ],
   "source": [
    "binary_file_read.seek(65)\n",
    "print(binary_file_read.read(1))"
   ]
  },
  {
   "cell_type": "markdown",
   "metadata": {},
   "source": [
    "You can also seek from your current position. Let's say I want to move five bytes from my current position. I would pass a 1 as a second argument to the seek function.  A value of 0 measures from the beginning of the file, 1 uses the current file position, and 2 uses the end of the file as the reference point."
   ]
  },
  {
   "cell_type": "code",
   "execution_count": 11,
   "metadata": {
    "collapsed": false
   },
   "outputs": [
    {
     "name": "stdout",
     "output_type": "stream",
     "text": [
      "b'FGHIJ'\n"
     ]
    }
   ],
   "source": [
    "binary_file_read.seek(65) #I'm going to go back to the original position\n",
    "binary_file_read.seek(5, 1) # Now I'm reading five bytes after the current position\n",
    "print(binary_file_read.read(5))"
   ]
  },
  {
   "cell_type": "markdown",
   "metadata": {},
   "source": [
    "Please note: the seek() and tell() functions work best with binary files, as you are moving back and forth in units of bytes. These functions will also work with text files, but note that because of variable encoding, one character could use more bytes than another, leading to unexpected side effects."
   ]
  }
 ],
 "metadata": {
  "kernelspec": {
   "display_name": "Python 3",
   "language": "python",
   "name": "python3"
  },
  "language_info": {
   "codemirror_mode": {
    "name": "ipython",
    "version": 3
   },
   "file_extension": ".py",
   "mimetype": "text/x-python",
   "name": "python",
   "nbconvert_exporter": "python",
   "pygments_lexer": "ipython3",
   "version": "3.4.3"
  }
 },
 "nbformat": 4,
 "nbformat_minor": 0
}
