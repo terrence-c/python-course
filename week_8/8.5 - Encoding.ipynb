{
 "cells": [
  {
   "cell_type": "markdown",
   "metadata": {},
   "source": [
    "# Mangle Data Like A Pro"
   ]
  },
  {
   "cell_type": "markdown",
   "metadata": {},
   "source": [
    "## Encoding and Decoding"
   ]
  },
  {
   "cell_type": "markdown",
   "metadata": {},
   "source": [
    "If all of the data processing you do is inside your Python modules, then you don't need to worry about encoding and decoding your string data since you will always be working in Unicode. However, when you export data or access data from an external source, like an external API, you will need to make sure that the external application can communicate data to your script properly.  This is where encoding schemes come into play. \n",
    "\n",
    "There are many encoding schemes out there, including ASCII and latin-1 which you may have seen before in other applications. UTF-8 is a standard encoding scheme that is widely used in many applications throughout the world. By encoding our strings using UTF-8, we maximize the chances that Linux aplications, other Python aplications, webpages, and so on will be able to properly read our data."
   ]
  },
  {
   "cell_type": "markdown",
   "metadata": {},
   "source": [
    "## How to encode strings to UTF-8"
   ]
  },
  {
   "cell_type": "markdown",
   "metadata": {},
   "source": [
    "Let's first look at the built-in functions that enable you to encode strings in Python.\n",
    "\n",
    "The process of encoding takes a string and converts it to a sequence of bytes. Any external application that uses the same encoding will then be able to interpret every character in the string correctly."
   ]
  },
  {
   "cell_type": "markdown",
   "metadata": {},
   "source": [
    "For example, let's begin with an emoji character.  Like the letters we're used to, this character actually has a unicode codepoint."
   ]
  },
  {
   "cell_type": "code",
   "execution_count": 25,
   "metadata": {
    "collapsed": false
   },
   "outputs": [
    {
     "name": "stdout",
     "output_type": "stream",
     "text": [
      "☃\n"
     ]
    }
   ],
   "source": [
    "raw_char = '\\u2603'\n",
    "print(raw_char)"
   ]
  },
  {
   "cell_type": "markdown",
   "metadata": {},
   "source": [
    "As you would expect, the length of `raw_char` will be the number of characters in that string:"
   ]
  },
  {
   "cell_type": "code",
   "execution_count": 26,
   "metadata": {
    "collapsed": false
   },
   "outputs": [
    {
     "data": {
      "text/plain": [
       "1"
      ]
     },
     "execution_count": 26,
     "metadata": {},
     "output_type": "execute_result"
    }
   ],
   "source": [
    "len(raw_char)"
   ]
  },
  {
   "cell_type": "markdown",
   "metadata": {},
   "source": [
    "Now let's encode this character in UTF-8 encoding:"
   ]
  },
  {
   "cell_type": "code",
   "execution_count": 27,
   "metadata": {
    "collapsed": false
   },
   "outputs": [
    {
     "name": "stdout",
     "output_type": "stream",
     "text": [
      "b'\\xe2\\x98\\x83'\n"
     ]
    }
   ],
   "source": [
    "encoded_char = raw_char.encode('utf-8')\n",
    "print(encoded_char)"
   ]
  },
  {
   "cell_type": "markdown",
   "metadata": {},
   "source": [
    "Note the \"b\" in front of the character. This is to designate that encoded_char is a sequence of bytes (instead of characters). Note also the three \"\\x\" escape sequences. This is to designate that \"e2\" is the raw byte value (in hexadecimal notation, or base 16) of the first byte in that sequence. If you were to see the variable `encoded_char` in memory it would look something like this:\n",
    "\n",
    "E29883\n",
    "\n",
    "You might wonder why we need the encoding step when the original string - like everything else in a computer - was always stored in bytes.  It's true that raw_char was stored in bytes, but the Python str is an abstraction based on unicode characters.  It's possible that the bytes used to represent a unicode character in Python change over time.  By contrast, after we encode the string, we have access to the actual byte values in memory.  We can see what the byte values are, even manipulate them if we wish.  Moreover, we can be confident that the byte values assigned by UTF-8 won't change, so the text we encode in this way can always be decoded correctly."
   ]
  },
  {
   "cell_type": "markdown",
   "metadata": {},
   "source": [
    "Since we encoded our string, the len function will now count bytes instead of characters:"
   ]
  },
  {
   "cell_type": "code",
   "execution_count": 28,
   "metadata": {
    "collapsed": false
   },
   "outputs": [
    {
     "data": {
      "text/plain": [
       "3"
      ]
     },
     "execution_count": 28,
     "metadata": {},
     "output_type": "execute_result"
    }
   ],
   "source": [
    "len(encoded_char)"
   ]
  },
  {
   "cell_type": "markdown",
   "metadata": {},
   "source": [
    "We can also confirm that encoded_char has type bytes."
   ]
  },
  {
   "cell_type": "code",
   "execution_count": 29,
   "metadata": {
    "collapsed": false
   },
   "outputs": [
    {
     "data": {
      "text/plain": [
       "bytes"
      ]
     },
     "execution_count": 29,
     "metadata": {},
     "output_type": "execute_result"
    }
   ],
   "source": [
    "type(encoded_char)"
   ]
  },
  {
   "cell_type": "markdown",
   "metadata": {},
   "source": [
    "As mentioned earlier, there are other encoding schemes besides UTF-8.  In the next cell, we encode a character into ASCII."
   ]
  },
  {
   "cell_type": "code",
   "execution_count": 30,
   "metadata": {
    "collapsed": false
   },
   "outputs": [
    {
     "name": "stdout",
     "output_type": "stream",
     "text": [
      "b'A'\n"
     ]
    }
   ],
   "source": [
    "ascii_char = 'A'\n",
    "print(ascii_char.encode('ascii'))"
   ]
  },
  {
   "cell_type": "markdown",
   "metadata": {},
   "source": [
    "Notice that the printed output begins with a 'b', alerting us to the fact that we're looking at individual bytes.  Instead of displaying the single byte in hexadecimal notation, however, we see a single character, A.  In fact, whenever Python needs to print a byte value, it checks to see whether the value is printable in the ASCII encoding.  If it is, Python displays the ASCII representation instead of hexadecimal, making the output a bit easier to read.  You should remember though, that the 'A' in this output refers to an actual byte value in memory (\\x41 in hexadecimal notation).\n",
    "\n",
    "When encoding to a scheme that is not UTF-8, you need to make sure that the characters in your string are available in that particular encoding.  If an encoding doesn't assign a sequence of bytes to a given character, you will get an error."
   ]
  },
  {
   "cell_type": "code",
   "execution_count": 31,
   "metadata": {
    "collapsed": false
   },
   "outputs": [
    {
     "ename": "UnicodeEncodeError",
     "evalue": "'ascii' codec can't encode character '\\u2603' in position 0: ordinal not in range(128)",
     "output_type": "error",
     "traceback": [
      "\u001b[0;31m---------------------------------------------------------------------------\u001b[0m",
      "\u001b[0;31mUnicodeEncodeError\u001b[0m                        Traceback (most recent call last)",
      "\u001b[0;32m<ipython-input-31-6db8e648bc54>\u001b[0m in \u001b[0;36m<module>\u001b[0;34m()\u001b[0m\n\u001b[1;32m      1\u001b[0m \u001b[0msnowman_char\u001b[0m \u001b[0;34m=\u001b[0m \u001b[0;34m'\\u2603'\u001b[0m\u001b[0;34m\u001b[0m\u001b[0m\n\u001b[0;32m----> 2\u001b[0;31m \u001b[0mprint\u001b[0m\u001b[0;34m(\u001b[0m\u001b[0msnowman_char\u001b[0m\u001b[0;34m.\u001b[0m\u001b[0mencode\u001b[0m\u001b[0;34m(\u001b[0m\u001b[0;34m'ascii'\u001b[0m\u001b[0;34m)\u001b[0m\u001b[0;34m)\u001b[0m\u001b[0;34m\u001b[0m\u001b[0m\n\u001b[0m",
      "\u001b[0;31mUnicodeEncodeError\u001b[0m: 'ascii' codec can't encode character '\\u2603' in position 0: ordinal not in range(128)"
     ]
    }
   ],
   "source": [
    "snowman_char = '\\u2603'\n",
    "print(snowman_char.encode('ascii'))"
   ]
  },
  {
   "cell_type": "markdown",
   "metadata": {},
   "source": [
    "The snowman_char could not be properly encoded because the ASCII encoding does not contain emoji's. "
   ]
  },
  {
   "cell_type": "markdown",
   "metadata": {},
   "source": [
    "##Handling Encoding Errors"
   ]
  },
  {
   "cell_type": "markdown",
   "metadata": {},
   "source": [
    "Sometimes you want a more elegant way to handle encoding errors; Python provides several options you can use."
   ]
  },
  {
   "cell_type": "markdown",
   "metadata": {},
   "source": [
    "###Ignore all characters that are not part of the encoding"
   ]
  },
  {
   "cell_type": "markdown",
   "metadata": {},
   "source": [
    "Python can simply ignore all of characters that do not have a representation in the specified encoding. It will simply not include those characters in the transformed output:"
   ]
  },
  {
   "cell_type": "code",
   "execution_count": 32,
   "metadata": {
    "collapsed": false
   },
   "outputs": [
    {
     "data": {
      "text/plain": [
       "b''"
      ]
     },
     "execution_count": 32,
     "metadata": {},
     "output_type": "execute_result"
    }
   ],
   "source": [
    "snowman_char.encode('ascii', 'ignore')"
   ]
  },
  {
   "cell_type": "markdown",
   "metadata": {},
   "source": [
    "###Replace all characters not part of the encoding with a \"?\""
   ]
  },
  {
   "cell_type": "markdown",
   "metadata": {},
   "source": [
    "You can also add a \"?\" everytime the string contains a character that the encoding cannot replace:"
   ]
  },
  {
   "cell_type": "code",
   "execution_count": 33,
   "metadata": {
    "collapsed": false
   },
   "outputs": [
    {
     "data": {
      "text/plain": [
       "b'?'"
      ]
     },
     "execution_count": 33,
     "metadata": {},
     "output_type": "execute_result"
    }
   ],
   "source": [
    "snowman_char.encode('ascii', 'replace')"
   ]
  },
  {
   "cell_type": "markdown",
   "metadata": {},
   "source": [
    "###Escape all characters not part of the encoding"
   ]
  },
  {
   "cell_type": "markdown",
   "metadata": {},
   "source": [
    "When a unicode character isn't represented by an encoding, such as ASCII, you might want to replace it with the backslash escape character, following by the unicode representation. This representation can be understood by some systems."
   ]
  },
  {
   "cell_type": "code",
   "execution_count": 34,
   "metadata": {
    "collapsed": false
   },
   "outputs": [
    {
     "data": {
      "text/plain": [
       "b'\\\\u2603'"
      ]
     },
     "execution_count": 34,
     "metadata": {},
     "output_type": "execute_result"
    }
   ],
   "source": [
    "snowman_char.encode('ascii', 'backslashreplace')"
   ]
  },
  {
   "cell_type": "markdown",
   "metadata": {},
   "source": [
    "###Produce an XML friendly string"
   ]
  },
  {
   "cell_type": "markdown",
   "metadata": {},
   "source": [
    "You can also produce an XML friendly version of the string. This will be interpreted correctly by most web browsers."
   ]
  },
  {
   "cell_type": "code",
   "execution_count": 35,
   "metadata": {
    "collapsed": false
   },
   "outputs": [
    {
     "data": {
      "text/plain": [
       "b'&#9731;'"
      ]
     },
     "execution_count": 35,
     "metadata": {},
     "output_type": "execute_result"
    }
   ],
   "source": [
    "snowman_char.encode('ascii', 'xmlcharrefreplace')"
   ]
  },
  {
   "cell_type": "markdown",
   "metadata": {},
   "source": [
    "##Decoding"
   ]
  },
  {
   "cell_type": "markdown",
   "metadata": {},
   "source": [
    "Just as we want to be able to send data to external applications accurately, we also want to be able to grab data from external sources without errors. We do this by decoding the data. It is important that we know what encoding was used to encode the data or we may not be able to properly decode the string."
   ]
  },
  {
   "cell_type": "markdown",
   "metadata": {},
   "source": [
    "As an example, let's encode another message that includes our snowman character:"
   ]
  },
  {
   "cell_type": "code",
   "execution_count": 36,
   "metadata": {
    "collapsed": false
   },
   "outputs": [
    {
     "name": "stdout",
     "output_type": "stream",
     "text": [
      "Can't wait for the snow to come, going to make my first snowman ☃☃!\n"
     ]
    },
    {
     "data": {
      "text/plain": [
       "str"
      ]
     },
     "execution_count": 36,
     "metadata": {},
     "output_type": "execute_result"
    }
   ],
   "source": [
    "my_msg = \"Can't wait for the snow to come, going to make my first snowman \\u2603\\u2603!\"\n",
    "print(my_msg)\n",
    "type(my_msg)"
   ]
  },
  {
   "cell_type": "markdown",
   "metadata": {},
   "source": [
    "We will encode this message in UTF-8, which will convert the string into a sequence of bytes:"
   ]
  },
  {
   "cell_type": "code",
   "execution_count": 37,
   "metadata": {
    "collapsed": false
   },
   "outputs": [
    {
     "name": "stdout",
     "output_type": "stream",
     "text": [
      "b\"Can't wait for the snow to come, going to make my first snowman \\xe2\\x98\\x83\\xe2\\x98\\x83!\"\n"
     ]
    },
    {
     "data": {
      "text/plain": [
       "bytes"
      ]
     },
     "execution_count": 37,
     "metadata": {},
     "output_type": "execute_result"
    }
   ],
   "source": [
    "my_msg_bytes = my_msg.encode('utf-8')\n",
    "print(my_msg_bytes)\n",
    "type(my_msg_bytes)"
   ]
  },
  {
   "cell_type": "markdown",
   "metadata": {},
   "source": [
    "Notice again that only the snowman emoji's are printed in raw byte format. The other bytes are conveniently displayed in ASCII format, since they correspond to printable ASCII characters."
   ]
  },
  {
   "cell_type": "markdown",
   "metadata": {},
   "source": [
    "Now let's imagine that the bytes object my_msg_bytes is actually data that we received from an external application. We would like to decode it back to a string variable.  We can do that using the decode method:"
   ]
  },
  {
   "cell_type": "code",
   "execution_count": 38,
   "metadata": {
    "collapsed": false
   },
   "outputs": [
    {
     "name": "stdout",
     "output_type": "stream",
     "text": [
      "Can't wait for the snow to come, going to make my first snowman ☃☃!\n"
     ]
    },
    {
     "data": {
      "text/plain": [
       "str"
      ]
     },
     "execution_count": 38,
     "metadata": {},
     "output_type": "execute_result"
    }
   ],
   "source": [
    "my_msg_decoded = my_msg_bytes.decode('utf-8')\n",
    "print(my_msg_decoded)\n",
    "type(my_msg_decoded)"
   ]
  },
  {
   "cell_type": "markdown",
   "metadata": {},
   "source": [
    "As expected, we get our original string with no errors."
   ]
  },
  {
   "cell_type": "markdown",
   "metadata": {},
   "source": [
    "Of course, if we were to use another encoding to decode our data, errors would result."
   ]
  },
  {
   "cell_type": "code",
   "execution_count": 40,
   "metadata": {
    "collapsed": false
   },
   "outputs": [
    {
     "name": "stdout",
     "output_type": "stream",
     "text": [
      "Can't wait for the snow to come, going to make my first snowman ââ!\n"
     ]
    }
   ],
   "source": [
    "my_msg_decoded_wrong = my_msg_bytes.decode('latin-1')\n",
    "print(my_msg_decoded_wrong)"
   ]
  },
  {
   "cell_type": "code",
   "execution_count": 22,
   "metadata": {
    "collapsed": false
   },
   "outputs": [
    {
     "ename": "UnicodeDecodeError",
     "evalue": "'ascii' codec can't decode byte 0xe2 in position 64: ordinal not in range(128)",
     "output_type": "error",
     "traceback": [
      "\u001b[0;31m---------------------------------------------------------------------------\u001b[0m",
      "\u001b[0;31mUnicodeDecodeError\u001b[0m                        Traceback (most recent call last)",
      "\u001b[0;32m<ipython-input-22-c3a46497916e>\u001b[0m in \u001b[0;36m<module>\u001b[0;34m()\u001b[0m\n\u001b[0;32m----> 1\u001b[0;31m \u001b[0mmy_msg_decoded_wrong\u001b[0m \u001b[0;34m=\u001b[0m \u001b[0mmy_msg_bytes\u001b[0m\u001b[0;34m.\u001b[0m\u001b[0mdecode\u001b[0m\u001b[0;34m(\u001b[0m\u001b[0;34m'ascii'\u001b[0m\u001b[0;34m)\u001b[0m\u001b[0;34m\u001b[0m\u001b[0m\n\u001b[0m",
      "\u001b[0;31mUnicodeDecodeError\u001b[0m: 'ascii' codec can't decode byte 0xe2 in position 64: ordinal not in range(128)"
     ]
    }
   ],
   "source": [
    "my_msg_decoded_wrong = my_msg_bytes.decode('ascii')"
   ]
  },
  {
   "cell_type": "markdown",
   "metadata": {},
   "source": [
    "Remember to use utf-8 when possible. It is the closest thing we have to a global encoding standard.\n",
    "\n",
    "Here's more [history on encoding](http://www.joelonsoftware.com/articles/Unicode.html) if you are interested.\n",
    "\n",
    "At this point, you know the basics of encoding and decoding, so you can send and grab information from external applications. In the next section, we'll consider techniques for creating well-formatted strings from our variables."
   ]
  }
 ],
 "metadata": {
  "kernelspec": {
   "display_name": "Python 3",
   "language": "python",
   "name": "python3"
  },
  "language_info": {
   "codemirror_mode": {
    "name": "ipython",
    "version": 3
   },
   "file_extension": ".py",
   "mimetype": "text/x-python",
   "name": "python",
   "nbconvert_exporter": "python",
   "pygments_lexer": "ipython3",
   "version": "3.4.3"
  }
 },
 "nbformat": 4,
 "nbformat_minor": 0
}
