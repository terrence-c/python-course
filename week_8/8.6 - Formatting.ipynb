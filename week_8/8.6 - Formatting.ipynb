{
 "cells": [
  {
   "cell_type": "markdown",
   "metadata": {},
   "source": [
    "#Mangle Data Like A Pro"
   ]
  },
  {
   "cell_type": "markdown",
   "metadata": {},
   "source": [
    "##Output formating in Python 2 and 3"
   ]
  },
  {
   "cell_type": "markdown",
   "metadata": {},
   "source": [
    "By this point, we've seen that the print statement is an extremely useful tool for displaying the values of our variables. We often print out variables along with a string using the string concatenation method as in this example:"
   ]
  },
  {
   "cell_type": "code",
   "execution_count": 1,
   "metadata": {
    "collapsed": false
   },
   "outputs": [
    {
     "name": "stdout",
     "output_type": "stream",
     "text": [
      "Today is now Sunday\n"
     ]
    }
   ],
   "source": [
    "import datetime\n",
    "today = datetime.datetime.now().strftime(\"%A\")\n",
    "\n",
    "print(\"Today is now \" + today)"
   ]
  },
  {
   "cell_type": "markdown",
   "metadata": {},
   "source": [
    "While string concatenation is useful in situations like this, Python has tools that give us a lot more flexibility in displaying output. Python allows us to specify precision for floating point variables, alignment for strings, and whether integers should be displayed in decimal, hexadecimal, or octal notation. \n",
    "\n",
    "There are two ways of doing this, referred to as the old style and the new style. The old style is available in both Python 2 and 3 but we encourage you to use the new style that is available only in Python 3. We will teach both because you may run into both styles in the future."
   ]
  },
  {
   "cell_type": "markdown",
   "metadata": {},
   "source": [
    "##Old Style with %"
   ]
  },
  {
   "cell_type": "markdown",
   "metadata": {},
   "source": [
    "The old style of string formatting used the % symbol and the order of parameters to designate where a variable should be placed within the new string. \n",
    "\n",
    "Let's say we have a list of students and their grades:\n",
    "\n",
    "| Name           | Email             | Midterm | Final | Grade |\n",
    "|----------------|-------------------|---------|-------|-------------|\n",
    "| Max Powers     | max@gmail.com     | 87.76   | 88.65 | B+          |\n",
    "| Julie Thompson | julie@outlook.com | 93.43   | 90.45 | A-          |\n",
    "| Amber Francis  | amber@gmail.com   | 85.23   | 97.54 | A-          |\n",
    "| Andrew Smith   | andrew@yahoo.com  | 87.43   | 80.32 | B           |"
   ]
  },
  {
   "cell_type": "markdown",
   "metadata": {},
   "source": [
    "We could store that information in a list of dictionaries:"
   ]
  },
  {
   "cell_type": "code",
   "execution_count": 2,
   "metadata": {
    "collapsed": true
   },
   "outputs": [],
   "source": [
    "students = []\n",
    "students.append({\"name\":\"Max Powers\", \"email\":\"max@gmail.com\", \"midterm\": 87.76, \"final\":88.65, \"grade\":\"B+\"})\n",
    "students.append({\"name\":\"Julie Thompson\", \"email\":\"julie@outlook.com\", \"midterm\": 93.43, \"final\":90.45, \"grade\":\"A-\"})\n",
    "students.append({\"name\":\"Amber Francis\", \"email\":\"amber@gmail.com\", \"midterm\": 85.23, \"final\":97.54, \"grade\":\"A-\"})\n",
    "students.append({\"name\":\"Andrew Smith\", \"email\":\"andrew@yahoo.com\", \"midterm\": 87.43, \"final\":80.32, \"grade\":\"B\"})"
   ]
  },
  {
   "cell_type": "markdown",
   "metadata": {},
   "source": [
    "Using the old style, this is how we might print the data of this table to the screen:"
   ]
  },
  {
   "cell_type": "code",
   "execution_count": 3,
   "metadata": {
    "collapsed": false
   },
   "outputs": [
    {
     "name": "stdout",
     "output_type": "stream",
     "text": [
      "Max Powers           max@gmail.com        88    89    B+   \n",
      "Julie Thompson       julie@outlook.com    93    90    A-   \n",
      "Amber Francis        amber@gmail.com      85    98    A-   \n",
      "Andrew Smith         andrew@yahoo.com     87    80    B    \n"
     ]
    }
   ],
   "source": [
    "for student in students:\n",
    "    student_data = (\"%-20s %-20s %-5.0f %-5.0f %-5s\" % \n",
    "          (student[\"name\"], \n",
    "           student[\"email\"], \n",
    "           student[\"midterm\"], \n",
    "           student[\"final\"], \n",
    "           student[\"grade\"])) \n",
    "    print(student_data)"
   ]
  },
  {
   "cell_type": "markdown",
   "metadata": {},
   "source": [
    "Lets break down this print statement one piece at a time.\n",
    "\n",
    "First, we'll begin without all the formatting instructions.  Here's a simplified way to insert variable values into a string."
   ]
  },
  {
   "cell_type": "code",
   "execution_count": 4,
   "metadata": {
    "collapsed": false
   },
   "outputs": [
    {
     "name": "stdout",
     "output_type": "stream",
     "text": [
      "Max Powers max@gmail.com 87.760000 88.650000 B+\n",
      "Julie Thompson julie@outlook.com 93.430000 90.450000 A-\n",
      "Amber Francis amber@gmail.com 85.230000 97.540000 A-\n",
      "Andrew Smith andrew@yahoo.com 87.430000 80.320000 B\n"
     ]
    }
   ],
   "source": [
    "for student in students:\n",
    "    student_data = (\"%s %s %f %f %s\" % \n",
    "          (student[\"name\"], \n",
    "           student[\"email\"], \n",
    "           student[\"midterm\"], \n",
    "           student[\"final\"], \n",
    "           student[\"grade\"])) \n",
    "    print(student_data)"
   ]
  },
  {
   "cell_type": "markdown",
   "metadata": {},
   "source": [
    "What is happening here is that we have a single string that contains five place holders `(\"%s %s %f %f %s\")`.  Each placeholder specifies a different format for displaying a Python object.\n",
    "\n",
    "These formats are listed below:\n",
    "\n",
    "- %s: string\n",
    "- %d: decimal integer\n",
    "- %x: hex integer\n",
    "- %o: octal integer\n",
    "- %f: decimal float\n",
    "- %e: exponential float\n",
    "- %g: decimal or exponential float\n",
    "\n",
    "After the string, we include the percent operator.  This is followed by a sequence of objects to be used in replacing the placeholders in the string. In our example, the following occurs:\n",
    "\n",
    "- The first %s is subsituted for `str(student[\"name\"])`\n",
    "- The second %s is subsituted for `str(student[\"email\"])`\n",
    "- The first %f is subsituted for `float(student[\"midterm\"])`\n",
    "- The second %f is subsituted for `float(student[\"final\"])`\n",
    "- The third %s is subsituted for `str(student[\"grade\"])`"
   ]
  },
  {
   "cell_type": "markdown",
   "metadata": {},
   "source": [
    "Now that we're successfully inserting values into our string, we can start to include more formatting options:"
   ]
  },
  {
   "cell_type": "code",
   "execution_count": 5,
   "metadata": {
    "collapsed": false
   },
   "outputs": [
    {
     "name": "stdout",
     "output_type": "stream",
     "text": [
      "          Max Powers        max@gmail.com  87.760000  88.650000    B+\n",
      "      Julie Thompson    julie@outlook.com  93.430000  90.450000    A-\n",
      "       Amber Francis      amber@gmail.com  85.230000  97.540000    A-\n",
      "        Andrew Smith     andrew@yahoo.com  87.430000  80.320000     B\n"
     ]
    }
   ],
   "source": [
    "for student in students:\n",
    "    student_data = (\"%20s %20s %10f %10f %5s\" % \n",
    "          (student[\"name\"], \n",
    "           student[\"email\"], \n",
    "           student[\"midterm\"], \n",
    "           student[\"final\"], \n",
    "           student[\"grade\"]))\n",
    "    print(student_data)"
   ]
  },
  {
   "cell_type": "markdown",
   "metadata": {},
   "source": [
    "In this example, we specify a minimum width for each of the columns: 20 for the name and email column, 10 for the midterm and final, and 5 for the final grade. By default, each columns is right justified. We can left align the columns by using a negative symbol:"
   ]
  },
  {
   "cell_type": "code",
   "execution_count": 6,
   "metadata": {
    "collapsed": false
   },
   "outputs": [
    {
     "name": "stdout",
     "output_type": "stream",
     "text": [
      "Max Powers           max@gmail.com        87.760000  88.650000  B+   \n",
      "Julie Thompson       julie@outlook.com    93.430000  90.450000  A-   \n",
      "Amber Francis        amber@gmail.com      85.230000  97.540000  A-   \n",
      "Andrew Smith         andrew@yahoo.com     87.430000  80.320000  B    \n"
     ]
    }
   ],
   "source": [
    "for student in students:\n",
    "    student_data = (\"%-20s %-20s %-10f %-10f %-5s\" % \n",
    "          (student[\"name\"], \n",
    "           student[\"email\"], \n",
    "           student[\"midterm\"], \n",
    "           student[\"final\"], \n",
    "           student[\"grade\"]))\n",
    "    print(student_data)"
   ]
  },
  {
   "cell_type": "markdown",
   "metadata": {},
   "source": [
    "For floating point numbers, we can specify the number of digits we want printed after the decimal point.  In the case of our midterm and grade columns, we might want zero such digits."
   ]
  },
  {
   "cell_type": "code",
   "execution_count": 7,
   "metadata": {
    "collapsed": false
   },
   "outputs": [
    {
     "name": "stdout",
     "output_type": "stream",
     "text": [
      "Max Powers           max@gmail.com        88    89    B+   \n",
      "Julie Thompson       julie@outlook.com    93    90    A-   \n",
      "Amber Francis        amber@gmail.com      85    98    A-   \n",
      "Andrew Smith         andrew@yahoo.com     87    80    B    \n"
     ]
    }
   ],
   "source": [
    "for student in students:\n",
    "    student_data = (\"%-20s %-20s %-5.0f %-5.0f %-5s\" % \n",
    "          (student[\"name\"], \n",
    "           student[\"email\"], \n",
    "           student[\"midterm\"], \n",
    "           student[\"final\"], \n",
    "           student[\"grade\"]))\n",
    "    print(student_data)"
   ]
  },
  {
   "cell_type": "markdown",
   "metadata": {},
   "source": [
    "By adding the \".0\" to the midterm and final columns we were able to print out the float with no decimal points. Note that each number was rounded instead of truncated."
   ]
  },
  {
   "cell_type": "markdown",
   "metadata": {},
   "source": [
    "##New Style with {} and format"
   ]
  },
  {
   "cell_type": "markdown",
   "metadata": {},
   "source": [
    "The new style is available in Python 3 and is the recommended way of formatting string output. Here is how we might use the new style to display our student data:"
   ]
  },
  {
   "cell_type": "code",
   "execution_count": 8,
   "metadata": {
    "collapsed": false
   },
   "outputs": [
    {
     "name": "stdout",
     "output_type": "stream",
     "text": [
      "Max Powers           max@gmail.com        88    89    B+   \n",
      "Julie Thompson       julie@outlook.com    93    90    A-   \n",
      "Amber Francis        amber@gmail.com      85    98    A-   \n",
      "Andrew Smith         andrew@yahoo.com     87    80    B    \n"
     ]
    }
   ],
   "source": [
    "for student in students:\n",
    "    student_data = \"{name:<20s} {email:<20s} {midterm:<5.0f} {final:<5.0f} {grade:<5s}\".format(\n",
    "        name=student[\"name\"], \n",
    "        email=student[\"email\"], \n",
    "        midterm=student[\"midterm\"], \n",
    "        final=student[\"final\"], \n",
    "        grade=student[\"grade\"])\n",
    "    print(student_data)"
   ]
  },
  {
   "cell_type": "markdown",
   "metadata": {},
   "source": [
    "As you can see, the new syntax uses brackets instead of using percent signs.  Once again, let's break this code down, starting with minimal formatting options.\n",
    "\n",
    "To begin with, we don't even have to specify data types:"
   ]
  },
  {
   "cell_type": "code",
   "execution_count": 9,
   "metadata": {
    "collapsed": false
   },
   "outputs": [
    {
     "name": "stdout",
     "output_type": "stream",
     "text": [
      "Max Powers max@gmail.com 87.76 88.65 B+\n",
      "Julie Thompson julie@outlook.com 93.43 90.45 A-\n",
      "Amber Francis amber@gmail.com 85.23 97.54 A-\n",
      "Andrew Smith andrew@yahoo.com 87.43 80.32 B\n"
     ]
    }
   ],
   "source": [
    "for student in students:\n",
    "    student_data = \"{} {} {} {} {}\".format(\n",
    "        student[\"name\"], \n",
    "        student[\"email\"], \n",
    "        student[\"midterm\"], \n",
    "        student[\"final\"], \n",
    "        student[\"grade\"])\n",
    "    print(student_data)"
   ]
  },
  {
   "cell_type": "markdown",
   "metadata": {},
   "source": [
    "With the new style, you can include a custom name inside each placeholder, so that you do not have to worry about the order of the parameters."
   ]
  },
  {
   "cell_type": "code",
   "execution_count": 10,
   "metadata": {
    "collapsed": false
   },
   "outputs": [
    {
     "name": "stdout",
     "output_type": "stream",
     "text": [
      "Max Powers max@gmail.com 87.76 88.65 B+\n",
      "Julie Thompson julie@outlook.com 93.43 90.45 A-\n",
      "Amber Francis amber@gmail.com 85.23 97.54 A-\n",
      "Andrew Smith andrew@yahoo.com 87.43 80.32 B\n"
     ]
    }
   ],
   "source": [
    "for student in students:\n",
    "    student_data = \"{name} {email} {midterm} {final} {grade}\".format(\n",
    "        grade=student[\"grade\"],\n",
    "        name=student[\"name\"], \n",
    "        email=student[\"email\"], \n",
    "        final=student[\"final\"], \n",
    "        midterm=student[\"midterm\"])\n",
    "    print(student_data)"
   ]
  },
  {
   "cell_type": "markdown",
   "metadata": {},
   "source": [
    "Now each variable is clearly specified in the string using a name, like \"grade\" or \"email\". In many cases this can improve readability and make it easier to find which placeholder corresponds to which variable."
   ]
  },
  {
   "cell_type": "markdown",
   "metadata": {},
   "source": [
    "We can also specify data types in the new style.  The letter corresponding to a format goes after a colon after the name of the placeholder:"
   ]
  },
  {
   "cell_type": "code",
   "execution_count": 11,
   "metadata": {
    "collapsed": false
   },
   "outputs": [
    {
     "name": "stdout",
     "output_type": "stream",
     "text": [
      "Max Powers max@gmail.com 87.760000 88.650000 B+\n",
      "Julie Thompson julie@outlook.com 93.430000 90.450000 A-\n",
      "Amber Francis amber@gmail.com 85.230000 97.540000 A-\n",
      "Andrew Smith andrew@yahoo.com 87.430000 80.320000 B\n"
     ]
    }
   ],
   "source": [
    "for student in students:\n",
    "    student_data = \"{name:s} {email:s} {midterm:f} {final:f} {grade:s}\".format(\n",
    "        name=student[\"name\"], \n",
    "        email=student[\"email\"], \n",
    "        midterm=student[\"midterm\"], \n",
    "        final=student[\"final\"], \n",
    "        grade=student[\"grade\"])\n",
    "    print(student_data)"
   ]
  },
  {
   "cell_type": "markdown",
   "metadata": {},
   "source": [
    "As before, we can specify a minimum width, the left alignment (using the \"<\" operator), as well as precision for floats:"
   ]
  },
  {
   "cell_type": "code",
   "execution_count": 12,
   "metadata": {
    "collapsed": false
   },
   "outputs": [
    {
     "name": "stdout",
     "output_type": "stream",
     "text": [
      "Max Powers           max@gmail.com        88    89    B+   \n",
      "Julie Thompson       julie@outlook.com    93    90    A-   \n",
      "Amber Francis        amber@gmail.com      85    98    A-   \n",
      "Andrew Smith         andrew@yahoo.com     87    80    B    \n"
     ]
    }
   ],
   "source": [
    "for student in students:\n",
    "    student_data = \"{name:<20s} {email:<20s} {midterm:<5.0f} {final:<5.0f} {grade:<5s}\".format(\n",
    "        name=student[\"name\"], \n",
    "        email=student[\"email\"], \n",
    "        midterm=student[\"midterm\"], \n",
    "        final=student[\"final\"], \n",
    "        grade=student[\"grade\"])\n",
    "    print(student_data)"
   ]
  },
  {
   "cell_type": "markdown",
   "metadata": {},
   "source": [
    "There are a few other options that are worth exploring: check the [Python 3 docs](https://docs.python.org/3/library/string.html#format-string-syntax) for more information."
   ]
  }
 ],
 "metadata": {
  "kernelspec": {
   "display_name": "Python 3",
   "language": "python",
   "name": "python3"
  },
  "language_info": {
   "codemirror_mode": {
    "name": "ipython",
    "version": 3
   },
   "file_extension": ".py",
   "mimetype": "text/x-python",
   "name": "python",
   "nbconvert_exporter": "python",
   "pygments_lexer": "ipython3",
   "version": "3.4.3"
  }
 },
 "nbformat": 4,
 "nbformat_minor": 0
}
