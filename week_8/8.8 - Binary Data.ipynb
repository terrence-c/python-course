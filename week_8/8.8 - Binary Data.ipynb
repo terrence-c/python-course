{
 "cells": [
  {
   "cell_type": "markdown",
   "metadata": {},
   "source": [
    "# Mangle Data Like A Pro"
   ]
  },
  {
   "cell_type": "markdown",
   "metadata": {},
   "source": [
    "## Binary Data"
   ]
  },
  {
   "cell_type": "markdown",
   "metadata": {},
   "source": [
    "We have discussed several ways to manipulate and search text data, but not all data comes in the form of text.  There is an entire world of data that isn't organized into characters, ranging from images, to sound recordings, to compressed files.  When data can't be understood as text, we refer to it as binary data.  To manipulate binary data, we have to work at the level of individual bytes."
   ]
  },
  {
   "cell_type": "markdown",
   "metadata": {},
   "source": [
    "## bytes and bytearray"
   ]
  },
  {
   "cell_type": "markdown",
   "metadata": {},
   "source": [
    "Python 3 introduced two data types that can handle sequences of bytes:\n",
    "\n",
    "- `bytes` is immutable, like a tuple\n",
    "- `bytearray` is mutable, like a list of bytes\n",
    "\n",
    "We will often interpret the sequence of one's and zero's in a byte as a binary number.  Converted to base 10, this means that a byte corresponds to a number between 0 and 255.  For example, the byte 00000101 is given the number 5, while 10000000 is given the number 128.  This is not to suggest that any given byte is meant to represent a number - the data in a byte could be used to represent many different things.  The base 10 representation just gives us a friendly way to write down what data is contained in a byte.  There is one base 10 integer for each of the 256 possible sequences of one's and zero's in a byte.\n",
    "\n",
    "We can use the base 10 notation to create bytes in Python:"
   ]
  },
  {
   "cell_type": "code",
   "execution_count": 1,
   "metadata": {
    "collapsed": false
   },
   "outputs": [
    {
     "name": "stdout",
     "output_type": "stream",
     "text": [
      "b'\\x04\\x03\\xf2'\n"
     ]
    }
   ],
   "source": [
    "byte_value_list = [4, 3, 242]\n",
    "bytes_test = bytes(byte_value_list)\n",
    "print(bytes_test)"
   ]
  },
  {
   "cell_type": "markdown",
   "metadata": {},
   "source": [
    "Notice that when our bytes object is printed back out, each byte is represented in hexadecimal notation.  The '\\x' characters mean that the following characters should be understood using base 16.  \n",
    "\n",
    "To convert from base 16 to base 10, remember that 'a' represents the number 10, 'b' represents 11, and so on.  We have to multiply the first digit by 16 and add it to the second digit.  For example, 'f' represents 15, so the hexadecimal number '\\xf2' can be coverted to base 10 as follows:\n",
    "\n",
    "15 * 16 + 2 = 242\n",
    "\n",
    "Let's see what happens if we try to change a byte in our bytes object."
   ]
  },
  {
   "cell_type": "code",
   "execution_count": 4,
   "metadata": {
    "collapsed": false
   },
   "outputs": [
    {
     "ename": "TypeError",
     "evalue": "'bytes' object does not support item assignment",
     "output_type": "error",
     "traceback": [
      "\u001b[0;31m---------------------------------------------------------------------------\u001b[0m",
      "\u001b[0;31mTypeError\u001b[0m                                 Traceback (most recent call last)",
      "\u001b[0;32m<ipython-input-4-03bb1292a04c>\u001b[0m in \u001b[0;36m<module>\u001b[0;34m()\u001b[0m\n\u001b[0;32m----> 1\u001b[0;31m \u001b[0mbytes_test\u001b[0m\u001b[0;34m[\u001b[0m\u001b[0;36m1\u001b[0m\u001b[0;34m]\u001b[0m \u001b[0;34m=\u001b[0m \u001b[0;36m129\u001b[0m\u001b[0;34m\u001b[0m\u001b[0m\n\u001b[0m\u001b[1;32m      2\u001b[0m \u001b[0mprint\u001b[0m\u001b[0;34m(\u001b[0m\u001b[0mbytes_test\u001b[0m\u001b[0;34m)\u001b[0m\u001b[0;34m\u001b[0m\u001b[0m\n",
      "\u001b[0;31mTypeError\u001b[0m: 'bytes' object does not support item assignment"
     ]
    }
   ],
   "source": [
    "bytes_test[1] = 129\n",
    "print(bytes_test)"
   ]
  },
  {
   "cell_type": "code",
   "execution_count": 5,
   "metadata": {
    "collapsed": false
   },
   "outputs": [
    {
     "name": "stdout",
     "output_type": "stream",
     "text": [
      "bytearray(b'\\x04\\x03\\xf2')\n"
     ]
    }
   ],
   "source": [
    "bytearray_test = bytearray(byte_value_list)\n",
    "print(bytearray_test)"
   ]
  },
  {
   "cell_type": "code",
   "execution_count": 6,
   "metadata": {
    "collapsed": false
   },
   "outputs": [
    {
     "name": "stdout",
     "output_type": "stream",
     "text": [
      "bytearray(b'\\x04\\x7f\\xf2')\n"
     ]
    }
   ],
   "source": [
    "bytearray_test[1] = 127\n",
    "print(bytearray_test)"
   ]
  },
  {
   "cell_type": "markdown",
   "metadata": {},
   "source": [
    "Note that the bytes in bytes_test cannot be changed but those in bytearray can.  \n",
    "\n",
    "Up to this point, all bytes have been displayed in hexadecimal format.  Most byte values are printed this way, but if a byte value is printable using the ASCII encoding, then the ASCII letter will be printed instead:"
   ]
  },
  {
   "cell_type": "code",
   "execution_count": 7,
   "metadata": {
    "collapsed": false
   },
   "outputs": [
    {
     "name": "stdout",
     "output_type": "stream",
     "text": [
      "bytearray(b'\\x04\\x7fD')\n"
     ]
    }
   ],
   "source": [
    "bytearray_test[2] = 68\n",
    "print(bytearray_test)"
   ]
  },
  {
   "cell_type": "markdown",
   "metadata": {},
   "source": [
    "The ASCII number for the letter \"D\" is 68 in decimal, so \"D\" was printed to the screen instead of /x44 (base 16)"
   ]
  },
  {
   "cell_type": "markdown",
   "metadata": {},
   "source": [
    "## Convert Binary Data with struct"
   ]
  },
  {
   "cell_type": "markdown",
   "metadata": {},
   "source": [
    "Most data scientists will never need to work with data at the level of individual bits.  Byte manipulation is a low-level and challenging area of computer science.  Fortunately, Python has tools to help you deal with many common binary file types.  They can help you convert binary data into Python data structures and python data structures back into binary data."
   ]
  },
  {
   "cell_type": "markdown",
   "metadata": {},
   "source": [
    "Bill Lubanovic provides an example of using python to detect whether an image is a png, a popular format for storing images. We are going to check if the file cal-image.png that is in the curent folder is a png.  If it is, we'll print out the width and the height from the information contained in the file itself:"
   ]
  },
  {
   "cell_type": "code",
   "execution_count": 8,
   "metadata": {
    "collapsed": false
   },
   "outputs": [
    {
     "name": "stdout",
     "output_type": "stream",
     "text": [
      " Valid PNG, width 500 height 398\n"
     ]
    }
   ],
   "source": [
    "import struct\n",
    "\n",
    "f = open(\"cal-image.png\", \"rb\")\n",
    "try:\n",
    "    data = f.read(24)\n",
    "finally:\n",
    "    f.close()\n",
    "    \n",
    "png_header = b'\\x89PNG\\r\\n\\x1a\\n'\n",
    "        \n",
    "if data[0:8] == png_header:\n",
    "    width, height = struct.unpack('>LL', data[16:24])\n",
    "    print(' Valid PNG, width', width, 'height', height)\n",
    "else:\n",
    "    print('Not a valid PNG')"
   ]
  },
  {
   "cell_type": "markdown",
   "metadata": {},
   "source": [
    "In this example, our first step is to open the file \"cal-image.png\" in read only binary format and read the first 24 bytes in that file. We'll talk more about reading from files in the next section.\n",
    "\n",
    "We next test to see if our file is in png format.  Fortunately for us, every png file begins with the same sequence of 8 bytes, known as a header.  This sequence of bytes is stored in the png_header variable, and we use an if statement to see if it matches the beginning of our file.\n",
    "\n",
    "If the file header matches, we then inspect the 16 - 24 bytes, which we know represent the width and height of the image.  This is done with the struct.unpack function.  The parameter '>LL' is a format string, explaining what type of data we're expecting (In this case, it specifies two integers in big endian style, meaning that the most significant bytes are to the left as opposed to to the right if we read each byte as a stream. We have to deal with this because each integer is represented by four bytes).\n",
    "\n",
    "Finally, we print the encoded width and height to the screen."
   ]
  },
  {
   "cell_type": "markdown",
   "metadata": {},
   "source": [
    "### Format Specifiers using struct\n",
    "\n",
    "The following symbols are used in a format string to explain different ways that bytes can be understood as data.\n",
    "\n",
    "**Endian specifiers**\n",
    "- **<**: little endian\n",
    "- **\\>**: big endian\n",
    "\n",
    "**Format specifiers**: the number in parenthensies is the number of bytes each format specifier refers to\n",
    "- **x**: skip a byte (1)\n",
    "- **b**: signed byte (1)\n",
    "- **B**: unsigned byte (1)\n",
    "\n",
    "- **h**: signed short integer (2)\n",
    "- **H**: unsigned short integer (2)\n",
    "\n",
    "- **i**: signed integer (4)\n",
    "- **I**: unsigned integer (4)\n",
    "\n",
    "- **l**: signed long integer (4)\n",
    "- **L**: unsigned long integer (4)\n",
    "\n",
    "- **Q**: unsigned long long integer (8)\n",
    "- **f**: single precision float"
   ]
  },
  {
   "cell_type": "markdown",
   "metadata": {},
   "source": [
    "## Other Binary Tools"
   ]
  },
  {
   "cell_type": "markdown",
   "metadata": {},
   "source": [
    "Depending on the type of binary data you're working with, there are other external packages that might make your task easier. Some options are:\n",
    "\n",
    "- [bitstring](https://github.com/scott-griffiths/bitstring)\n",
    "- [construct](http://construct.readthedocs.org/en/latest/)\n",
    "- [hachoir](https://bitbucket.org/haypo/hachoir/wiki/Home)\n",
    "- [binio](http://spika.net/py/binio/)\n",
    "\n",
    "Be sure to use pip to install these packages as so:\n",
    "\n",
    "`pip install construct`"
   ]
  },
  {
   "cell_type": "markdown",
   "metadata": {},
   "source": [
    "## Convert Bytes/Strings with binascii()"
   ]
  },
  {
   "cell_type": "markdown",
   "metadata": {},
   "source": [
    "You can use the standard module binascii to convert binary data to string representations of verious types.\n",
    "\n",
    "Let's say we want to see the pure hexadecimal repsentation of the PNG header:"
   ]
  },
  {
   "cell_type": "code",
   "execution_count": 9,
   "metadata": {
    "collapsed": false
   },
   "outputs": [
    {
     "name": "stdout",
     "output_type": "stream",
     "text": [
      "b'\\x89PNG\\r\\n\\x1a\\n'\n"
     ]
    }
   ],
   "source": [
    "print(png_header)"
   ]
  },
  {
   "cell_type": "code",
   "execution_count": 10,
   "metadata": {
    "collapsed": false
   },
   "outputs": [
    {
     "name": "stdout",
     "output_type": "stream",
     "text": [
      "b'89504e470d0a1a0a'\n"
     ]
    }
   ],
   "source": [
    "import binascii\n",
    "png_header_in_hex = binascii.hexlify(png_header)\n",
    "print(png_header_in_hex)"
   ]
  },
  {
   "cell_type": "code",
   "execution_count": 11,
   "metadata": {
    "collapsed": false
   },
   "outputs": [
    {
     "name": "stdout",
     "output_type": "stream",
     "text": [
      "b'\\x89PNG\\r\\n\\x1a\\n'\n"
     ]
    }
   ],
   "source": [
    "print(binascii.unhexlify(png_header_in_hex))"
   ]
  },
  {
   "cell_type": "markdown",
   "metadata": {},
   "source": [
    "## Bit Operators"
   ]
  },
  {
   "cell_type": "markdown",
   "metadata": {},
   "source": [
    "At the lowest level, you can use Python to manipulate data, one bit at a time.  We won't spend time practicing these bit-level operations, but they have a lot of uses.  For example, you may need to manipulate bits when optimizing a program for high performance.  \n",
    "\n",
    "| Operator | Description  | Example | Decimal result | Binary result                             |\n",
    "|----------|--------------|---------|----------------|-------------------------------------------|\n",
    "| &        | and          | a & b   | 1              | 0b0001                                    |\n",
    "| &#124;        | or           | a &#124; b   | 5              | 0b0101                                    |\n",
    "| ^        | exclusive or | a ^ b   | 4              | 0b0100                                    |\n",
    "| ~        | flip bits    | ~a      | -6             | binary representation depends on int size |\n",
    "| <<       | left shift   | a << 1  | 10             | 0b1010                                    |\n",
    "| >>       | right shift  | a >> 1  | 2              | 0b0010                                    |"
   ]
  },
  {
   "cell_type": "markdown",
   "metadata": {},
   "source": [
    "You now know the basics of manipulating both bytes as well as text in Python.  When you face a difficult coding challenge, remember that are many external packages that could help make your life easier."
   ]
  }
 ],
 "metadata": {
  "kernelspec": {
   "display_name": "Python 3",
   "language": "python",
   "name": "python3"
  },
  "language_info": {
   "codemirror_mode": {
    "name": "ipython",
    "version": 3
   },
   "file_extension": ".py",
   "mimetype": "text/x-python",
   "name": "python",
   "nbconvert_exporter": "python",
   "pygments_lexer": "ipython3",
   "version": "3.4.3"
  }
 },
 "nbformat": 4,
 "nbformat_minor": 0
}
