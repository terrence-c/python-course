{
 "cells": [
  {
   "cell_type": "markdown",
   "metadata": {},
   "source": [
    "# Beyond the Basics of pandas\n",
    "\n",
    "Now that we have covered the basics of pandas and how to manipulate data, let's move on to some different representations of data in pandas. In this section we will analyze financial data that can be readily accessed from within the pandas library."
   ]
  },
  {
   "cell_type": "code",
   "execution_count": 1,
   "metadata": {
    "collapsed": false
   },
   "outputs": [
    {
     "name": "stdout",
     "output_type": "stream",
     "text": [
      "3.4.3 |Anaconda 2.3.0 (x86_64)| (default, Mar  6 2015, 12:07:41) \n",
      "[GCC 4.2.1 (Apple Inc. build 5577)]\n",
      "1.9.2\n",
      "0.16.2\n"
     ]
    }
   ],
   "source": [
    "%matplotlib inline\n",
    "import sys\n",
    "print(sys.version)\n",
    "import numpy as np\n",
    "print(np.__version__)\n",
    "import pandas as pd\n",
    "print(pd.__version__)\n",
    "import matplotlib.pyplot as plt"
   ]
  },
  {
   "cell_type": "markdown",
   "metadata": {},
   "source": [
    "\n",
    "\n",
    "We will leverage the `pandas.io` remote data access as described on this page:\n",
    "\n",
    "http://pandas.pydata.org/pandas-docs/stable/remote_data.html\n",
    "\n",
    "Functions from `pandas.io.data` and `pandas.io.ga` extract data from various Internet sources and make them available in our notebooks. At the time of this writing, the following sources are supported:\n",
    "\n",
    "- Yahoo! Finance\n",
    "- Google Finance\n",
    "- St.Louis FED (FRED)\n",
    "- Kenneth French’s data library\n",
    "- World Bank\n",
    "- Google Analytics\n",
    "\n",
    "This list actively changes so it is a good idea to see what is available to you; it is likely that more useful sources will continue to be added."
   ]
  },
  {
   "cell_type": "markdown",
   "metadata": {},
   "source": [
    "Let's explore the module to see if it gives us any information."
   ]
  },
  {
   "cell_type": "code",
   "execution_count": 2,
   "metadata": {
    "collapsed": false
   },
   "outputs": [],
   "source": [
    "import pandas.io.data\n",
    "?pandas.io.data"
   ]
  },
  {
   "cell_type": "markdown",
   "metadata": {},
   "source": [
    "Our plan is to look at some stocks from Yahoo! data with `pandas.io.data`.  There was a fair amount of volatility in the oil markets in 2014 to 2015. It was rough for oil producers, to say the least. Let's explore some of the stocks that are involved in that specific market.\n",
    "\n",
    "First we will set start and end dates. These are just datetimes. As we review in the next cell, we can create datetimes from the datetime package.  However, we can also use pandas to simply parse a string and pull out a datetime as well. This ends up being extremely useful."
   ]
  },
  {
   "cell_type": "code",
   "execution_count": 4,
   "metadata": {
    "collapsed": false
   },
   "outputs": [
    {
     "name": "stdout",
     "output_type": "stream",
     "text": [
      "2010-01-01 00:00:00\n",
      "2010-01-01 00:00:00\n"
     ]
    }
   ],
   "source": [
    "import datetime\n",
    "print(datetime.datetime(2010,1,1))\n",
    "print(pd.to_datetime(\"2010-1-1\"))"
   ]
  },
  {
   "cell_type": "markdown",
   "metadata": {},
   "source": [
    "Now let's take a look at some specific stocks. Let's look at WTI, CHK, Tesla Motors, and CBAK. Below you will find out what they each cover, although you can certainly look online as well."
   ]
  },
  {
   "cell_type": "markdown",
   "metadata": {},
   "source": [
    "\n",
    "WTI - W&T Offshore Inc. (This company drills in the Gulf of Mexico.)\n",
    "\n",
    "CHK - Chesapeake Energy Corporation\n",
    "\n",
    "TSLA - Tesla Motors\n",
    "\n",
    "CBAK - China Bak Battery Incorporated\n"
   ]
  },
  {
   "cell_type": "markdown",
   "metadata": {},
   "source": [
    "See below how I use both datetime creation methods. We will get data from 2010 to 2015 for all of these stocks."
   ]
  },
  {
   "cell_type": "code",
   "execution_count": 5,
   "metadata": {
    "collapsed": false
   },
   "outputs": [],
   "source": [
    "start = pd.to_datetime('2010-1-1')\n",
    "end = datetime.datetime(2015,1,1)\n",
    "ticker_symbols = ['WTI','CHK','TSLA','CBAK']"
   ]
  },
  {
   "cell_type": "markdown",
   "metadata": {},
   "source": [
    "Here you can see how to get data for a single stock."
   ]
  },
  {
   "cell_type": "code",
   "execution_count": 6,
   "metadata": {
    "collapsed": false
   },
   "outputs": [],
   "source": [
    "wti = pd.io.data.get_data_yahoo(ticker_symbols[0],start=start,end=end)"
   ]
  },
  {
   "cell_type": "code",
   "execution_count": 7,
   "metadata": {
    "collapsed": false
   },
   "outputs": [
    {
     "data": {
      "text/html": [
       "<div>\n",
       "<table border=\"1\" class=\"dataframe\">\n",
       "  <thead>\n",
       "    <tr style=\"text-align: right;\">\n",
       "      <th></th>\n",
       "      <th>Open</th>\n",
       "      <th>High</th>\n",
       "      <th>Low</th>\n",
       "      <th>Close</th>\n",
       "      <th>Volume</th>\n",
       "      <th>Adj Close</th>\n",
       "    </tr>\n",
       "    <tr>\n",
       "      <th>Date</th>\n",
       "      <th></th>\n",
       "      <th></th>\n",
       "      <th></th>\n",
       "      <th></th>\n",
       "      <th></th>\n",
       "      <th></th>\n",
       "    </tr>\n",
       "  </thead>\n",
       "  <tbody>\n",
       "    <tr>\n",
       "      <th>2010-01-04</th>\n",
       "      <td>11.90</td>\n",
       "      <td>12.46</td>\n",
       "      <td>11.86</td>\n",
       "      <td>12.26</td>\n",
       "      <td>838800</td>\n",
       "      <td>9.824887</td>\n",
       "    </tr>\n",
       "    <tr>\n",
       "      <th>2010-01-05</th>\n",
       "      <td>12.30</td>\n",
       "      <td>12.63</td>\n",
       "      <td>12.17</td>\n",
       "      <td>12.34</td>\n",
       "      <td>625400</td>\n",
       "      <td>9.888997</td>\n",
       "    </tr>\n",
       "    <tr>\n",
       "      <th>2010-01-06</th>\n",
       "      <td>12.41</td>\n",
       "      <td>12.65</td>\n",
       "      <td>12.39</td>\n",
       "      <td>12.58</td>\n",
       "      <td>604700</td>\n",
       "      <td>10.081328</td>\n",
       "    </tr>\n",
       "    <tr>\n",
       "      <th>2010-01-07</th>\n",
       "      <td>12.60</td>\n",
       "      <td>12.70</td>\n",
       "      <td>12.24</td>\n",
       "      <td>12.45</td>\n",
       "      <td>565300</td>\n",
       "      <td>9.977149</td>\n",
       "    </tr>\n",
       "    <tr>\n",
       "      <th>2010-01-08</th>\n",
       "      <td>12.37</td>\n",
       "      <td>12.54</td>\n",
       "      <td>12.12</td>\n",
       "      <td>12.50</td>\n",
       "      <td>521100</td>\n",
       "      <td>10.017218</td>\n",
       "    </tr>\n",
       "  </tbody>\n",
       "</table>\n",
       "</div>"
      ],
      "text/plain": [
       "             Open   High    Low  Close  Volume  Adj Close\n",
       "Date                                                     \n",
       "2010-01-04  11.90  12.46  11.86  12.26  838800   9.824887\n",
       "2010-01-05  12.30  12.63  12.17  12.34  625400   9.888997\n",
       "2010-01-06  12.41  12.65  12.39  12.58  604700  10.081328\n",
       "2010-01-07  12.60  12.70  12.24  12.45  565300   9.977149\n",
       "2010-01-08  12.37  12.54  12.12  12.50  521100  10.017218"
      ]
     },
     "execution_count": 7,
     "metadata": {},
     "output_type": "execute_result"
    }
   ],
   "source": [
    "wti.head()"
   ]
  },
  {
   "cell_type": "markdown",
   "metadata": {},
   "source": [
    "One way to download the data for all of the stocks is in a `for` loop like the one below."
   ]
  },
  {
   "cell_type": "code",
   "execution_count": 7,
   "metadata": {
    "collapsed": false
   },
   "outputs": [
    {
     "name": "stdout",
     "output_type": "stream",
     "text": [
      "WTI\n",
      "CHK\n",
      "TSLA\n",
      "CBAK\n"
     ]
    }
   ],
   "source": [
    "for symbol in ticker_symbols:\n",
    "    print(symbol)\n",
    "    df = pd.io.data.get_data_yahoo(symbol,start=start,end=end)"
   ]
  },
  {
   "cell_type": "markdown",
   "metadata": {},
   "source": [
    "A simpler solution is to just pass in a list of symbols, which pandas will automatically resolve for us."
   ]
  },
  {
   "cell_type": "code",
   "execution_count": 9,
   "metadata": {
    "collapsed": false
   },
   "outputs": [],
   "source": [
    "panl = pd.io.data.get_data_yahoo(ticker_symbols,start=start,end=end)"
   ]
  },
  {
   "cell_type": "markdown",
   "metadata": {},
   "source": [
    "Notice that I called this `panl` instead of something conventional like `df`. This is because this query returns a Python type that we have not encountered yet. It is a pandas `panel`. Panels are an advanced topic, and explaining their use cases is outside the scope of this course; however, we will cover the basics."
   ]
  },
  {
   "cell_type": "markdown",
   "metadata": {},
   "source": [
    "The word *panel* is derived from \"panel data.\"  In econometrics and statistics, panel data refers to a data set in which multiple units of analysis are observed over multiple time periods.  Such a data set requires specialized statistical modeling techniques for analysis.  \n",
    "\n",
    "A panel in pandas is a three-dimensional container for data. It is basically a three-dimensional DataFrame. We can query along each of those individual dimensions.\n",
    "\n",
    "**Warning:** Most of the time, the two definitions of *panel* line up nicely: a pandas panel is a great way to store most panel data.  There could be exceptions, however.  Not all three-dimensional data sets have a time dimension, for example.  As you continue in your training, it is important to keep the separate definitions in mind.  In particular, do not assume that everything you learn about pandas `panel` carries over to the statistical definition."
   ]
  },
  {
   "cell_type": "code",
   "execution_count": 9,
   "metadata": {
    "collapsed": false
   },
   "outputs": [
    {
     "data": {
      "text/plain": [
       "<class 'pandas.core.panel.Panel'>\n",
       "Dimensions: 6 (items) x 1258 (major_axis) x 4 (minor_axis)\n",
       "Items axis: Open to Adj Close\n",
       "Major_axis axis: 2010-01-04 00:00:00 to 2014-12-31 00:00:00\n",
       "Minor_axis axis: CBAK to WTI"
      ]
     },
     "execution_count": 9,
     "metadata": {},
     "output_type": "execute_result"
    }
   ],
   "source": [
    "panl"
   ]
  },
  {
   "cell_type": "markdown",
   "metadata": {},
   "source": [
    "\n",
    "We can see that our panel has three axes: an items axis, a major axis, and a minor axis. The major axis is the time axis.  The minor axis has the four companies (these are our principal units of analysis).  Finally, the items axis refers to the different variables: opening price, closing price, and so forth.\n",
    "\n",
    "Panels are a core part of pandas, but they are much less used in pandas and therefore are a bit neglected. Understand that we are not trying to avoid the topic; this is stated in the documentation.\n",
    "\n",
    "http://pandas-docs.github.io/pandas-docs-travis/dsintro.html#panel\n",
    "\n",
    "> Note: Unfortunately Panel, being less commonly used than Series and DataFrame, has been slightly neglected feature-wise. A number of methods and options available in DataFrame are not available in Panel. This will get worked on, of course, in future releases (and even faster if you join me in working on the codebase)."
   ]
  },
  {
   "cell_type": "code",
   "execution_count": 10,
   "metadata": {
    "collapsed": false
   },
   "outputs": [
    {
     "data": {
      "text/plain": [
       "pandas.core.panel.Panel"
      ]
     },
     "execution_count": 10,
     "metadata": {},
     "output_type": "execute_result"
    }
   ],
   "source": [
    "type(panl)"
   ]
  },
  {
   "cell_type": "markdown",
   "metadata": {},
   "source": [
    "\n",
    "You are likely to run into panels at some point in your work, so lets touch on their behavior. Panels include a lot of the basic methods that we are comfortable with, like `shape`.\n"
   ]
  },
  {
   "cell_type": "code",
   "execution_count": 11,
   "metadata": {
    "collapsed": false
   },
   "outputs": [
    {
     "data": {
      "text/plain": [
       "(6, 1258, 4)"
      ]
     },
     "execution_count": 11,
     "metadata": {},
     "output_type": "execute_result"
    }
   ],
   "source": [
    "panl.shape"
   ]
  },
  {
   "cell_type": "markdown",
   "metadata": {},
   "source": [
    "We have these three axes so when we want to query data, we need to do that a bit differently. Items are queried like standard DataFrame columns with dot syntax.\n"
   ]
  },
  {
   "cell_type": "code",
   "execution_count": 12,
   "metadata": {
    "collapsed": false
   },
   "outputs": [
    {
     "data": {
      "text/html": [
       "<div>\n",
       "<table border=\"1\" class=\"dataframe\">\n",
       "  <thead>\n",
       "    <tr style=\"text-align: right;\">\n",
       "      <th></th>\n",
       "      <th>CBAK</th>\n",
       "      <th>CHK</th>\n",
       "      <th>TSLA</th>\n",
       "      <th>WTI</th>\n",
       "    </tr>\n",
       "    <tr>\n",
       "      <th>Date</th>\n",
       "      <th></th>\n",
       "      <th></th>\n",
       "      <th></th>\n",
       "      <th></th>\n",
       "    </tr>\n",
       "  </thead>\n",
       "  <tbody>\n",
       "    <tr>\n",
       "      <th>2010-01-04</th>\n",
       "      <td>2.90</td>\n",
       "      <td>27.429997</td>\n",
       "      <td>NaN</td>\n",
       "      <td>11.90</td>\n",
       "    </tr>\n",
       "    <tr>\n",
       "      <th>2010-01-05</th>\n",
       "      <td>2.72</td>\n",
       "      <td>28.300002</td>\n",
       "      <td>NaN</td>\n",
       "      <td>12.30</td>\n",
       "    </tr>\n",
       "    <tr>\n",
       "      <th>2010-01-06</th>\n",
       "      <td>2.98</td>\n",
       "      <td>29.209995</td>\n",
       "      <td>NaN</td>\n",
       "      <td>12.41</td>\n",
       "    </tr>\n",
       "    <tr>\n",
       "      <th>2010-01-07</th>\n",
       "      <td>2.90</td>\n",
       "      <td>28.629998</td>\n",
       "      <td>NaN</td>\n",
       "      <td>12.60</td>\n",
       "    </tr>\n",
       "    <tr>\n",
       "      <th>2010-01-08</th>\n",
       "      <td>2.90</td>\n",
       "      <td>28.389996</td>\n",
       "      <td>NaN</td>\n",
       "      <td>12.37</td>\n",
       "    </tr>\n",
       "  </tbody>\n",
       "</table>\n",
       "</div>"
      ],
      "text/plain": [
       "            CBAK        CHK  TSLA    WTI\n",
       "Date                                    \n",
       "2010-01-04  2.90  27.429997   NaN  11.90\n",
       "2010-01-05  2.72  28.300002   NaN  12.30\n",
       "2010-01-06  2.98  29.209995   NaN  12.41\n",
       "2010-01-07  2.90  28.629998   NaN  12.60\n",
       "2010-01-08  2.90  28.389996   NaN  12.37"
      ]
     },
     "execution_count": 12,
     "metadata": {},
     "output_type": "execute_result"
    }
   ],
   "source": [
    "panl.Open.head()"
   ]
  },
  {
   "cell_type": "markdown",
   "metadata": {},
   "source": [
    "The major and minor axes are done differently, with the major_xs and minor_xs commands. Notice how the `major_xs` conveniently accepts a date string and parses it for us."
   ]
  },
  {
   "cell_type": "code",
   "execution_count": 13,
   "metadata": {
    "collapsed": false
   },
   "outputs": [
    {
     "data": {
      "text/html": [
       "<div>\n",
       "<table border=\"1\" class=\"dataframe\">\n",
       "  <thead>\n",
       "    <tr style=\"text-align: right;\">\n",
       "      <th></th>\n",
       "      <th>Open</th>\n",
       "      <th>High</th>\n",
       "      <th>Low</th>\n",
       "      <th>Close</th>\n",
       "      <th>Volume</th>\n",
       "      <th>Adj Close</th>\n",
       "    </tr>\n",
       "  </thead>\n",
       "  <tbody>\n",
       "    <tr>\n",
       "      <th>CBAK</th>\n",
       "      <td>0.620000</td>\n",
       "      <td>0.790000</td>\n",
       "      <td>0.60</td>\n",
       "      <td>0.770000</td>\n",
       "      <td>56800</td>\n",
       "      <td>0.770000</td>\n",
       "    </tr>\n",
       "    <tr>\n",
       "      <th>CHK</th>\n",
       "      <td>19.900002</td>\n",
       "      <td>19.979996</td>\n",
       "      <td>18.86</td>\n",
       "      <td>19.190006</td>\n",
       "      <td>17267300</td>\n",
       "      <td>17.569929</td>\n",
       "    </tr>\n",
       "    <tr>\n",
       "      <th>TSLA</th>\n",
       "      <td>55.990002</td>\n",
       "      <td>55.990002</td>\n",
       "      <td>53.00</td>\n",
       "      <td>53.279999</td>\n",
       "      <td>2742800</td>\n",
       "      <td>53.279999</td>\n",
       "    </tr>\n",
       "    <tr>\n",
       "      <th>WTI</th>\n",
       "      <td>11.540000</td>\n",
       "      <td>11.540000</td>\n",
       "      <td>11.03</td>\n",
       "      <td>11.220000</td>\n",
       "      <td>720500</td>\n",
       "      <td>10.394898</td>\n",
       "    </tr>\n",
       "  </tbody>\n",
       "</table>\n",
       "</div>"
      ],
      "text/plain": [
       "           Open       High    Low      Close    Volume  Adj Close\n",
       "CBAK   0.620000   0.790000   0.60   0.770000     56800   0.770000\n",
       "CHK   19.900002  19.979996  18.86  19.190006  17267300  17.569929\n",
       "TSLA  55.990002  55.990002  53.00  53.279999   2742800  53.279999\n",
       "WTI   11.540000  11.540000  11.03  11.220000    720500  10.394898"
      ]
     },
     "execution_count": 13,
     "metadata": {},
     "output_type": "execute_result"
    }
   ],
   "source": [
    "panl.major_xs('2013-5-1')"
   ]
  },
  {
   "cell_type": "code",
   "execution_count": 14,
   "metadata": {
    "collapsed": false
   },
   "outputs": [
    {
     "data": {
      "text/html": [
       "<div>\n",
       "<table border=\"1\" class=\"dataframe\">\n",
       "  <thead>\n",
       "    <tr style=\"text-align: right;\">\n",
       "      <th></th>\n",
       "      <th>Open</th>\n",
       "      <th>High</th>\n",
       "      <th>Low</th>\n",
       "      <th>Close</th>\n",
       "      <th>Volume</th>\n",
       "      <th>Adj Close</th>\n",
       "    </tr>\n",
       "    <tr>\n",
       "      <th>Date</th>\n",
       "      <th></th>\n",
       "      <th></th>\n",
       "      <th></th>\n",
       "      <th></th>\n",
       "      <th></th>\n",
       "      <th></th>\n",
       "    </tr>\n",
       "  </thead>\n",
       "  <tbody>\n",
       "    <tr>\n",
       "      <th>2010-01-04</th>\n",
       "      <td>27.429997</td>\n",
       "      <td>28.109996</td>\n",
       "      <td>26.920004</td>\n",
       "      <td>28.089999</td>\n",
       "      <td>31146800</td>\n",
       "      <td>24.503810</td>\n",
       "    </tr>\n",
       "    <tr>\n",
       "      <th>2010-01-05</th>\n",
       "      <td>28.300002</td>\n",
       "      <td>29.120002</td>\n",
       "      <td>28.199999</td>\n",
       "      <td>28.970004</td>\n",
       "      <td>28692700</td>\n",
       "      <td>25.271467</td>\n",
       "    </tr>\n",
       "    <tr>\n",
       "      <th>2010-01-06</th>\n",
       "      <td>29.209995</td>\n",
       "      <td>29.220005</td>\n",
       "      <td>28.530005</td>\n",
       "      <td>28.649996</td>\n",
       "      <td>16055000</td>\n",
       "      <td>24.992314</td>\n",
       "    </tr>\n",
       "    <tr>\n",
       "      <th>2010-01-07</th>\n",
       "      <td>28.629998</td>\n",
       "      <td>28.799995</td>\n",
       "      <td>28.180002</td>\n",
       "      <td>28.720002</td>\n",
       "      <td>13906600</td>\n",
       "      <td>25.053382</td>\n",
       "    </tr>\n",
       "    <tr>\n",
       "      <th>2010-01-08</th>\n",
       "      <td>28.389996</td>\n",
       "      <td>28.919998</td>\n",
       "      <td>28.050002</td>\n",
       "      <td>28.909998</td>\n",
       "      <td>11656400</td>\n",
       "      <td>25.219122</td>\n",
       "    </tr>\n",
       "  </tbody>\n",
       "</table>\n",
       "</div>"
      ],
      "text/plain": [
       "                 Open       High        Low      Close    Volume  Adj Close\n",
       "Date                                                                       \n",
       "2010-01-04  27.429997  28.109996  26.920004  28.089999  31146800  24.503810\n",
       "2010-01-05  28.300002  29.120002  28.199999  28.970004  28692700  25.271467\n",
       "2010-01-06  29.209995  29.220005  28.530005  28.649996  16055000  24.992314\n",
       "2010-01-07  28.629998  28.799995  28.180002  28.720002  13906600  25.053382\n",
       "2010-01-08  28.389996  28.919998  28.050002  28.909998  11656400  25.219122"
      ]
     },
     "execution_count": 14,
     "metadata": {},
     "output_type": "execute_result"
    }
   ],
   "source": [
    "panl.minor_xs('CHK').head()"
   ]
  },
  {
   "cell_type": "markdown",
   "metadata": {},
   "source": [
    "Some summary statistics are available to us such as the mean.  Notice that this computes the mean across the major axis, which is the time axis."
   ]
  },
  {
   "cell_type": "code",
   "execution_count": 15,
   "metadata": {
    "collapsed": false
   },
   "outputs": [
    {
     "data": {
      "text/html": [
       "<div>\n",
       "<table border=\"1\" class=\"dataframe\">\n",
       "  <thead>\n",
       "    <tr style=\"text-align: right;\">\n",
       "      <th></th>\n",
       "      <th>Open</th>\n",
       "      <th>High</th>\n",
       "      <th>Low</th>\n",
       "      <th>Close</th>\n",
       "      <th>Volume</th>\n",
       "      <th>Adj Close</th>\n",
       "    </tr>\n",
       "  </thead>\n",
       "  <tbody>\n",
       "    <tr>\n",
       "      <th>CBAK</th>\n",
       "      <td>1.729793</td>\n",
       "      <td>1.801296</td>\n",
       "      <td>1.670469</td>\n",
       "      <td>1.726248</td>\n",
       "      <td>117253.020668</td>\n",
       "      <td>4.791367</td>\n",
       "    </tr>\n",
       "    <tr>\n",
       "      <th>CHK</th>\n",
       "      <td>24.194174</td>\n",
       "      <td>24.530963</td>\n",
       "      <td>23.802076</td>\n",
       "      <td>24.165184</td>\n",
       "      <td>14230891.096979</td>\n",
       "      <td>21.921955</td>\n",
       "    </tr>\n",
       "    <tr>\n",
       "      <th>TSLA</th>\n",
       "      <td>88.218820</td>\n",
       "      <td>89.988099</td>\n",
       "      <td>86.329102</td>\n",
       "      <td>88.177315</td>\n",
       "      <td>4136559.595070</td>\n",
       "      <td>88.177315</td>\n",
       "    </tr>\n",
       "    <tr>\n",
       "      <th>WTI</th>\n",
       "      <td>16.080199</td>\n",
       "      <td>16.418887</td>\n",
       "      <td>15.720723</td>\n",
       "      <td>16.069173</td>\n",
       "      <td>806965.580286</td>\n",
       "      <td>14.329300</td>\n",
       "    </tr>\n",
       "  </tbody>\n",
       "</table>\n",
       "</div>"
      ],
      "text/plain": [
       "           Open       High        Low      Close           Volume  Adj Close\n",
       "CBAK   1.729793   1.801296   1.670469   1.726248    117253.020668   4.791367\n",
       "CHK   24.194174  24.530963  23.802076  24.165184  14230891.096979  21.921955\n",
       "TSLA  88.218820  89.988099  86.329102  88.177315   4136559.595070  88.177315\n",
       "WTI   16.080199  16.418887  15.720723  16.069173    806965.580286  14.329300"
      ]
     },
     "execution_count": 15,
     "metadata": {},
     "output_type": "execute_result"
    }
   ],
   "source": [
    "panl.mean()"
   ]
  },
  {
   "cell_type": "markdown",
   "metadata": {},
   "source": [
    "We can perform different kinds of selections and transposition using the major and minor axes; however,  we will not cover this material. What we will do is convert this panel to a DataFrame. This will be a convenient way to introduce a new topic as well."
   ]
  },
  {
   "cell_type": "markdown",
   "metadata": {},
   "source": [
    "When we convert the `panel` to a `DataFrame` with the `to_frame` command, we will see that it looks a bit different, especially when we print out the data."
   ]
  },
  {
   "cell_type": "code",
   "execution_count": 16,
   "metadata": {
    "collapsed": false
   },
   "outputs": [
    {
     "data": {
      "text/html": [
       "<div>\n",
       "<table border=\"1\" class=\"dataframe\">\n",
       "  <thead>\n",
       "    <tr style=\"text-align: right;\">\n",
       "      <th></th>\n",
       "      <th></th>\n",
       "      <th>Open</th>\n",
       "      <th>High</th>\n",
       "      <th>Low</th>\n",
       "      <th>Close</th>\n",
       "      <th>Volume</th>\n",
       "      <th>Adj Close</th>\n",
       "    </tr>\n",
       "    <tr>\n",
       "      <th>Date</th>\n",
       "      <th>minor</th>\n",
       "      <th></th>\n",
       "      <th></th>\n",
       "      <th></th>\n",
       "      <th></th>\n",
       "      <th></th>\n",
       "      <th></th>\n",
       "    </tr>\n",
       "  </thead>\n",
       "  <tbody>\n",
       "    <tr>\n",
       "      <th rowspan=\"3\" valign=\"top\">2010-01-04</th>\n",
       "      <th>CBAK</th>\n",
       "      <td>2.900000</td>\n",
       "      <td>2.900000</td>\n",
       "      <td>2.670000</td>\n",
       "      <td>2.700000</td>\n",
       "      <td>456600</td>\n",
       "      <td>13.500000</td>\n",
       "    </tr>\n",
       "    <tr>\n",
       "      <th>CHK</th>\n",
       "      <td>27.429997</td>\n",
       "      <td>28.109996</td>\n",
       "      <td>26.920004</td>\n",
       "      <td>28.089999</td>\n",
       "      <td>31146800</td>\n",
       "      <td>24.503810</td>\n",
       "    </tr>\n",
       "    <tr>\n",
       "      <th>WTI</th>\n",
       "      <td>11.900000</td>\n",
       "      <td>12.460000</td>\n",
       "      <td>11.860000</td>\n",
       "      <td>12.260000</td>\n",
       "      <td>838800</td>\n",
       "      <td>9.824887</td>\n",
       "    </tr>\n",
       "    <tr>\n",
       "      <th rowspan=\"2\" valign=\"top\">2010-01-05</th>\n",
       "      <th>CBAK</th>\n",
       "      <td>2.720000</td>\n",
       "      <td>3.100000</td>\n",
       "      <td>2.690000</td>\n",
       "      <td>2.850000</td>\n",
       "      <td>1179500</td>\n",
       "      <td>14.250000</td>\n",
       "    </tr>\n",
       "    <tr>\n",
       "      <th>CHK</th>\n",
       "      <td>28.300002</td>\n",
       "      <td>29.120002</td>\n",
       "      <td>28.199999</td>\n",
       "      <td>28.970004</td>\n",
       "      <td>28692700</td>\n",
       "      <td>25.271467</td>\n",
       "    </tr>\n",
       "  </tbody>\n",
       "</table>\n",
       "</div>"
      ],
      "text/plain": [
       "                       Open       High        Low      Close    Volume  \\\n",
       "Date       minor                                                         \n",
       "2010-01-04 CBAK    2.900000   2.900000   2.670000   2.700000    456600   \n",
       "           CHK    27.429997  28.109996  26.920004  28.089999  31146800   \n",
       "           WTI    11.900000  12.460000  11.860000  12.260000    838800   \n",
       "2010-01-05 CBAK    2.720000   3.100000   2.690000   2.850000   1179500   \n",
       "           CHK    28.300002  29.120002  28.199999  28.970004  28692700   \n",
       "\n",
       "                  Adj Close  \n",
       "Date       minor             \n",
       "2010-01-04 CBAK   13.500000  \n",
       "           CHK    24.503810  \n",
       "           WTI     9.824887  \n",
       "2010-01-05 CBAK   14.250000  \n",
       "           CHK    25.271467  "
      ]
     },
     "execution_count": 16,
     "metadata": {},
     "output_type": "execute_result"
    }
   ],
   "source": [
    "df = panl.to_frame()\n",
    "df.head()"
   ]
  },
  {
   "cell_type": "markdown",
   "metadata": {},
   "source": [
    "You can see that we have two indices on our data. More formally this is called a hierarchical or multi-index. Hierarchical indices are extremely powerful because they allow for a lot of creative querying. We will not go into them too deeply right now; however, we will touch on them a bit later in this section.\n",
    "\n",
    "What you need to know now is that there are levels that are stacked on one another and those can be queried. Formally, as you might have guessed, the different indices are known as *levels*."
   ]
  },
  {
   "cell_type": "code",
   "execution_count": 17,
   "metadata": {
    "collapsed": false
   },
   "outputs": [
    {
     "data": {
      "text/plain": [
       "FrozenList([[2010-01-04 00:00:00, 2010-01-05 00:00:00, 2010-01-06 00:00:00, 2010-01-07 00:00:00, 2010-01-08 00:00:00, 2010-01-11 00:00:00, 2010-01-12 00:00:00, 2010-01-13 00:00:00, 2010-01-14 00:00:00, 2010-01-15 00:00:00, 2010-01-19 00:00:00, 2010-01-20 00:00:00, 2010-01-21 00:00:00, 2010-01-22 00:00:00, 2010-01-25 00:00:00, 2010-01-26 00:00:00, 2010-01-27 00:00:00, 2010-01-28 00:00:00, 2010-01-29 00:00:00, 2010-02-01 00:00:00, 2010-02-02 00:00:00, 2010-02-03 00:00:00, 2010-02-04 00:00:00, 2010-02-05 00:00:00, 2010-02-08 00:00:00, 2010-02-09 00:00:00, 2010-02-10 00:00:00, 2010-02-11 00:00:00, 2010-02-12 00:00:00, 2010-02-16 00:00:00, 2010-02-17 00:00:00, 2010-02-18 00:00:00, 2010-02-19 00:00:00, 2010-02-22 00:00:00, 2010-02-23 00:00:00, 2010-02-24 00:00:00, 2010-02-25 00:00:00, 2010-02-26 00:00:00, 2010-03-01 00:00:00, 2010-03-02 00:00:00, 2010-03-03 00:00:00, 2010-03-04 00:00:00, 2010-03-05 00:00:00, 2010-03-08 00:00:00, 2010-03-09 00:00:00, 2010-03-10 00:00:00, 2010-03-11 00:00:00, 2010-03-12 00:00:00, 2010-03-15 00:00:00, 2010-03-16 00:00:00, 2010-03-17 00:00:00, 2010-03-18 00:00:00, 2010-03-19 00:00:00, 2010-03-22 00:00:00, 2010-03-23 00:00:00, 2010-03-24 00:00:00, 2010-03-25 00:00:00, 2010-03-26 00:00:00, 2010-03-29 00:00:00, 2010-03-30 00:00:00, 2010-03-31 00:00:00, 2010-04-01 00:00:00, 2010-04-05 00:00:00, 2010-04-06 00:00:00, 2010-04-07 00:00:00, 2010-04-08 00:00:00, 2010-04-09 00:00:00, 2010-04-12 00:00:00, 2010-04-13 00:00:00, 2010-04-14 00:00:00, 2010-04-15 00:00:00, 2010-04-16 00:00:00, 2010-04-19 00:00:00, 2010-04-20 00:00:00, 2010-04-21 00:00:00, 2010-04-22 00:00:00, 2010-04-23 00:00:00, 2010-04-26 00:00:00, 2010-04-27 00:00:00, 2010-04-28 00:00:00, 2010-04-29 00:00:00, 2010-04-30 00:00:00, 2010-05-03 00:00:00, 2010-05-04 00:00:00, 2010-05-05 00:00:00, 2010-05-06 00:00:00, 2010-05-07 00:00:00, 2010-05-10 00:00:00, 2010-05-11 00:00:00, 2010-05-12 00:00:00, 2010-05-13 00:00:00, 2010-05-14 00:00:00, 2010-05-17 00:00:00, 2010-05-18 00:00:00, 2010-05-19 00:00:00, 2010-05-20 00:00:00, 2010-05-21 00:00:00, 2010-05-24 00:00:00, 2010-05-25 00:00:00, 2010-05-26 00:00:00, ...], ['CBAK', 'CHK', 'TSLA', 'WTI']])"
      ]
     },
     "execution_count": 17,
     "metadata": {},
     "output_type": "execute_result"
    }
   ],
   "source": [
    "df.index.levels"
   ]
  },
  {
   "cell_type": "code",
   "execution_count": 18,
   "metadata": {
    "collapsed": false
   },
   "outputs": [
    {
     "name": "stdout",
     "output_type": "stream",
     "text": [
      "2\n"
     ]
    }
   ],
   "source": [
    "print(len(df.index.levels))"
   ]
  },
  {
   "cell_type": "markdown",
   "metadata": {},
   "source": [
    "Since we do not want to work with a hierarchical index right now, we will reset the index to get the data into a format that is a little less structured. Luckily, this is easy to do.\n",
    "\n",
    "You may often find yourself using the `reset_index` method just to get back to square one and start over when performing analysis. I find myself using it a lot simply because it helps me make sure that I understand what I am doing to my data and what format it is in."
   ]
  },
  {
   "cell_type": "code",
   "execution_count": 19,
   "metadata": {
    "collapsed": false
   },
   "outputs": [
    {
     "data": {
      "text/html": [
       "<div>\n",
       "<table border=\"1\" class=\"dataframe\">\n",
       "  <thead>\n",
       "    <tr style=\"text-align: right;\">\n",
       "      <th></th>\n",
       "      <th>Date</th>\n",
       "      <th>minor</th>\n",
       "      <th>Open</th>\n",
       "      <th>High</th>\n",
       "      <th>Low</th>\n",
       "      <th>Close</th>\n",
       "      <th>Volume</th>\n",
       "      <th>Adj Close</th>\n",
       "    </tr>\n",
       "  </thead>\n",
       "  <tbody>\n",
       "    <tr>\n",
       "      <th>0</th>\n",
       "      <td>2010-01-04</td>\n",
       "      <td>CBAK</td>\n",
       "      <td>2.900000</td>\n",
       "      <td>2.900000</td>\n",
       "      <td>2.670000</td>\n",
       "      <td>2.700000</td>\n",
       "      <td>456600</td>\n",
       "      <td>13.500000</td>\n",
       "    </tr>\n",
       "    <tr>\n",
       "      <th>1</th>\n",
       "      <td>2010-01-04</td>\n",
       "      <td>CHK</td>\n",
       "      <td>27.429997</td>\n",
       "      <td>28.109996</td>\n",
       "      <td>26.920004</td>\n",
       "      <td>28.089999</td>\n",
       "      <td>31146800</td>\n",
       "      <td>24.503810</td>\n",
       "    </tr>\n",
       "    <tr>\n",
       "      <th>2</th>\n",
       "      <td>2010-01-04</td>\n",
       "      <td>WTI</td>\n",
       "      <td>11.900000</td>\n",
       "      <td>12.460000</td>\n",
       "      <td>11.860000</td>\n",
       "      <td>12.260000</td>\n",
       "      <td>838800</td>\n",
       "      <td>9.824887</td>\n",
       "    </tr>\n",
       "    <tr>\n",
       "      <th>3</th>\n",
       "      <td>2010-01-05</td>\n",
       "      <td>CBAK</td>\n",
       "      <td>2.720000</td>\n",
       "      <td>3.100000</td>\n",
       "      <td>2.690000</td>\n",
       "      <td>2.850000</td>\n",
       "      <td>1179500</td>\n",
       "      <td>14.250000</td>\n",
       "    </tr>\n",
       "    <tr>\n",
       "      <th>4</th>\n",
       "      <td>2010-01-05</td>\n",
       "      <td>CHK</td>\n",
       "      <td>28.300002</td>\n",
       "      <td>29.120002</td>\n",
       "      <td>28.199999</td>\n",
       "      <td>28.970004</td>\n",
       "      <td>28692700</td>\n",
       "      <td>25.271467</td>\n",
       "    </tr>\n",
       "  </tbody>\n",
       "</table>\n",
       "</div>"
      ],
      "text/plain": [
       "        Date minor       Open       High        Low      Close    Volume  \\\n",
       "0 2010-01-04  CBAK   2.900000   2.900000   2.670000   2.700000    456600   \n",
       "1 2010-01-04   CHK  27.429997  28.109996  26.920004  28.089999  31146800   \n",
       "2 2010-01-04   WTI  11.900000  12.460000  11.860000  12.260000    838800   \n",
       "3 2010-01-05  CBAK   2.720000   3.100000   2.690000   2.850000   1179500   \n",
       "4 2010-01-05   CHK  28.300002  29.120002  28.199999  28.970004  28692700   \n",
       "\n",
       "   Adj Close  \n",
       "0  13.500000  \n",
       "1  24.503810  \n",
       "2   9.824887  \n",
       "3  14.250000  \n",
       "4  25.271467  "
      ]
     },
     "execution_count": 19,
     "metadata": {},
     "output_type": "execute_result"
    }
   ],
   "source": [
    "df.reset_index().head()"
   ]
  },
  {
   "cell_type": "markdown",
   "metadata": {},
   "source": [
    "Remember, that does not happen in place by default, so we will probably want to set the `inplace` parameter in our method call."
   ]
  },
  {
   "cell_type": "code",
   "execution_count": 20,
   "metadata": {
    "collapsed": false
   },
   "outputs": [],
   "source": [
    "df.reset_index(inplace=True)"
   ]
  },
  {
   "cell_type": "markdown",
   "metadata": {},
   "source": [
    "Now we have reset our index. \n",
    "\n",
    "The purpose of this lesson was to introduce you to some of these more advanced data representations and data source APIs. In the next video we will work with an airplane data set that will let us try out a lot of what we have learned."
   ]
  }
 ],
 "metadata": {
  "kernelspec": {
   "display_name": "Python 3",
   "language": "python",
   "name": "python3"
  },
  "language_info": {
   "codemirror_mode": {
    "name": "ipython",
    "version": 3
   },
   "file_extension": ".py",
   "mimetype": "text/x-python",
   "name": "python",
   "nbconvert_exporter": "python",
   "pygments_lexer": "ipython3",
   "version": "3.5.0"
  }
 },
 "nbformat": 4,
 "nbformat_minor": 0
}
