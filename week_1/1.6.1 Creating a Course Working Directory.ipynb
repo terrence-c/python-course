{
 "cells": [
  {
   "cell_type": "markdown",
   "metadata": {},
   "source": [
    "# Creating a Course Working Directory\n",
    "\n",
    "As you begin working through this course, it will be useful to have a course working directory.  This is a single place to put all of your code and other files so that they are easy to find and don't clutter your desktop.  \n",
    "\n",
    "You probably know how to create directories using your mouse, but for this exercise, please do so using the command line.\n",
    "\n",
    "Go ahead and open a terminal window as we have shown you. Navigate to the desktop, and create a new directory. Use a name like python_course so you'll be able to find it easily."
   ]
  }
 ],
 "metadata": {
  "kernelspec": {
   "display_name": "Python 3",
   "language": "python",
   "name": "python3"
  },
  "language_info": {
   "codemirror_mode": {
    "name": "ipython",
    "version": 3
   },
   "file_extension": ".py",
   "mimetype": "text/x-python",
   "name": "python",
   "nbconvert_exporter": "python",
   "pygments_lexer": "ipython3",
   "version": "3.4.3"
  }
 },
 "nbformat": 4,
 "nbformat_minor": 0
}
