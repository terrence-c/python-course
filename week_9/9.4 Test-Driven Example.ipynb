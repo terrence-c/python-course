{
 "cells": [
  {
   "cell_type": "markdown",
   "metadata": {},
   "source": [
    "# Basic Testing Using Python"
   ]
  },
  {
   "cell_type": "markdown",
   "metadata": {},
   "source": [
    "An important part of software development is testing.  We want to be sure that our code is robust and won't surprise us with errors down the line, especially if it's going into a production system.  For large projects, it's important to write automated tests.  This ensures that current functionality is working as expected as we update our code to meet future requirements. The practice of writing tests also forces us to write modular, easy-to-maintain code.\n",
    "\n",
    "In this section we'll talk about how to write tests for your code."
   ]
  },
  {
   "cell_type": "markdown",
   "metadata": {},
   "source": [
    "## Simple Class"
   ]
  },
  {
   "cell_type": "markdown",
   "metadata": {},
   "source": [
    "Consider the module below."
   ]
  },
  {
   "cell_type": "code",
   "execution_count": 1,
   "metadata": {
    "collapsed": false
   },
   "outputs": [],
   "source": [
    "class StringUtility(object):\n",
    "    \n",
    "    def reverse(self, data):\n",
    "        \"\"\"\n",
    "        Return the reverse of the string\n",
    "        \"\"\"\n",
    "        return data[::-1]\n",
    "    \n",
    "    def char_frequency(self, data, char):\n",
    "        \"\"\"\n",
    "        Return the number times char is in data\n",
    "        \"\"\"\n",
    "        return data.count(char)\n",
    "    \n",
    "    def is_palindrone(self, data):\n",
    "        \"\"\"\n",
    "        Returns true if data is a palidrone, false otherwise\n",
    "        \"\"\"\n",
    "        return data == data[::-1]"
   ]
  },
  {
   "cell_type": "markdown",
   "metadata": {},
   "source": [
    "We've defined a simple class StringUtility, that has three methods: reverse, char_frequency, and is_palidrone. We can begin testing these methods to see if they return the results we expect."
   ]
  },
  {
   "cell_type": "code",
   "execution_count": 2,
   "metadata": {
    "collapsed": false
   },
   "outputs": [
    {
     "name": "stdout",
     "output_type": "stream",
     "text": [
      "gnirtS tseT\n"
     ]
    }
   ],
   "source": [
    "stringUtil = StringUtility()\n",
    "\n",
    "print(stringUtil.reverse(\"Test String\"))"
   ]
  },
  {
   "cell_type": "code",
   "execution_count": 3,
   "metadata": {
    "collapsed": false
   },
   "outputs": [
    {
     "name": "stdout",
     "output_type": "stream",
     "text": [
      "2\n"
     ]
    }
   ],
   "source": [
    "print(stringUtil.char_frequency(\"Test String\", \"t\"))"
   ]
  },
  {
   "cell_type": "markdown",
   "metadata": {},
   "source": [
    "Note: The char \"t\" is different from the char \"T\", so the count is 2 instead of 3."
   ]
  },
  {
   "cell_type": "code",
   "execution_count": 4,
   "metadata": {
    "collapsed": false
   },
   "outputs": [
    {
     "name": "stdout",
     "output_type": "stream",
     "text": [
      "False\n"
     ]
    }
   ],
   "source": [
    "print(stringUtil.is_palindrone(\"Test String\"))"
   ]
  },
  {
   "cell_type": "code",
   "execution_count": 5,
   "metadata": {
    "collapsed": false
   },
   "outputs": [
    {
     "name": "stdout",
     "output_type": "stream",
     "text": [
      "True\n"
     ]
    }
   ],
   "source": [
    "print(stringUtil.is_palindrone(\"otto\"))"
   ]
  },
  {
   "cell_type": "markdown",
   "metadata": {},
   "source": [
    "## Simple Test Class"
   ]
  },
  {
   "cell_type": "markdown",
   "metadata": {},
   "source": [
    "To automate tests like these, we will make use of the TestCase class, provided by the package unittest.  A TestCase represents a individual unit of testing.  We must create our own subclass of TestCase, including methods that perform the tests we design."
   ]
  },
  {
   "cell_type": "code",
   "execution_count": 2,
   "metadata": {
    "collapsed": false
   },
   "outputs": [
    {
     "name": "stderr",
     "output_type": "stream",
     "text": [
      "...\n",
      "----------------------------------------------------------------------\n",
      "Ran 3 tests in 0.002s\n",
      "\n",
      "OK\n"
     ]
    }
   ],
   "source": [
    "import unittest\n",
    "\n",
    "class TestStringUtility(unittest.TestCase):\n",
    "    \n",
    "    def setUp(self):\n",
    "        self.stringUtil = StringUtility()\n",
    "    \n",
    "    def test_reverse(self):\n",
    "        self.assertEqual(self.stringUtil.reverse(\"Test String\"), \"gnirtS tseT\")\n",
    "        self.assertEqual(self.stringUtil.reverse(\"Otto\"), \"ottO\")\n",
    "        self.assertEqual(self.stringUtil.reverse(\"\"), \"\")\n",
    "        self.assertEqual(self.stringUtil.reverse(\"  \"), \"  \")\n",
    "        \n",
    "    def test_char_frequency(self):\n",
    "        self.assertEqual(self.stringUtil.char_frequency(\"Test String\", \"t\"), 2)\n",
    "        \n",
    "    def test_is_palindrone(self):\n",
    "        self.assertTrue(self.stringUtil.is_palindrone(\"otto\"))\n",
    "\n",
    "\n",
    "if __name__ == \"__main__\":\n",
    "    testStringUtil = TestStringUtility()\n",
    "    suite = unittest.TestLoader().loadTestsFromModule(testStringUtil)\n",
    "    unittest.TextTestRunner().run(suite)\n"
   ]
  },
  {
   "cell_type": "markdown",
   "metadata": {
    "collapsed": false
   },
   "source": [
    "Let's examine the components of our TestCase subclass.\n",
    "\n",
    "### setUp and tearDown\n",
    "\n",
    "First, we can include a setUP method in our class.  The code in this method will be run before each test method is executed.  This is a good place to create any objects that you need in order to run each test. In this case, we create an instance of the StringUtility class so that our test can test the StringUtility class.\n",
    "\n",
    "We could also have included the method `tearDown(self)`. This method would be executed after each test method completed.  You can use this function to do any needed cleanup, such as closing a connection to a database.  In this case, we don't have any cleanup to do, so we can omit the tearDown method.\n",
    "\n",
    "### Test functions\n",
    "\n",
    "We next create a set of methods to perform our tests.  Notice that each of these begins with the word 'test'.  This is important because it tells the unittest package that these methods should be included as part of testing.  Typically, we'll prepend \"test_\" to the function we are evaluating.  For example, \"test_reverse(self)\" is designed to test the StringUtility.reverse(self) function.\n",
    "\n",
    "Within each test method, we call special assert methods that check to see if we get a particular output for a given function call.  We don't have to worry about how these methods work, just know that they'll alert us if we don't get the results we want.\n",
    "\n",
    "As an example, self.assertEqual checks whether its two parameters are equal.  If they are not, the test will fail.\n",
    "\n",
    "With the statement,\n",
    "\n",
    "`self.assertEqual(self.stringUtil.reverse(\"Test String\"), \"gnirtS tseT\")`\n",
    "\n",
    "we are testing whether the stringUtil.reverse function returns the correct result on the input \"Test String\".  The correct output is provided as the second argument in the function call. There is a whole set of [assert functions that you can use](https://docs.python.org/3/library/unittest.html#unittest.TestCase.assertEqual)."
   ]
  },
  {
   "cell_type": "markdown",
   "metadata": {},
   "source": [
    "### Running tests from the command line\n",
    "\n",
    "There are a few ways that we can run test cases. We can explicitly create our TestSuite:\n",
    "\n",
    "`suite = unittest.TestLoader().loadTestsFromModule(testStringUtil)`\n",
    "\n",
    "that we pass to a TestRunner to run our tests.\n",
    "\n",
    "`unittest.TextTestRunner().run(suite)`\n",
    "\n",
    "Typically we use the TextTestRunner to run our tests and print out the results in plaintext."
   ]
  },
  {
   "cell_type": "markdown",
   "metadata": {},
   "source": [
    "Typically you would run your test cases from the command line, so the StringUtility and TestStringUtility modules have been saved in the stringutility folder."
   ]
  },
  {
   "cell_type": "code",
   "execution_count": 7,
   "metadata": {
    "collapsed": false
   },
   "outputs": [
    {
     "name": "stdout",
     "output_type": "stream",
     "text": [
      "class StringUtility(object):\r\n",
      "    \r\n",
      "    def reverse(self, data):\r\n",
      "        \"\"\"\r\n",
      "        Return the reverse of the string\r\n",
      "        \"\"\"\r\n",
      "        return data[::-1]\r\n",
      "    \r\n",
      "    def char_frequency(self, data, char):\r\n",
      "        \"\"\"\r\n",
      "        Return the number times char is in data\r\n",
      "        \"\"\"\r\n",
      "        return data.count(char)\r\n",
      "    \r\n",
      "    def is_palindrone(self, data):\r\n",
      "        \"\"\"\r\n",
      "        Returns true if data is a palidrone, false otherwise\r\n",
      "        \"\"\"\r\n",
      "        return data == data[::-1]"
     ]
    }
   ],
   "source": [
    "!cat stringutility/stringutility.py"
   ]
  },
  {
   "cell_type": "code",
   "execution_count": 8,
   "metadata": {
    "collapsed": false
   },
   "outputs": [
    {
     "name": "stdout",
     "output_type": "stream",
     "text": [
      "import unittest\r\n",
      "from stringutility import StringUtility\r\n",
      "\r\n",
      "class TestStringUtility(unittest.TestCase):\r\n",
      "    \r\n",
      "    def setUp(self):\r\n",
      "        self.stringUtil = StringUtility()\r\n",
      "    \r\n",
      "    def test_reverse(self):\r\n",
      "        self.assertEqual(self.stringUtil.reverse(\"Test String\"), \"gnirtS tseT\")\r\n",
      "        self.assertEqual(self.stringUtil.reverse(\"Otto\"), \"ottO\")\r\n",
      "        self.assertEqual(self.stringUtil.reverse(\"\"), \"\")\r\n",
      "        self.assertEqual(self.stringUtil.reverse(\"  \"), \"  \")\r\n",
      "        \r\n",
      "    def test_char_frequency(self):\r\n",
      "        self.assertEqual(self.stringUtil.char_frequency(\"Test String\", \"t\"), 2)\r\n",
      "        \r\n",
      "    def test_is_palindrone(self):\r\n",
      "        self.assertTrue(self.stringUtil.is_palindrone(\"otto\"))\r\n",
      "\r\n",
      "\r\n",
      "if __name__ == \"__main__\":\r\n",
      "    testStringUtil = TestStringUtility()\r\n",
      "    suite = unittest.TestLoader().loadTestsFromModule(testStringUtil)\r\n",
      "    unittest.TextTestRunner().run(suite)"
     ]
    }
   ],
   "source": [
    "!cat stringutility/test_stringutility.py"
   ]
  },
  {
   "cell_type": "markdown",
   "metadata": {},
   "source": [
    "Note one difference between this code and the code in this IPython Notebook: In test_stringutility.py, we had to import the stringutility module explicitly. We did not have to do that in the IPython Notebook because the StringUtility class was loaded into memory when we first defined it."
   ]
  },
  {
   "cell_type": "markdown",
   "metadata": {},
   "source": [
    "We can now run the same test we ran within the IPython Notebook using the commands below."
   ]
  },
  {
   "cell_type": "code",
   "execution_count": 9,
   "metadata": {
    "collapsed": false
   },
   "outputs": [
    {
     "name": "stdout",
     "output_type": "stream",
     "text": [
      "...\r\n",
      "----------------------------------------------------------------------\r\n",
      "Ran 3 tests in 0.000s\r\n",
      "\r\n",
      "OK\r\n"
     ]
    }
   ],
   "source": [
    "!python -m unittest discover stringutility"
   ]
  },
  {
   "cell_type": "markdown",
   "metadata": {},
   "source": [
    "This command uses Python's built-in unittest discovery functionality.  It will automatically seek out Python files that have the word \"test\" in front of them and run them together as tests. After we invoke `unittest discover`, we have to specify the root folder where we want Python to look for tests."
   ]
  },
  {
   "cell_type": "markdown",
   "metadata": {},
   "source": [
    "This was a simple introduction to writing automated tests. Another topic you may want to look into is mock objects, which are fake objects that you can create to help you isolate your tests.  With mock objects, you don't need to re-create every object your code may need to execute a test. For example, if you wanted to write a test for a function that sends an HTTP request to the GitHub API, you can create a mock object that simulates that call but never actually makes an HTTP request. If you are interested, you can take a look at the [Python standard library](https://docs.python.org/3/library/unittest.mock.html) to see how Python supports mock objects."
   ]
  }
 ],
 "metadata": {
  "kernelspec": {
   "display_name": "Python 3",
   "language": "python",
   "name": "python3"
  },
  "language_info": {
   "codemirror_mode": {
    "name": "ipython",
    "version": 3
   },
   "file_extension": ".py",
   "mimetype": "text/x-python",
   "name": "python",
   "nbconvert_exporter": "python",
   "pygments_lexer": "ipython3",
   "version": "3.4.3"
  }
 },
 "nbformat": 4,
 "nbformat_minor": 0
}
